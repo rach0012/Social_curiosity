{
 "cells": [
  {
   "cell_type": "markdown",
   "metadata": {},
   "source": [
    "# Experiment Two\n",
    "\n",
    "The first study, called `experiment-two`, looked at the effect of social influence on curiousity, using upvotes as proxy for social interest. Below we analyze the responses to test the hypothesis that the same questions, when given higher upvotes, receive higher scores from participants with regards to curiousity. And, further, whether this translates into participants being more likely to choose to view the answers to the questions with higher upvotes.\n",
    "\n",
    "## Analysis"
   ]
  },
  {
   "cell_type": "code",
   "execution_count": 1,
   "metadata": {},
   "outputs": [],
   "source": [
    "import sys\n",
    "enc = sys.getdefaultencoding()"
   ]
  },
  {
   "cell_type": "code",
   "execution_count": 2,
   "metadata": {},
   "outputs": [
    {
     "name": "stderr",
     "output_type": "stream",
     "text": [
      "C:\\Users\\RACH0_000\\Anaconda3\\lib\\site-packages\\pandas\\compat\\_optional.py:106: UserWarning: Pandas requires version '1.2.1' or newer of 'bottleneck' (version '1.0.0' currently installed).\n",
      "  warnings.warn(msg, UserWarning)\n"
     ]
    }
   ],
   "source": [
    "# Analytical Tools\n",
    "import numpy as np\n",
    "import pandas as pd\n",
    "import scipy\n",
    "import matplotlib.pyplot as plt\n",
    "import seaborn as sns\n",
    "from scipy import stats\n",
    "import statsmodels.api as sm\n",
    "\n",
    "# General Utilities\n",
    "import math\n",
    "import json\n",
    "import pprint\n",
    "import itertools\n",
    "import importlib\n",
    "\n",
    "# Custom Utilities\n",
    "import utilities.processing_two as processing\n",
    "import utilities.plotting as plotting\n",
    "import utilities.describe as describe\n",
    "\n",
    "# Some settings\n",
    "from IPython.display import Markdown, display\n",
    "log = pprint.pprint\n",
    "space = lambda: print()\n",
    "printmd = lambda text: display(Markdown(text))\n",
    "%matplotlib inline"
   ]
  },
  {
   "cell_type": "markdown",
   "metadata": {},
   "source": [
    "### Reading Data and Defining Constants"
   ]
  },
  {
   "cell_type": "code",
   "execution_count": 3,
   "metadata": {},
   "outputs": [],
   "source": [
    "FILE_NAMES = [\n",
    "    'raw-data/questions-and-answers-clean.json',\n",
    "    'raw-data/judgments.json',\n",
    "    'raw-data/responses-two.json'\n",
    "]\n",
    "\n",
    "NUM_QUESTIONS, NUM_JUDGEMENTS = 10, 7\n",
    "GROUP_SIZE = NUM_QUESTIONS // 2\n",
    "\n",
    "ALL_LABELS = processing.get_all_labels(NUM_QUESTIONS)\n",
    "LOW_LABELS, HIGH_LABELS = ALL_LABELS[:GROUP_SIZE], ALL_LABELS[GROUP_SIZE:]\n",
    "JUDGMENT_LABELS = processing.get_judgment_labels(NUM_JUDGEMENTS)\n",
    "\n",
    "LITERALS = []\n",
    "for name in FILE_NAMES[:2]:\n",
    "    with open(name,\"r\", encoding = enc) as file:\n",
    "         LITERALS.append(json.load(file))\n",
    "with open(FILE_NAMES[2],\"r\", encoding = enc) as file:\n",
    "    master_responses = [json.loads(line) for line in file if line]"
   ]
  },
  {
   "cell_type": "markdown",
   "metadata": {},
   "source": [
    "### Reading Responses into Data\n",
    "Creates a `DataFrame` based on the survey data."
   ]
  },
  {
   "cell_type": "code",
   "execution_count": 4,
   "metadata": {},
   "outputs": [],
   "source": [
    "col_labels = processing.get_col_labels(NUM_QUESTIONS,\n",
    "                                       NUM_JUDGEMENTS)\n",
    "data = {label: [] for label in col_labels}"
   ]
  },
  {
   "cell_type": "code",
   "execution_count": 5,
   "metadata": {},
   "outputs": [],
   "source": [
    "processing.fill_experiment_three_data(data, master_responses)"
   ]
  },
  {
   "cell_type": "code",
   "execution_count": 6,
   "metadata": {},
   "outputs": [
    {
     "name": "stdout",
     "output_type": "stream",
     "text": [
      "30401 301\n"
     ]
    },
    {
     "data": {
      "text/html": [
       "<div>\n",
       "<style scoped>\n",
       "    .dataframe tbody tr th:only-of-type {\n",
       "        vertical-align: middle;\n",
       "    }\n",
       "\n",
       "    .dataframe tbody tr th {\n",
       "        vertical-align: top;\n",
       "    }\n",
       "\n",
       "    .dataframe thead th {\n",
       "        text-align: right;\n",
       "    }\n",
       "</style>\n",
       "<table border=\"1\" class=\"dataframe\">\n",
       "  <thead>\n",
       "    <tr style=\"text-align: right;\">\n",
       "      <th></th>\n",
       "      <th>consent</th>\n",
       "      <th>high_q0_choice</th>\n",
       "      <th>high_q0_index</th>\n",
       "      <th>high_q0_j0</th>\n",
       "      <th>high_q0_j1</th>\n",
       "      <th>high_q0_j2</th>\n",
       "      <th>high_q0_j3</th>\n",
       "      <th>high_q0_j4</th>\n",
       "      <th>high_q0_j5</th>\n",
       "      <th>high_q0_j6</th>\n",
       "      <th>...</th>\n",
       "      <th>low_q4_choice</th>\n",
       "      <th>low_q4_index</th>\n",
       "      <th>low_q4_j0</th>\n",
       "      <th>low_q4_j1</th>\n",
       "      <th>low_q4_j2</th>\n",
       "      <th>low_q4_j3</th>\n",
       "      <th>low_q4_j4</th>\n",
       "      <th>low_q4_j5</th>\n",
       "      <th>low_q4_j6</th>\n",
       "      <th>low_q4_score</th>\n",
       "    </tr>\n",
       "  </thead>\n",
       "  <tbody>\n",
       "    <tr>\n",
       "      <th>0</th>\n",
       "      <td>1</td>\n",
       "      <td>1</td>\n",
       "      <td>38</td>\n",
       "      <td>3</td>\n",
       "      <td>3</td>\n",
       "      <td>2</td>\n",
       "      <td>1</td>\n",
       "      <td>3</td>\n",
       "      <td>4</td>\n",
       "      <td>2</td>\n",
       "      <td>...</td>\n",
       "      <td>0</td>\n",
       "      <td>12</td>\n",
       "      <td>4</td>\n",
       "      <td>3</td>\n",
       "      <td>4</td>\n",
       "      <td>2</td>\n",
       "      <td>3</td>\n",
       "      <td>3</td>\n",
       "      <td>1</td>\n",
       "      <td>31</td>\n",
       "    </tr>\n",
       "    <tr>\n",
       "      <th>1</th>\n",
       "      <td>1</td>\n",
       "      <td>0</td>\n",
       "      <td>21</td>\n",
       "      <td>3</td>\n",
       "      <td>3</td>\n",
       "      <td>3</td>\n",
       "      <td>3</td>\n",
       "      <td>3</td>\n",
       "      <td>3</td>\n",
       "      <td>4</td>\n",
       "      <td>...</td>\n",
       "      <td>1</td>\n",
       "      <td>10</td>\n",
       "      <td>3</td>\n",
       "      <td>3</td>\n",
       "      <td>3</td>\n",
       "      <td>3</td>\n",
       "      <td>3</td>\n",
       "      <td>4</td>\n",
       "      <td>3</td>\n",
       "      <td>33</td>\n",
       "    </tr>\n",
       "    <tr>\n",
       "      <th>2</th>\n",
       "      <td>1</td>\n",
       "      <td>1</td>\n",
       "      <td>31</td>\n",
       "      <td>4</td>\n",
       "      <td>1</td>\n",
       "      <td>3</td>\n",
       "      <td>3</td>\n",
       "      <td>5</td>\n",
       "      <td>2</td>\n",
       "      <td>2</td>\n",
       "      <td>...</td>\n",
       "      <td>1</td>\n",
       "      <td>0</td>\n",
       "      <td>2</td>\n",
       "      <td>2</td>\n",
       "      <td>3</td>\n",
       "      <td>3</td>\n",
       "      <td>3</td>\n",
       "      <td>1</td>\n",
       "      <td>2</td>\n",
       "      <td>22</td>\n",
       "    </tr>\n",
       "    <tr>\n",
       "      <th>3</th>\n",
       "      <td>1</td>\n",
       "      <td>0</td>\n",
       "      <td>41</td>\n",
       "      <td>4</td>\n",
       "      <td>4</td>\n",
       "      <td>1</td>\n",
       "      <td>4</td>\n",
       "      <td>4</td>\n",
       "      <td>3</td>\n",
       "      <td>2</td>\n",
       "      <td>...</td>\n",
       "      <td>1</td>\n",
       "      <td>15</td>\n",
       "      <td>2</td>\n",
       "      <td>1</td>\n",
       "      <td>4</td>\n",
       "      <td>4</td>\n",
       "      <td>1</td>\n",
       "      <td>3</td>\n",
       "      <td>3</td>\n",
       "      <td>18</td>\n",
       "    </tr>\n",
       "    <tr>\n",
       "      <th>4</th>\n",
       "      <td>1</td>\n",
       "      <td>1</td>\n",
       "      <td>37</td>\n",
       "      <td>3</td>\n",
       "      <td>3</td>\n",
       "      <td>4</td>\n",
       "      <td>4</td>\n",
       "      <td>3</td>\n",
       "      <td>1</td>\n",
       "      <td>2</td>\n",
       "      <td>...</td>\n",
       "      <td>0</td>\n",
       "      <td>18</td>\n",
       "      <td>3</td>\n",
       "      <td>4</td>\n",
       "      <td>4</td>\n",
       "      <td>3</td>\n",
       "      <td>3</td>\n",
       "      <td>2</td>\n",
       "      <td>3</td>\n",
       "      <td>30</td>\n",
       "    </tr>\n",
       "  </tbody>\n",
       "</table>\n",
       "<p>5 rows × 101 columns</p>\n",
       "</div>"
      ],
      "text/plain": [
       "   consent  high_q0_choice  high_q0_index  high_q0_j0  high_q0_j1  high_q0_j2  \\\n",
       "0        1               1             38           3           3           2   \n",
       "1        1               0             21           3           3           3   \n",
       "2        1               1             31           4           1           3   \n",
       "3        1               0             41           4           4           1   \n",
       "4        1               1             37           3           3           4   \n",
       "\n",
       "   high_q0_j3  high_q0_j4  high_q0_j5  high_q0_j6  ...  low_q4_choice  \\\n",
       "0           1           3           4           2  ...              0   \n",
       "1           3           3           3           4  ...              1   \n",
       "2           3           5           2           2  ...              1   \n",
       "3           4           4           3           2  ...              1   \n",
       "4           4           3           1           2  ...              0   \n",
       "\n",
       "   low_q4_index  low_q4_j0  low_q4_j1  low_q4_j2  low_q4_j3  low_q4_j4  \\\n",
       "0            12          4          3          4          2          3   \n",
       "1            10          3          3          3          3          3   \n",
       "2             0          2          2          3          3          3   \n",
       "3            15          2          1          4          4          1   \n",
       "4            18          3          4          4          3          3   \n",
       "\n",
       "   low_q4_j5  low_q4_j6  low_q4_score  \n",
       "0          3          1            31  \n",
       "1          4          3            33  \n",
       "2          1          2            22  \n",
       "3          3          3            18  \n",
       "4          2          3            30  \n",
       "\n",
       "[5 rows x 101 columns]"
      ]
     },
     "execution_count": 6,
     "metadata": {},
     "output_type": "execute_result"
    }
   ],
   "source": [
    "data = pd.DataFrame(data)\n",
    "data = data[data.consent == 1]\n",
    "sample_size = len(data)\n",
    "print(data.size, sample_size)\n",
    "data.head()"
   ]
  },
  {
   "cell_type": "markdown",
   "metadata": {
    "collapsed": true
   },
   "source": [
    "### Examining Participants Without Variance\n",
    "\n",
    "New we consider elimating participants with little to no variance to determine if this had any noticable effect on our results. For example, particpant number two in our study had a variance of 0.2, meaning nearly ever response he or she gave was 3; we remove all such particpants and test for significance in the same way."
   ]
  },
  {
   "cell_type": "code",
   "execution_count": 9,
   "metadata": {
    "scrolled": true
   },
   "outputs": [
    {
     "data": {
      "image/png": "[encoded data removed]",
      "text/plain": [
       "<Figure size 432x288 with 1 Axes>"
      ]
     },
     "metadata": {
      "needs_background": "light"
     },
     "output_type": "display_data"
    }
   ],
   "source": [
    "all_judgment_headers = ['{}_{}'.format(q_label, j_label) for \n",
    "                        q_label, j_label in itertools.product(\n",
    "                            ALL_LABELS, JUDGMENT_LABELS)]\n",
    "data['total_var'] = data[all_judgment_headers].std(axis=1)\n",
    "plt.hist(data['total_var'])\n",
    "plt.show()"
   ]
  },
  {
   "cell_type": "code",
   "execution_count": 8,
   "metadata": {},
   "outputs": [
    {
     "name": "stdout",
     "output_type": "stream",
     "text": [
      "9 eliminated\n"
     ]
    }
   ],
   "source": [
    "data = data[data.total_var > 0.75]\n",
    "print('{} eliminated'.format(sample_size - len(data)))"
   ]
  },
  {
   "cell_type": "markdown",
   "metadata": {},
   "source": [
    "### Simple T-Tests\n",
    "We first attempt to replicate the results of the first experiment by once again conducting a paired samples t-test."
   ]
  },
  {
   "cell_type": "code",
   "execution_count": 7,
   "metadata": {},
   "outputs": [
    {
     "name": "stderr",
     "output_type": "stream",
     "text": [
      "C:\\Users\\RACH0_000\\Anaconda3\\lib\\site-packages\\pandas\\compat\\_optional.py:106: UserWarning: Pandas requires version '2.6.2' or newer of 'numexpr' (version '2.4.6' currently installed).\n",
      "  warnings.warn(msg, UserWarning)\n"
     ]
    }
   ],
   "source": [
    "# Update the table with intermediate values\n",
    "low_means, low_err = [], []\n",
    "high_means, high_err = [], []\n",
    "sample_size = len(data)\n",
    "\n",
    "for j_label in JUDGMENT_LABELS:\n",
    "    low_headers = ['{}_{}'.format(q_label, j_label) for q_label in LOW_LABELS]\n",
    "    high_headers = ['{}_{}'.format(q_label, j_label) for q_label in HIGH_LABELS]\n",
    "    low_data = data[low_headers].mean(axis=1)\n",
    "    high_data = data[high_headers].mean(axis=1)\n",
    "    \n",
    "    data['{}_low'.format(j_label)] = low_data\n",
    "    data['{}_high'.format(j_label)] = high_data\n",
    "    data['{}_diff'.format(j_label)] = high_data - low_data\n",
    "    \n",
    "    low_means.append(low_data.mean())\n",
    "    low_err.append(low_data.std() / math.sqrt(sample_size))\n",
    "    high_means.append(high_data.mean())\n",
    "    high_err.append(high_data.std() / math.sqrt(sample_size))"
   ]
  },
  {
   "cell_type": "code",
   "execution_count": 8,
   "metadata": {},
   "outputs": [
    {
     "name": "stdout",
     "output_type": "stream",
     "text": [
      "Curiosity: t = -6.7, p = 1.03e-10 (1 greater)\n",
      "Confidence: t = 0.0618, p = 0.951 (0 greater)\n",
      "Usefulness: t = -4.85, p = 1.95e-06 (1 greater)\n",
      "Popularity: t = -22.3, p = 1.42e-65 (1 greater)\n",
      "Writing: t = -5.55, p = 6.2e-08 (1 greater)\n",
      "Surprise: t = -6.45, p = 4.37e-10 (1 greater)\n",
      "Social Utility: t = -6.37, p = 7.21e-10 (1 greater)\n"
     ]
    },
    {
     "data": {
      "image/png": "[encoded data removed]",
      "text/plain": [
       "<Figure size 864x432 with 1 Axes>"
      ]
     },
     "metadata": {
      "needs_background": "light"
     },
     "output_type": "display_data"
    },
    {
     "name": "stdout",
     "output_type": "stream",
     "text": [
      "[0.44451827242524944, -0.0033222591362123133, 0.27574750830564776, 2.1986710963455156, 0.24916943521594703, 0.5122923588039869, 0.3395348837209302]\n"
     ]
    }
   ],
   "source": [
    "# Compute averages, run t-test and plot\n",
    "PLOTTING_OPTIONS = {\n",
    "    'y_label': 'Ratings',\n",
    "    'ticks': ['Curiosity', 'Confidence', 'Usefulness',\n",
    "              'Popularity', 'Writing', 'Surprise', 'Social Utility'],\n",
    "    'legend': ['Low Scores', 'High Scores'],\n",
    "    'title': 'All Questions',\n",
    "    'size': (12, 6)\n",
    "}\n",
    "\n",
    "for index, j_label in enumerate(JUDGMENT_LABELS):\n",
    "    low_data = data['{}_low'.format(j_label)]\n",
    "    high_data = data['{}_high'.format(j_label)]\n",
    "    print('{}: {}'.format(PLOTTING_OPTIONS['ticks'][index],\n",
    "                          describe.paired_t_test(low_data, high_data)))\n",
    "    \n",
    "plotting.plot_double_bar(low_means, low_err, high_means,\n",
    "                         high_err, **PLOTTING_OPTIONS)\n",
    "\n",
    "c = [a_i - b_i for a_i, b_i in zip(high_means, low_means)]\n",
    "print(c)"
   ]
  },
  {
   "cell_type": "code",
   "execution_count": 9,
   "metadata": {},
   "outputs": [
    {
     "name": "stdout",
     "output_type": "stream",
     "text": [
      "Curiosity Effect Size\n",
      "0.44451827242524944\n"
     ]
    }
   ],
   "source": [
    "print('Curiosity Effect Size')\n",
    "print(high_means[0] - low_means[0])"
   ]
  },
  {
   "cell_type": "code",
   "execution_count": 10,
   "metadata": {
    "scrolled": true
   },
   "outputs": [
    {
     "data": {
      "image/png": "[encoded data removed]",
      "text/plain": [
       "<Figure size 432x288 with 1 Axes>"
      ]
     },
     "metadata": {
      "needs_background": "light"
     },
     "output_type": "display_data"
    },
    {
     "name": "stdout",
     "output_type": "stream",
     "text": [
      "0.5475083056478406\n",
      "t = 4.25, p = 2.87e-05 (greater)\n",
      "Effect size: 0.09501661129568117\n"
     ]
    }
   ],
   "source": [
    "PLOTTING_OPTIONS = {\n",
    "    'y_label': 'Proportion',\n",
    "    'ticks': ['Low Scores', 'High Scores'],\n",
    "    'title': 'Question Selection'\n",
    "}\n",
    "\n",
    "low_choice_labels = ['{}_choice'.format(q_label) for q_label in LOW_LABELS]\n",
    "high_choice_labels = ['{}_choice'.format(q_label) for q_label in HIGH_LABELS]\n",
    "low_choice_means = data[low_choice_labels].mean(axis=1)\n",
    "high_choice_means = data[high_choice_labels].mean(axis=1)\n",
    "data['low_choice'] = low_choice_means\n",
    "data['high_choice'] = high_choice_means\n",
    "low_mean = low_choice_means.mean()\n",
    "high_mean = high_choice_means.mean()\n",
    "\n",
    "plotting.plot_single_bar(\n",
    "    [low_mean, high_mean],\n",
    "    [low_choice_means.std() / math.sqrt(sample_size),\n",
    "    high_choice_means.std() / math.sqrt(sample_size)],\n",
    "    **PLOTTING_OPTIONS)\n",
    "\n",
    "print(high_choice_means.mean())\n",
    "print(describe.one_sample_t_test(high_choice_means, 0.5))\n",
    "print('Effect size: {}'.format(high_mean - low_mean))"
   ]
  },
  {
   "cell_type": "markdown",
   "metadata": {},
   "source": [
    "### Mediation Analysis"
   ]
  },
  {
   "cell_type": "code",
   "execution_count": 17,
   "metadata": {
    "scrolled": false
   },
   "outputs": [],
   "source": [
    "# Aggreate all questions and choice\n",
    "columns = [\n",
    "    'votes', 'curiosity', 'confidence', 'usefulness', 'popularity',\n",
    "    'writing', 'surprise', 'social_utility', 'choice']\n",
    "flattened_data = {col: [] for col in columns}\n",
    "\n",
    "for index, row in data.iterrows():\n",
    "    for q_label in ALL_LABELS:\n",
    "        level = 1 if row['{}_score'.format(q_label)] > 240.9 else 0\n",
    "        flattened_data[columns[0]].append(level)\n",
    "        flattened_data[columns[1]].append(row['{}_j0'.format(q_label)])\n",
    "        flattened_data[columns[2]].append(row['{}_j1'.format(q_label)])\n",
    "        flattened_data[columns[3]].append(row['{}_j2'.format(q_label)])\n",
    "        flattened_data[columns[4]].append(row['{}_j3'.format(q_label)])\n",
    "        flattened_data[columns[5]].append(row['{}_j4'.format(q_label)])\n",
    "        flattened_data[columns[6]].append(row['{}_j5'.format(q_label)])\n",
    "        flattened_data[columns[7]].append(row['{}_j6'.format(q_label)])\n",
    "        flattened_data[columns[8]].append(row['{}_choice'.format(q_label)])"
   ]
  },
  {
   "cell_type": "code",
   "execution_count": 18,
   "metadata": {},
   "outputs": [
    {
     "data": {
      "text/html": [
       "<div>\n",
       "<style scoped>\n",
       "    .dataframe tbody tr th:only-of-type {\n",
       "        vertical-align: middle;\n",
       "    }\n",
       "\n",
       "    .dataframe tbody tr th {\n",
       "        vertical-align: top;\n",
       "    }\n",
       "\n",
       "    .dataframe thead th {\n",
       "        text-align: right;\n",
       "    }\n",
       "</style>\n",
       "<table border=\"1\" class=\"dataframe\">\n",
       "  <thead>\n",
       "    <tr style=\"text-align: right;\">\n",
       "      <th></th>\n",
       "      <th>choice</th>\n",
       "      <th>confidence</th>\n",
       "      <th>curiosity</th>\n",
       "      <th>popularity</th>\n",
       "      <th>social_utility</th>\n",
       "      <th>surprise</th>\n",
       "      <th>usefulness</th>\n",
       "      <th>votes</th>\n",
       "      <th>writing</th>\n",
       "    </tr>\n",
       "  </thead>\n",
       "  <tbody>\n",
       "    <tr>\n",
       "      <th>0</th>\n",
       "      <td>1.0</td>\n",
       "      <td>4.0</td>\n",
       "      <td>4.0</td>\n",
       "      <td>5.0</td>\n",
       "      <td>2.0</td>\n",
       "      <td>2.0</td>\n",
       "      <td>3.0</td>\n",
       "      <td>0</td>\n",
       "      <td>2.0</td>\n",
       "    </tr>\n",
       "    <tr>\n",
       "      <th>1</th>\n",
       "      <td>1.0</td>\n",
       "      <td>2.0</td>\n",
       "      <td>4.0</td>\n",
       "      <td>2.0</td>\n",
       "      <td>1.0</td>\n",
       "      <td>5.0</td>\n",
       "      <td>4.0</td>\n",
       "      <td>0</td>\n",
       "      <td>4.0</td>\n",
       "    </tr>\n",
       "    <tr>\n",
       "      <th>2</th>\n",
       "      <td>0.0</td>\n",
       "      <td>2.0</td>\n",
       "      <td>4.0</td>\n",
       "      <td>5.0</td>\n",
       "      <td>1.0</td>\n",
       "      <td>4.0</td>\n",
       "      <td>2.0</td>\n",
       "      <td>0</td>\n",
       "      <td>2.0</td>\n",
       "    </tr>\n",
       "    <tr>\n",
       "      <th>3</th>\n",
       "      <td>0.0</td>\n",
       "      <td>2.0</td>\n",
       "      <td>4.0</td>\n",
       "      <td>5.0</td>\n",
       "      <td>4.0</td>\n",
       "      <td>3.0</td>\n",
       "      <td>4.0</td>\n",
       "      <td>0</td>\n",
       "      <td>2.0</td>\n",
       "    </tr>\n",
       "    <tr>\n",
       "      <th>4</th>\n",
       "      <td>0.0</td>\n",
       "      <td>3.0</td>\n",
       "      <td>4.0</td>\n",
       "      <td>2.0</td>\n",
       "      <td>1.0</td>\n",
       "      <td>3.0</td>\n",
       "      <td>4.0</td>\n",
       "      <td>0</td>\n",
       "      <td>3.0</td>\n",
       "    </tr>\n",
       "  </tbody>\n",
       "</table>\n",
       "</div>"
      ],
      "text/plain": [
       "   choice  confidence  curiosity  popularity  social_utility  surprise  \\\n",
       "0     1.0         4.0        4.0         5.0             2.0       2.0   \n",
       "1     1.0         2.0        4.0         2.0             1.0       5.0   \n",
       "2     0.0         2.0        4.0         5.0             1.0       4.0   \n",
       "3     0.0         2.0        4.0         5.0             4.0       3.0   \n",
       "4     0.0         3.0        4.0         2.0             1.0       3.0   \n",
       "\n",
       "   usefulness  votes  writing  \n",
       "0         3.0      0      2.0  \n",
       "1         4.0      0      4.0  \n",
       "2         2.0      0      2.0  \n",
       "3         4.0      0      2.0  \n",
       "4         4.0      0      3.0  "
      ]
     },
     "execution_count": 18,
     "metadata": {},
     "output_type": "execute_result"
    }
   ],
   "source": [
    "new_data = pd.DataFrame(flattened_data)\n",
    "new_data.head()"
   ]
  },
  {
   "cell_type": "code",
   "execution_count": 19,
   "metadata": {},
   "outputs": [
    {
     "name": "stderr",
     "output_type": "stream",
     "text": [
      "C:\\Users\\RACH0_000\\Anaconda3\\lib\\site-packages\\numpy\\core\\fromnumeric.py:2542: FutureWarning: Method .ptp is deprecated and will be removed in a future version. Use numpy.ptp instead.\n",
      "  return ptp(axis=axis, out=out, **kwargs)\n"
     ]
    },
    {
     "name": "stdout",
     "output_type": "stream",
     "text": [
      "Optimization terminated successfully.\n",
      "         Current function value: 0.621919\n",
      "         Iterations 5\n"
     ]
    },
    {
     "data": {
      "text/html": [
       "<table class=\"simpletable\">\n",
       "<caption>Logit Regression Results</caption>\n",
       "<tr>\n",
       "  <th>Dep. Variable:</th>        <td>choice</td>      <th>  No. Observations:  </th>  <td>  3010</td>  \n",
       "</tr>\n",
       "<tr>\n",
       "  <th>Model:</th>                 <td>Logit</td>      <th>  Df Residuals:      </th>  <td>  3003</td>  \n",
       "</tr>\n",
       "<tr>\n",
       "  <th>Method:</th>                 <td>MLE</td>       <th>  Df Model:          </th>  <td>     6</td>  \n",
       "</tr>\n",
       "<tr>\n",
       "  <th>Date:</th>            <td>Sat, 11 Jul 2020</td> <th>  Pseudo R-squ.:     </th>  <td>0.1028</td>  \n",
       "</tr>\n",
       "<tr>\n",
       "  <th>Time:</th>                <td>18:05:16</td>     <th>  Log-Likelihood:    </th> <td> -1872.0</td> \n",
       "</tr>\n",
       "<tr>\n",
       "  <th>converged:</th>             <td>True</td>       <th>  LL-Null:           </th> <td> -2086.4</td> \n",
       "</tr>\n",
       "<tr>\n",
       "  <th>Covariance Type:</th>     <td>nonrobust</td>    <th>  LLR p-value:       </th> <td>1.794e-89</td>\n",
       "</tr>\n",
       "</table>\n",
       "<table class=\"simpletable\">\n",
       "<tr>\n",
       "         <td></td>           <th>coef</th>     <th>std err</th>      <th>z</th>      <th>P>|z|</th>  <th>[0.025</th>    <th>0.975]</th>  \n",
       "</tr>\n",
       "<tr>\n",
       "  <th>const</th>          <td>   -1.1432</td> <td>    0.105</td> <td>  -10.926</td> <td> 0.000</td> <td>   -1.348</td> <td>   -0.938</td>\n",
       "</tr>\n",
       "<tr>\n",
       "  <th>curiosity</th>      <td>    0.3400</td> <td>    0.027</td> <td>   12.735</td> <td> 0.000</td> <td>    0.288</td> <td>    0.392</td>\n",
       "</tr>\n",
       "<tr>\n",
       "  <th>confidence</th>     <td>   -0.0995</td> <td>    0.023</td> <td>   -4.363</td> <td> 0.000</td> <td>   -0.144</td> <td>   -0.055</td>\n",
       "</tr>\n",
       "<tr>\n",
       "  <th>usefulness</th>     <td>    0.0663</td> <td>    0.033</td> <td>    2.023</td> <td> 0.043</td> <td>    0.002</td> <td>    0.131</td>\n",
       "</tr>\n",
       "<tr>\n",
       "  <th>popularity</th>     <td>    0.0307</td> <td>    0.022</td> <td>    1.387</td> <td> 0.165</td> <td>   -0.013</td> <td>    0.074</td>\n",
       "</tr>\n",
       "<tr>\n",
       "  <th>surprise</th>       <td>   -0.0430</td> <td>    0.022</td> <td>   -1.996</td> <td> 0.046</td> <td>   -0.085</td> <td>   -0.001</td>\n",
       "</tr>\n",
       "<tr>\n",
       "  <th>social_utility</th> <td>    0.0400</td> <td>    0.032</td> <td>    1.231</td> <td> 0.218</td> <td>   -0.024</td> <td>    0.104</td>\n",
       "</tr>\n",
       "</table>"
      ],
      "text/plain": [
       "<class 'statsmodels.iolib.summary.Summary'>\n",
       "\"\"\"\n",
       "                           Logit Regression Results                           \n",
       "==============================================================================\n",
       "Dep. Variable:                 choice   No. Observations:                 3010\n",
       "Model:                          Logit   Df Residuals:                     3003\n",
       "Method:                           MLE   Df Model:                            6\n",
       "Date:                Sat, 11 Jul 2020   Pseudo R-squ.:                  0.1028\n",
       "Time:                        18:05:16   Log-Likelihood:                -1872.0\n",
       "converged:                       True   LL-Null:                       -2086.4\n",
       "Covariance Type:            nonrobust   LLR p-value:                 1.794e-89\n",
       "==================================================================================\n",
       "                     coef    std err          z      P>|z|      [0.025      0.975]\n",
       "----------------------------------------------------------------------------------\n",
       "const             -1.1432      0.105    -10.926      0.000      -1.348      -0.938\n",
       "curiosity          0.3400      0.027     12.735      0.000       0.288       0.392\n",
       "confidence        -0.0995      0.023     -4.363      0.000      -0.144      -0.055\n",
       "usefulness         0.0663      0.033      2.023      0.043       0.002       0.131\n",
       "popularity         0.0307      0.022      1.387      0.165      -0.013       0.074\n",
       "surprise          -0.0430      0.022     -1.996      0.046      -0.085      -0.001\n",
       "social_utility     0.0400      0.032      1.231      0.218      -0.024       0.104\n",
       "==================================================================================\n",
       "\"\"\""
      ]
     },
     "metadata": {},
     "output_type": "display_data"
    }
   ],
   "source": [
    "all_predictors = [\n",
    "    'curiosity', 'confidence', 'usefulness', 'popularity',\n",
    "    'surprise', 'social_utility'\n",
    "]\n",
    "X = new_data[all_predictors]\n",
    "y = new_data['choice']\n",
    "X = sm.add_constant(X)\n",
    "\n",
    "logit_model = sm.Logit(y, X)\n",
    "results = logit_model.fit()\n",
    "display(results.summary())\n",
    "\n"
   ]
  },
  {
   "cell_type": "code",
   "execution_count": 20,
   "metadata": {
    "scrolled": false
   },
   "outputs": [
    {
     "name": "stdout",
     "output_type": "stream",
     "text": [
      "Optimization terminated successfully.\n",
      "         Current function value: 0.688626\n",
      "         Iterations 4\n"
     ]
    },
    {
     "name": "stderr",
     "output_type": "stream",
     "text": [
      "C:\\Users\\RACH0_000\\Anaconda3\\lib\\site-packages\\numpy\\core\\fromnumeric.py:2542: FutureWarning: Method .ptp is deprecated and will be removed in a future version. Use numpy.ptp instead.\n",
      "  return ptp(axis=axis, out=out, **kwargs)\n"
     ]
    },
    {
     "data": {
      "text/html": [
       "<table class=\"simpletable\">\n",
       "<caption>Logit Regression Results</caption>\n",
       "<tr>\n",
       "  <th>Dep. Variable:</th>        <td>choice</td>      <th>  No. Observations:  </th>  <td>  3010</td>  \n",
       "</tr>\n",
       "<tr>\n",
       "  <th>Model:</th>                 <td>Logit</td>      <th>  Df Residuals:      </th>  <td>  3008</td>  \n",
       "</tr>\n",
       "<tr>\n",
       "  <th>Method:</th>                 <td>MLE</td>       <th>  Df Model:          </th>  <td>     1</td>  \n",
       "</tr>\n",
       "<tr>\n",
       "  <th>Date:</th>            <td>Sat, 11 Jul 2020</td> <th>  Pseudo R-squ.:     </th> <td>0.006522</td> \n",
       "</tr>\n",
       "<tr>\n",
       "  <th>Time:</th>                <td>18:05:19</td>     <th>  Log-Likelihood:    </th> <td> -2072.8</td> \n",
       "</tr>\n",
       "<tr>\n",
       "  <th>converged:</th>             <td>True</td>       <th>  LL-Null:           </th> <td> -2086.4</td> \n",
       "</tr>\n",
       "<tr>\n",
       "  <th>Covariance Type:</th>     <td>nonrobust</td>    <th>  LLR p-value:       </th> <td>1.820e-07</td>\n",
       "</tr>\n",
       "</table>\n",
       "<table class=\"simpletable\">\n",
       "<tr>\n",
       "    <td></td>       <th>coef</th>     <th>std err</th>      <th>z</th>      <th>P>|z|</th>  <th>[0.025</th>    <th>0.975]</th>  \n",
       "</tr>\n",
       "<tr>\n",
       "  <th>const</th> <td>   -0.1906</td> <td>    0.052</td> <td>   -3.681</td> <td> 0.000</td> <td>   -0.292</td> <td>   -0.089</td>\n",
       "</tr>\n",
       "<tr>\n",
       "  <th>votes</th> <td>    0.3812</td> <td>    0.073</td> <td>    5.205</td> <td> 0.000</td> <td>    0.238</td> <td>    0.525</td>\n",
       "</tr>\n",
       "</table>"
      ],
      "text/plain": [
       "<class 'statsmodels.iolib.summary.Summary'>\n",
       "\"\"\"\n",
       "                           Logit Regression Results                           \n",
       "==============================================================================\n",
       "Dep. Variable:                 choice   No. Observations:                 3010\n",
       "Model:                          Logit   Df Residuals:                     3008\n",
       "Method:                           MLE   Df Model:                            1\n",
       "Date:                Sat, 11 Jul 2020   Pseudo R-squ.:                0.006522\n",
       "Time:                        18:05:19   Log-Likelihood:                -2072.8\n",
       "converged:                       True   LL-Null:                       -2086.4\n",
       "Covariance Type:            nonrobust   LLR p-value:                 1.820e-07\n",
       "==============================================================================\n",
       "                 coef    std err          z      P>|z|      [0.025      0.975]\n",
       "------------------------------------------------------------------------------\n",
       "const         -0.1906      0.052     -3.681      0.000      -0.292      -0.089\n",
       "votes          0.3812      0.073      5.205      0.000       0.238       0.525\n",
       "==============================================================================\n",
       "\"\"\""
      ]
     },
     "metadata": {},
     "output_type": "display_data"
    },
    {
     "name": "stdout",
     "output_type": "stream",
     "text": [
      "Optimization terminated successfully.\n",
      "         Current function value: 0.626993\n",
      "         Iterations 5\n"
     ]
    },
    {
     "data": {
      "text/html": [
       "<table class=\"simpletable\">\n",
       "<caption>Logit Regression Results</caption>\n",
       "<tr>\n",
       "  <th>Dep. Variable:</th>        <td>choice</td>      <th>  No. Observations:  </th>  <td>  3010</td>  \n",
       "</tr>\n",
       "<tr>\n",
       "  <th>Model:</th>                 <td>Logit</td>      <th>  Df Residuals:      </th>  <td>  3008</td>  \n",
       "</tr>\n",
       "<tr>\n",
       "  <th>Method:</th>                 <td>MLE</td>       <th>  Df Model:          </th>  <td>     1</td>  \n",
       "</tr>\n",
       "<tr>\n",
       "  <th>Date:</th>            <td>Sat, 11 Jul 2020</td> <th>  Pseudo R-squ.:     </th>  <td>0.09544</td> \n",
       "</tr>\n",
       "<tr>\n",
       "  <th>Time:</th>                <td>18:05:19</td>     <th>  Log-Likelihood:    </th> <td> -1887.2</td> \n",
       "</tr>\n",
       "<tr>\n",
       "  <th>converged:</th>             <td>True</td>       <th>  LL-Null:           </th> <td> -2086.4</td> \n",
       "</tr>\n",
       "<tr>\n",
       "  <th>Covariance Type:</th>     <td>nonrobust</td>    <th>  LLR p-value:       </th> <td>1.326e-88</td>\n",
       "</tr>\n",
       "</table>\n",
       "<table class=\"simpletable\">\n",
       "<tr>\n",
       "      <td></td>         <th>coef</th>     <th>std err</th>      <th>z</th>      <th>P>|z|</th>  <th>[0.025</th>    <th>0.975]</th>  \n",
       "</tr>\n",
       "<tr>\n",
       "  <th>const</th>     <td>   -1.2761</td> <td>    0.079</td> <td>  -16.083</td> <td> 0.000</td> <td>   -1.432</td> <td>   -1.121</td>\n",
       "</tr>\n",
       "<tr>\n",
       "  <th>curiosity</th> <td>    0.3992</td> <td>    0.021</td> <td>   18.677</td> <td> 0.000</td> <td>    0.357</td> <td>    0.441</td>\n",
       "</tr>\n",
       "</table>"
      ],
      "text/plain": [
       "<class 'statsmodels.iolib.summary.Summary'>\n",
       "\"\"\"\n",
       "                           Logit Regression Results                           \n",
       "==============================================================================\n",
       "Dep. Variable:                 choice   No. Observations:                 3010\n",
       "Model:                          Logit   Df Residuals:                     3008\n",
       "Method:                           MLE   Df Model:                            1\n",
       "Date:                Sat, 11 Jul 2020   Pseudo R-squ.:                 0.09544\n",
       "Time:                        18:05:19   Log-Likelihood:                -1887.2\n",
       "converged:                       True   LL-Null:                       -2086.4\n",
       "Covariance Type:            nonrobust   LLR p-value:                 1.326e-88\n",
       "==============================================================================\n",
       "                 coef    std err          z      P>|z|      [0.025      0.975]\n",
       "------------------------------------------------------------------------------\n",
       "const         -1.2761      0.079    -16.083      0.000      -1.432      -1.121\n",
       "curiosity      0.3992      0.021     18.677      0.000       0.357       0.441\n",
       "==============================================================================\n",
       "\"\"\""
      ]
     },
     "metadata": {},
     "output_type": "display_data"
    },
    {
     "name": "stdout",
     "output_type": "stream",
     "text": [
      "Optimization terminated successfully.\n",
      "         Current function value: 0.625291\n",
      "         Iterations 5\n"
     ]
    },
    {
     "data": {
      "text/html": [
       "<table class=\"simpletable\">\n",
       "<caption>Logit Regression Results</caption>\n",
       "<tr>\n",
       "  <th>Dep. Variable:</th>        <td>choice</td>      <th>  No. Observations:  </th>  <td>  3010</td>  \n",
       "</tr>\n",
       "<tr>\n",
       "  <th>Model:</th>                 <td>Logit</td>      <th>  Df Residuals:      </th>  <td>  3007</td>  \n",
       "</tr>\n",
       "<tr>\n",
       "  <th>Method:</th>                 <td>MLE</td>       <th>  Df Model:          </th>  <td>     2</td>  \n",
       "</tr>\n",
       "<tr>\n",
       "  <th>Date:</th>            <td>Sat, 11 Jul 2020</td> <th>  Pseudo R-squ.:     </th>  <td>0.09790</td> \n",
       "</tr>\n",
       "<tr>\n",
       "  <th>Time:</th>                <td>18:05:19</td>     <th>  Log-Likelihood:    </th> <td> -1882.1</td> \n",
       "</tr>\n",
       "<tr>\n",
       "  <th>converged:</th>             <td>True</td>       <th>  LL-Null:           </th> <td> -2086.4</td> \n",
       "</tr>\n",
       "<tr>\n",
       "  <th>Covariance Type:</th>     <td>nonrobust</td>    <th>  LLR p-value:       </th> <td>1.983e-89</td>\n",
       "</tr>\n",
       "</table>\n",
       "<table class=\"simpletable\">\n",
       "<tr>\n",
       "      <td></td>         <th>coef</th>     <th>std err</th>      <th>z</th>      <th>P>|z|</th>  <th>[0.025</th>    <th>0.975]</th>  \n",
       "</tr>\n",
       "<tr>\n",
       "  <th>const</th>     <td>   -1.3823</td> <td>    0.087</td> <td>  -15.953</td> <td> 0.000</td> <td>   -1.552</td> <td>   -1.212</td>\n",
       "</tr>\n",
       "<tr>\n",
       "  <th>votes</th>     <td>    0.2508</td> <td>    0.078</td> <td>    3.201</td> <td> 0.001</td> <td>    0.097</td> <td>    0.404</td>\n",
       "</tr>\n",
       "<tr>\n",
       "  <th>curiosity</th> <td>    0.3932</td> <td>    0.021</td> <td>   18.329</td> <td> 0.000</td> <td>    0.351</td> <td>    0.435</td>\n",
       "</tr>\n",
       "</table>"
      ],
      "text/plain": [
       "<class 'statsmodels.iolib.summary.Summary'>\n",
       "\"\"\"\n",
       "                           Logit Regression Results                           \n",
       "==============================================================================\n",
       "Dep. Variable:                 choice   No. Observations:                 3010\n",
       "Model:                          Logit   Df Residuals:                     3007\n",
       "Method:                           MLE   Df Model:                            2\n",
       "Date:                Sat, 11 Jul 2020   Pseudo R-squ.:                 0.09790\n",
       "Time:                        18:05:19   Log-Likelihood:                -1882.1\n",
       "converged:                       True   LL-Null:                       -2086.4\n",
       "Covariance Type:            nonrobust   LLR p-value:                 1.983e-89\n",
       "==============================================================================\n",
       "                 coef    std err          z      P>|z|      [0.025      0.975]\n",
       "------------------------------------------------------------------------------\n",
       "const         -1.3823      0.087    -15.953      0.000      -1.552      -1.212\n",
       "votes          0.2508      0.078      3.201      0.001       0.097       0.404\n",
       "curiosity      0.3932      0.021     18.329      0.000       0.351       0.435\n",
       "==============================================================================\n",
       "\"\"\""
      ]
     },
     "metadata": {},
     "output_type": "display_data"
    }
   ],
   "source": [
    "# Popularity\n",
    "X = new_data['votes']\n",
    "y = new_data['choice']\n",
    "X = sm.add_constant(X)\n",
    "\n",
    "logit_model = sm.Logit(y, X)\n",
    "results = logit_model.fit()\n",
    "display(results.summary())\n",
    "\n",
    "# Curiosity\n",
    "X = new_data['curiosity']\n",
    "X = sm.add_constant(X)\n",
    "logit_model = sm.Logit(y, X)\n",
    "results = logit_model.fit()\n",
    "display(results.summary())\n",
    "\n",
    "# Both\n",
    "X = new_data[['votes', 'curiosity']]\n",
    "X = sm.add_constant(X)\n",
    "\n",
    "logit_model = sm.Logit(y, X)\n",
    "results = logit_model.fit()\n",
    "display(results.summary())"
   ]
  },
  {
   "cell_type": "code",
   "execution_count": 21,
   "metadata": {
    "scrolled": false
   },
   "outputs": [
    {
     "name": "stderr",
     "output_type": "stream",
     "text": [
      "C:\\Users\\RACH0_000\\Anaconda3\\lib\\site-packages\\numpy\\core\\fromnumeric.py:2542: FutureWarning: Method .ptp is deprecated and will be removed in a future version. Use numpy.ptp instead.\n",
      "  return ptp(axis=axis, out=out, **kwargs)\n"
     ]
    },
    {
     "data": {
      "text/html": [
       "<table class=\"simpletable\">\n",
       "<caption>OLS Regression Results</caption>\n",
       "<tr>\n",
       "  <th>Dep. Variable:</th>        <td>curiosity</td>    <th>  R-squared:         </th> <td>   0.102</td> \n",
       "</tr>\n",
       "<tr>\n",
       "  <th>Model:</th>                   <td>OLS</td>       <th>  Adj. R-squared:    </th> <td>   0.102</td> \n",
       "</tr>\n",
       "<tr>\n",
       "  <th>Method:</th>             <td>Least Squares</td>  <th>  F-statistic:       </th> <td>   341.6</td> \n",
       "</tr>\n",
       "<tr>\n",
       "  <th>Date:</th>             <td>Sat, 11 Jul 2020</td> <th>  Prob (F-statistic):</th> <td>2.54e-72</td> \n",
       "</tr>\n",
       "<tr>\n",
       "  <th>Time:</th>                 <td>18:05:23</td>     <th>  Log-Likelihood:    </th> <td> -6115.2</td> \n",
       "</tr>\n",
       "<tr>\n",
       "  <th>No. Observations:</th>      <td>  3010</td>      <th>  AIC:               </th> <td>1.223e+04</td>\n",
       "</tr>\n",
       "<tr>\n",
       "  <th>Df Residuals:</th>          <td>  3008</td>      <th>  BIC:               </th> <td>1.225e+04</td>\n",
       "</tr>\n",
       "<tr>\n",
       "  <th>Df Model:</th>              <td>     1</td>      <th>                     </th>     <td> </td>    \n",
       "</tr>\n",
       "<tr>\n",
       "  <th>Covariance Type:</th>      <td>nonrobust</td>    <th>                     </th>     <td> </td>    \n",
       "</tr>\n",
       "</table>\n",
       "<table class=\"simpletable\">\n",
       "<tr>\n",
       "       <td></td>         <th>coef</th>     <th>std err</th>      <th>t</th>      <th>P>|t|</th>  <th>[0.025</th>    <th>0.975]</th>  \n",
       "</tr>\n",
       "<tr>\n",
       "  <th>const</th>      <td>    2.2359</td> <td>    0.061</td> <td>   36.633</td> <td> 0.000</td> <td>    2.116</td> <td>    2.356</td>\n",
       "</tr>\n",
       "<tr>\n",
       "  <th>popularity</th> <td>    0.3188</td> <td>    0.017</td> <td>   18.481</td> <td> 0.000</td> <td>    0.285</td> <td>    0.353</td>\n",
       "</tr>\n",
       "</table>\n",
       "<table class=\"simpletable\">\n",
       "<tr>\n",
       "  <th>Omnibus:</th>       <td>220.130</td> <th>  Durbin-Watson:     </th> <td>   1.361</td>\n",
       "</tr>\n",
       "<tr>\n",
       "  <th>Prob(Omnibus):</th> <td> 0.000</td>  <th>  Jarque-Bera (JB):  </th> <td>  98.936</td>\n",
       "</tr>\n",
       "<tr>\n",
       "  <th>Skew:</th>          <td>-0.245</td>  <th>  Prob(JB):          </th> <td>3.28e-22</td>\n",
       "</tr>\n",
       "<tr>\n",
       "  <th>Kurtosis:</th>      <td> 2.259</td>  <th>  Cond. No.          </th> <td>    6.78</td>\n",
       "</tr>\n",
       "</table><br/><br/>Warnings:<br/>[1] Standard Errors assume that the covariance matrix of the errors is correctly specified."
      ],
      "text/plain": [
       "<class 'statsmodels.iolib.summary.Summary'>\n",
       "\"\"\"\n",
       "                            OLS Regression Results                            \n",
       "==============================================================================\n",
       "Dep. Variable:              curiosity   R-squared:                       0.102\n",
       "Model:                            OLS   Adj. R-squared:                  0.102\n",
       "Method:                 Least Squares   F-statistic:                     341.6\n",
       "Date:                Sat, 11 Jul 2020   Prob (F-statistic):           2.54e-72\n",
       "Time:                        18:05:23   Log-Likelihood:                -6115.2\n",
       "No. Observations:                3010   AIC:                         1.223e+04\n",
       "Df Residuals:                    3008   BIC:                         1.225e+04\n",
       "Df Model:                           1                                         \n",
       "Covariance Type:            nonrobust                                         \n",
       "==============================================================================\n",
       "                 coef    std err          t      P>|t|      [0.025      0.975]\n",
       "------------------------------------------------------------------------------\n",
       "const          2.2359      0.061     36.633      0.000       2.116       2.356\n",
       "popularity     0.3188      0.017     18.481      0.000       0.285       0.353\n",
       "==============================================================================\n",
       "Omnibus:                      220.130   Durbin-Watson:                   1.361\n",
       "Prob(Omnibus):                  0.000   Jarque-Bera (JB):               98.936\n",
       "Skew:                          -0.245   Prob(JB):                     3.28e-22\n",
       "Kurtosis:                       2.259   Cond. No.                         6.78\n",
       "==============================================================================\n",
       "\n",
       "Warnings:\n",
       "[1] Standard Errors assume that the covariance matrix of the errors is correctly specified.\n",
       "\"\"\""
      ]
     },
     "metadata": {},
     "output_type": "display_data"
    },
    {
     "data": {
      "text/html": [
       "<table class=\"simpletable\">\n",
       "<caption>OLS Regression Results</caption>\n",
       "<tr>\n",
       "  <th>Dep. Variable:</th>        <td>curiosity</td>    <th>  R-squared:         </th> <td>   0.368</td> \n",
       "</tr>\n",
       "<tr>\n",
       "  <th>Model:</th>                   <td>OLS</td>       <th>  Adj. R-squared:    </th> <td>   0.367</td> \n",
       "</tr>\n",
       "<tr>\n",
       "  <th>Method:</th>             <td>Least Squares</td>  <th>  F-statistic:       </th> <td>   874.3</td> \n",
       "</tr>\n",
       "<tr>\n",
       "  <th>Date:</th>             <td>Sat, 11 Jul 2020</td> <th>  Prob (F-statistic):</th> <td>4.98e-300</td>\n",
       "</tr>\n",
       "<tr>\n",
       "  <th>Time:</th>                 <td>18:05:23</td>     <th>  Log-Likelihood:    </th> <td> -5587.2</td> \n",
       "</tr>\n",
       "<tr>\n",
       "  <th>No. Observations:</th>      <td>  3010</td>      <th>  AIC:               </th> <td>1.118e+04</td>\n",
       "</tr>\n",
       "<tr>\n",
       "  <th>Df Residuals:</th>          <td>  3007</td>      <th>  BIC:               </th> <td>1.120e+04</td>\n",
       "</tr>\n",
       "<tr>\n",
       "  <th>Df Model:</th>              <td>     2</td>      <th>                     </th>     <td> </td>    \n",
       "</tr>\n",
       "<tr>\n",
       "  <th>Covariance Type:</th>      <td>nonrobust</td>    <th>                     </th>     <td> </td>    \n",
       "</tr>\n",
       "</table>\n",
       "<table class=\"simpletable\">\n",
       "<tr>\n",
       "       <td></td>         <th>coef</th>     <th>std err</th>      <th>t</th>      <th>P>|t|</th>  <th>[0.025</th>    <th>0.975]</th>  \n",
       "</tr>\n",
       "<tr>\n",
       "  <th>const</th>      <td>    1.2859</td> <td>    0.058</td> <td>   22.257</td> <td> 0.000</td> <td>    1.173</td> <td>    1.399</td>\n",
       "</tr>\n",
       "<tr>\n",
       "  <th>usefulness</th> <td>    0.5818</td> <td>    0.016</td> <td>   35.548</td> <td> 0.000</td> <td>    0.550</td> <td>    0.614</td>\n",
       "</tr>\n",
       "<tr>\n",
       "  <th>popularity</th> <td>    0.1460</td> <td>    0.015</td> <td>    9.558</td> <td> 0.000</td> <td>    0.116</td> <td>    0.176</td>\n",
       "</tr>\n",
       "</table>\n",
       "<table class=\"simpletable\">\n",
       "<tr>\n",
       "  <th>Omnibus:</th>       <td> 8.329</td> <th>  Durbin-Watson:     </th> <td>   1.552</td>\n",
       "</tr>\n",
       "<tr>\n",
       "  <th>Prob(Omnibus):</th> <td> 0.016</td> <th>  Jarque-Bera (JB):  </th> <td>   9.279</td>\n",
       "</tr>\n",
       "<tr>\n",
       "  <th>Skew:</th>          <td> 0.071</td> <th>  Prob(JB):          </th> <td> 0.00966</td>\n",
       "</tr>\n",
       "<tr>\n",
       "  <th>Kurtosis:</th>      <td> 3.233</td> <th>  Cond. No.          </th> <td>    9.44</td>\n",
       "</tr>\n",
       "</table><br/><br/>Warnings:<br/>[1] Standard Errors assume that the covariance matrix of the errors is correctly specified."
      ],
      "text/plain": [
       "<class 'statsmodels.iolib.summary.Summary'>\n",
       "\"\"\"\n",
       "                            OLS Regression Results                            \n",
       "==============================================================================\n",
       "Dep. Variable:              curiosity   R-squared:                       0.368\n",
       "Model:                            OLS   Adj. R-squared:                  0.367\n",
       "Method:                 Least Squares   F-statistic:                     874.3\n",
       "Date:                Sat, 11 Jul 2020   Prob (F-statistic):          4.98e-300\n",
       "Time:                        18:05:23   Log-Likelihood:                -5587.2\n",
       "No. Observations:                3010   AIC:                         1.118e+04\n",
       "Df Residuals:                    3007   BIC:                         1.120e+04\n",
       "Df Model:                           2                                         \n",
       "Covariance Type:            nonrobust                                         \n",
       "==============================================================================\n",
       "                 coef    std err          t      P>|t|      [0.025      0.975]\n",
       "------------------------------------------------------------------------------\n",
       "const          1.2859      0.058     22.257      0.000       1.173       1.399\n",
       "usefulness     0.5818      0.016     35.548      0.000       0.550       0.614\n",
       "popularity     0.1460      0.015      9.558      0.000       0.116       0.176\n",
       "==============================================================================\n",
       "Omnibus:                        8.329   Durbin-Watson:                   1.552\n",
       "Prob(Omnibus):                  0.016   Jarque-Bera (JB):                9.279\n",
       "Skew:                           0.071   Prob(JB):                      0.00966\n",
       "Kurtosis:                       3.233   Cond. No.                         9.44\n",
       "==============================================================================\n",
       "\n",
       "Warnings:\n",
       "[1] Standard Errors assume that the covariance matrix of the errors is correctly specified.\n",
       "\"\"\""
      ]
     },
     "metadata": {},
     "output_type": "display_data"
    },
    {
     "data": {
      "text/html": [
       "<table class=\"simpletable\">\n",
       "<caption>OLS Regression Results</caption>\n",
       "<tr>\n",
       "  <th>Dep. Variable:</th>        <td>curiosity</td>    <th>  R-squared:         </th> <td>   0.106</td> \n",
       "</tr>\n",
       "<tr>\n",
       "  <th>Model:</th>                   <td>OLS</td>       <th>  Adj. R-squared:    </th> <td>   0.105</td> \n",
       "</tr>\n",
       "<tr>\n",
       "  <th>Method:</th>             <td>Least Squares</td>  <th>  F-statistic:       </th> <td>   178.0</td> \n",
       "</tr>\n",
       "<tr>\n",
       "  <th>Date:</th>             <td>Sat, 11 Jul 2020</td> <th>  Prob (F-statistic):</th> <td>9.09e-74</td> \n",
       "</tr>\n",
       "<tr>\n",
       "  <th>Time:</th>                 <td>18:05:23</td>     <th>  Log-Likelihood:    </th> <td> -6108.8</td> \n",
       "</tr>\n",
       "<tr>\n",
       "  <th>No. Observations:</th>      <td>  3010</td>      <th>  AIC:               </th> <td>1.222e+04</td>\n",
       "</tr>\n",
       "<tr>\n",
       "  <th>Df Residuals:</th>          <td>  3007</td>      <th>  BIC:               </th> <td>1.224e+04</td>\n",
       "</tr>\n",
       "<tr>\n",
       "  <th>Df Model:</th>              <td>     2</td>      <th>                     </th>     <td> </td>    \n",
       "</tr>\n",
       "<tr>\n",
       "  <th>Covariance Type:</th>      <td>nonrobust</td>    <th>                     </th>     <td> </td>    \n",
       "</tr>\n",
       "</table>\n",
       "<table class=\"simpletable\">\n",
       "<tr>\n",
       "       <td></td>         <th>coef</th>     <th>std err</th>      <th>t</th>      <th>P>|t|</th>  <th>[0.025</th>    <th>0.975]</th>  \n",
       "</tr>\n",
       "<tr>\n",
       "  <th>const</th>      <td>    2.0887</td> <td>    0.073</td> <td>   28.479</td> <td> 0.000</td> <td>    1.945</td> <td>    2.233</td>\n",
       "</tr>\n",
       "<tr>\n",
       "  <th>surprise</th>   <td>    0.0644</td> <td>    0.018</td> <td>    3.603</td> <td> 0.000</td> <td>    0.029</td> <td>    0.099</td>\n",
       "</tr>\n",
       "<tr>\n",
       "  <th>popularity</th> <td>    0.3127</td> <td>    0.017</td> <td>   18.070</td> <td> 0.000</td> <td>    0.279</td> <td>    0.347</td>\n",
       "</tr>\n",
       "</table>\n",
       "<table class=\"simpletable\">\n",
       "<tr>\n",
       "  <th>Omnibus:</th>       <td>214.573</td> <th>  Durbin-Watson:     </th> <td>   1.367</td>\n",
       "</tr>\n",
       "<tr>\n",
       "  <th>Prob(Omnibus):</th> <td> 0.000</td>  <th>  Jarque-Bera (JB):  </th> <td> 101.346</td>\n",
       "</tr>\n",
       "<tr>\n",
       "  <th>Skew:</th>          <td>-0.262</td>  <th>  Prob(JB):          </th> <td>9.84e-23</td>\n",
       "</tr>\n",
       "<tr>\n",
       "  <th>Kurtosis:</th>      <td> 2.270</td>  <th>  Cond. No.          </th> <td>    10.0</td>\n",
       "</tr>\n",
       "</table><br/><br/>Warnings:<br/>[1] Standard Errors assume that the covariance matrix of the errors is correctly specified."
      ],
      "text/plain": [
       "<class 'statsmodels.iolib.summary.Summary'>\n",
       "\"\"\"\n",
       "                            OLS Regression Results                            \n",
       "==============================================================================\n",
       "Dep. Variable:              curiosity   R-squared:                       0.106\n",
       "Model:                            OLS   Adj. R-squared:                  0.105\n",
       "Method:                 Least Squares   F-statistic:                     178.0\n",
       "Date:                Sat, 11 Jul 2020   Prob (F-statistic):           9.09e-74\n",
       "Time:                        18:05:23   Log-Likelihood:                -6108.8\n",
       "No. Observations:                3010   AIC:                         1.222e+04\n",
       "Df Residuals:                    3007   BIC:                         1.224e+04\n",
       "Df Model:                           2                                         \n",
       "Covariance Type:            nonrobust                                         \n",
       "==============================================================================\n",
       "                 coef    std err          t      P>|t|      [0.025      0.975]\n",
       "------------------------------------------------------------------------------\n",
       "const          2.0887      0.073     28.479      0.000       1.945       2.233\n",
       "surprise       0.0644      0.018      3.603      0.000       0.029       0.099\n",
       "popularity     0.3127      0.017     18.070      0.000       0.279       0.347\n",
       "==============================================================================\n",
       "Omnibus:                      214.573   Durbin-Watson:                   1.367\n",
       "Prob(Omnibus):                  0.000   Jarque-Bera (JB):              101.346\n",
       "Skew:                          -0.262   Prob(JB):                     9.84e-23\n",
       "Kurtosis:                       2.270   Cond. No.                         10.0\n",
       "==============================================================================\n",
       "\n",
       "Warnings:\n",
       "[1] Standard Errors assume that the covariance matrix of the errors is correctly specified.\n",
       "\"\"\""
      ]
     },
     "metadata": {},
     "output_type": "display_data"
    },
    {
     "data": {
      "text/html": [
       "<table class=\"simpletable\">\n",
       "<caption>OLS Regression Results</caption>\n",
       "<tr>\n",
       "  <th>Dep. Variable:</th>        <td>curiosity</td>    <th>  R-squared:         </th> <td>   0.300</td> \n",
       "</tr>\n",
       "<tr>\n",
       "  <th>Model:</th>                   <td>OLS</td>       <th>  Adj. R-squared:    </th> <td>   0.300</td> \n",
       "</tr>\n",
       "<tr>\n",
       "  <th>Method:</th>             <td>Least Squares</td>  <th>  F-statistic:       </th> <td>   644.7</td> \n",
       "</tr>\n",
       "<tr>\n",
       "  <th>Date:</th>             <td>Sat, 11 Jul 2020</td> <th>  Prob (F-statistic):</th> <td>1.03e-233</td>\n",
       "</tr>\n",
       "<tr>\n",
       "  <th>Time:</th>                 <td>18:05:23</td>     <th>  Log-Likelihood:    </th> <td> -5740.1</td> \n",
       "</tr>\n",
       "<tr>\n",
       "  <th>No. Observations:</th>      <td>  3010</td>      <th>  AIC:               </th> <td>1.149e+04</td>\n",
       "</tr>\n",
       "<tr>\n",
       "  <th>Df Residuals:</th>          <td>  3007</td>      <th>  BIC:               </th> <td>1.150e+04</td>\n",
       "</tr>\n",
       "<tr>\n",
       "  <th>Df Model:</th>              <td>     2</td>      <th>                     </th>     <td> </td>    \n",
       "</tr>\n",
       "<tr>\n",
       "  <th>Covariance Type:</th>      <td>nonrobust</td>    <th>                     </th>     <td> </td>    \n",
       "</tr>\n",
       "</table>\n",
       "<table class=\"simpletable\">\n",
       "<tr>\n",
       "         <td></td>           <th>coef</th>     <th>std err</th>      <th>t</th>      <th>P>|t|</th>  <th>[0.025</th>    <th>0.975]</th>  \n",
       "</tr>\n",
       "<tr>\n",
       "  <th>const</th>          <td>    1.5289</td> <td>    0.059</td> <td>   25.873</td> <td> 0.000</td> <td>    1.413</td> <td>    1.645</td>\n",
       "</tr>\n",
       "<tr>\n",
       "  <th>social_utility</th> <td>    0.5277</td> <td>    0.018</td> <td>   29.176</td> <td> 0.000</td> <td>    0.492</td> <td>    0.563</td>\n",
       "</tr>\n",
       "<tr>\n",
       "  <th>popularity</th>     <td>    0.1558</td> <td>    0.016</td> <td>    9.605</td> <td> 0.000</td> <td>    0.124</td> <td>    0.188</td>\n",
       "</tr>\n",
       "</table>\n",
       "<table class=\"simpletable\">\n",
       "<tr>\n",
       "  <th>Omnibus:</th>       <td> 6.028</td> <th>  Durbin-Watson:     </th> <td>   1.459</td>\n",
       "</tr>\n",
       "<tr>\n",
       "  <th>Prob(Omnibus):</th> <td> 0.049</td> <th>  Jarque-Bera (JB):  </th> <td>   5.862</td>\n",
       "</tr>\n",
       "<tr>\n",
       "  <th>Skew:</th>          <td> 0.084</td> <th>  Prob(JB):          </th> <td>  0.0533</td>\n",
       "</tr>\n",
       "<tr>\n",
       "  <th>Kurtosis:</th>      <td> 2.863</td> <th>  Cond. No.          </th> <td>    8.89</td>\n",
       "</tr>\n",
       "</table><br/><br/>Warnings:<br/>[1] Standard Errors assume that the covariance matrix of the errors is correctly specified."
      ],
      "text/plain": [
       "<class 'statsmodels.iolib.summary.Summary'>\n",
       "\"\"\"\n",
       "                            OLS Regression Results                            \n",
       "==============================================================================\n",
       "Dep. Variable:              curiosity   R-squared:                       0.300\n",
       "Model:                            OLS   Adj. R-squared:                  0.300\n",
       "Method:                 Least Squares   F-statistic:                     644.7\n",
       "Date:                Sat, 11 Jul 2020   Prob (F-statistic):          1.03e-233\n",
       "Time:                        18:05:23   Log-Likelihood:                -5740.1\n",
       "No. Observations:                3010   AIC:                         1.149e+04\n",
       "Df Residuals:                    3007   BIC:                         1.150e+04\n",
       "Df Model:                           2                                         \n",
       "Covariance Type:            nonrobust                                         \n",
       "==================================================================================\n",
       "                     coef    std err          t      P>|t|      [0.025      0.975]\n",
       "----------------------------------------------------------------------------------\n",
       "const              1.5289      0.059     25.873      0.000       1.413       1.645\n",
       "social_utility     0.5277      0.018     29.176      0.000       0.492       0.563\n",
       "popularity         0.1558      0.016      9.605      0.000       0.124       0.188\n",
       "==============================================================================\n",
       "Omnibus:                        6.028   Durbin-Watson:                   1.459\n",
       "Prob(Omnibus):                  0.049   Jarque-Bera (JB):                5.862\n",
       "Skew:                           0.084   Prob(JB):                       0.0533\n",
       "Kurtosis:                       2.863   Cond. No.                         8.89\n",
       "==============================================================================\n",
       "\n",
       "Warnings:\n",
       "[1] Standard Errors assume that the covariance matrix of the errors is correctly specified.\n",
       "\"\"\""
      ]
     },
     "metadata": {},
     "output_type": "display_data"
    }
   ],
   "source": [
    "# Mediation of curiosity\n",
    "y = new_data['curiosity']\n",
    "X = new_data['popularity']\n",
    "X = sm.add_constant(X)\n",
    "\n",
    "linear_model = sm.OLS(y, X)\n",
    "results = linear_model.fit()\n",
    "predictions = results.predict(X)\n",
    "display(results.summary())\n",
    "\n",
    "for mechanism in ('usefulness', 'surprise', 'social_utility'):\n",
    "    X = new_data[[mechanism, 'popularity']]\n",
    "    X = sm.add_constant(X)\n",
    "\n",
    "    linear_model = sm.OLS(y, X)\n",
    "    results = linear_model.fit()\n",
    "    predictions = results.predict(X)\n",
    "    display(results.summary())"
   ]
  },
  {
   "cell_type": "code",
   "execution_count": null,
   "metadata": {},
   "outputs": [],
   "source": []
  },
  {
   "cell_type": "code",
   "execution_count": 17,
   "metadata": {},
   "outputs": [
    {
     "ename": "SyntaxError",
     "evalue": "unexpected EOF while parsing (<ipython-input-17-bb66d8f0429b>, line 3)",
     "output_type": "error",
     "traceback": [
      "\u001b[0;36m  File \u001b[0;32m\"<ipython-input-17-bb66d8f0429b>\"\u001b[0;36m, line \u001b[0;32m3\u001b[0m\n\u001b[0;31m    # print(results.summary())\u001b[0m\n\u001b[0m                              ^\u001b[0m\n\u001b[0;31mSyntaxError\u001b[0m\u001b[0;31m:\u001b[0m unexpected EOF while parsing\n"
     ]
    }
   ],
   "source": [
    "for output in all_predictors:\n",
    "    \n",
    "    # print(results.summary())"
   ]
  },
  {
   "cell_type": "markdown",
   "metadata": {},
   "source": [
    "### Saving Results"
   ]
  },
  {
   "cell_type": "code",
   "execution_count": null,
   "metadata": {},
   "outputs": [],
   "source": [
    "data.to_pickle('exp_two_responses.pkl')\n",
    "new_data.to_pickle('exp_two_model.pkl')"
   ]
  },
  {
   "cell_type": "code",
   "execution_count": 9,
   "metadata": {},
   "outputs": [
    {
     "data": {
      "text/plain": [
       "array([1., 1., 1., 1., 1., 1., 1., 1., 1., 1.])"
      ]
     },
     "execution_count": 9,
     "metadata": {},
     "output_type": "execute_result"
    }
   ],
   "source": []
  },
  {
   "cell_type": "code",
   "execution_count": null,
   "metadata": {},
   "outputs": [],
   "source": []
  }
 ],
 "metadata": {
  "kernel_info": {
   "name": "python3"
  },
  "kernelspec": {
   "display_name": "Python 3",
   "language": "python",
   "name": "python3"
  },
  "language_info": {
   "codemirror_mode": {
    "name": "ipython",
    "version": 3
   },
   "file_extension": ".py",
   "mimetype": "text/x-python",
   "name": "python",
   "nbconvert_exporter": "python",
   "pygments_lexer": "ipython3",
   "version": "3.5.3"
  },
  "nteract": {
   "version": "0.5.5"
  }
 },
 "nbformat": 4,
 "nbformat_minor": 2
}
