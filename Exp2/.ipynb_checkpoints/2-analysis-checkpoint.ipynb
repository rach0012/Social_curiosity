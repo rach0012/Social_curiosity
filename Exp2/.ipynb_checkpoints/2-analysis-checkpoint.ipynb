{
 "cells": [
  {
   "cell_type": "markdown",
   "metadata": {},
   "source": [
    "# 11-experiment-three-cogsci\n",
    "\n",
    "## Analysis"
   ]
  },
  {
   "cell_type": "code",
   "execution_count": 1,
   "metadata": {
    "collapsed": true
   },
   "outputs": [],
   "source": [
    "# Analytical Tools\n",
    "import numpy as np\n",
    "import pandas as pd\n",
    "from scipy import stats\n",
    "import matplotlib.pyplot as plt\n",
    "import seaborn as sns\n",
    "\n",
    "# General Utilities\n",
    "import itertools\n",
    "import json\n",
    "import pprint\n",
    "\n",
    "# Custom Utilities\n",
    "import utilities.plotting as plotting\n",
    "import utilities.describe as describe\n",
    "\n",
    "# Some settings\n",
    "log = pprint.pprint\n",
    "%matplotlib inline\n",
    "%config InlineBackend.figure_format = 'retina'\n",
    "pd.options.mode.chained_assignment = None"
   ]
  },
  {
   "cell_type": "markdown",
   "metadata": {},
   "source": [
    "### Import Data & Define Constants"
   ]
  },
  {
   "cell_type": "code",
   "execution_count": 2,
   "metadata": {
    "collapsed": false
   },
   "outputs": [
    {
     "data": {
      "text/html": [
       "<div>\n",
       "<style scoped>\n",
       "    .dataframe tbody tr th:only-of-type {\n",
       "        vertical-align: middle;\n",
       "    }\n",
       "\n",
       "    .dataframe tbody tr th {\n",
       "        vertical-align: top;\n",
       "    }\n",
       "\n",
       "    .dataframe thead th {\n",
       "        text-align: right;\n",
       "    }\n",
       "</style>\n",
       "<table border=\"1\" class=\"dataframe\">\n",
       "  <thead>\n",
       "    <tr style=\"text-align: right;\">\n",
       "      <th></th>\n",
       "      <th>attention</th>\n",
       "      <th>consent</th>\n",
       "      <th>g0_q0_index</th>\n",
       "      <th>g0_q0_j0</th>\n",
       "      <th>g0_q0_j1</th>\n",
       "      <th>g0_q0_j2</th>\n",
       "      <th>g0_q0_j3</th>\n",
       "      <th>g0_q0_score</th>\n",
       "      <th>g0_q1_index</th>\n",
       "      <th>g0_q1_j0</th>\n",
       "      <th>...</th>\n",
       "      <th>g2_q2_j2</th>\n",
       "      <th>g2_q2_j3</th>\n",
       "      <th>g2_q2_score</th>\n",
       "      <th>g2_q3_index</th>\n",
       "      <th>g2_q3_j0</th>\n",
       "      <th>g2_q3_j1</th>\n",
       "      <th>g2_q3_j2</th>\n",
       "      <th>g2_q3_j3</th>\n",
       "      <th>g2_q3_score</th>\n",
       "      <th>id</th>\n",
       "    </tr>\n",
       "  </thead>\n",
       "  <tbody>\n",
       "    <tr>\n",
       "      <th>0</th>\n",
       "      <td>1</td>\n",
       "      <td>1</td>\n",
       "      <td>35</td>\n",
       "      <td>5</td>\n",
       "      <td>1</td>\n",
       "      <td>0</td>\n",
       "      <td>1</td>\n",
       "      <td>22</td>\n",
       "      <td>27</td>\n",
       "      <td>5</td>\n",
       "      <td>...</td>\n",
       "      <td>5</td>\n",
       "      <td>2</td>\n",
       "      <td>2421</td>\n",
       "      <td>36</td>\n",
       "      <td>4</td>\n",
       "      <td>0</td>\n",
       "      <td>3</td>\n",
       "      <td>3</td>\n",
       "      <td>2395</td>\n",
       "      <td>hu18z57qr2ja4v6jh24c57fk0b5ftdqs</td>\n",
       "    </tr>\n",
       "    <tr>\n",
       "      <th>1</th>\n",
       "      <td>1</td>\n",
       "      <td>1</td>\n",
       "      <td>18</td>\n",
       "      <td>3</td>\n",
       "      <td>0</td>\n",
       "      <td>2</td>\n",
       "      <td>1</td>\n",
       "      <td>40</td>\n",
       "      <td>47</td>\n",
       "      <td>2</td>\n",
       "      <td>...</td>\n",
       "      <td>3</td>\n",
       "      <td>3</td>\n",
       "      <td>2424</td>\n",
       "      <td>2</td>\n",
       "      <td>3</td>\n",
       "      <td>2</td>\n",
       "      <td>3</td>\n",
       "      <td>4</td>\n",
       "      <td>2416</td>\n",
       "      <td>xev0ec5nfz6bfwq1h4puuscnk0eg8ck8</td>\n",
       "    </tr>\n",
       "    <tr>\n",
       "      <th>2</th>\n",
       "      <td>1</td>\n",
       "      <td>1</td>\n",
       "      <td>2</td>\n",
       "      <td>5</td>\n",
       "      <td>0</td>\n",
       "      <td>5</td>\n",
       "      <td>2</td>\n",
       "      <td>28</td>\n",
       "      <td>10</td>\n",
       "      <td>5</td>\n",
       "      <td>...</td>\n",
       "      <td>1</td>\n",
       "      <td>2</td>\n",
       "      <td>2414</td>\n",
       "      <td>40</td>\n",
       "      <td>1</td>\n",
       "      <td>2</td>\n",
       "      <td>4</td>\n",
       "      <td>3</td>\n",
       "      <td>2404</td>\n",
       "      <td>upfop1hxok2r4hynbr5yfwty3q5628wr</td>\n",
       "    </tr>\n",
       "    <tr>\n",
       "      <th>3</th>\n",
       "      <td>1</td>\n",
       "      <td>1</td>\n",
       "      <td>27</td>\n",
       "      <td>4</td>\n",
       "      <td>2</td>\n",
       "      <td>4</td>\n",
       "      <td>3</td>\n",
       "      <td>32</td>\n",
       "      <td>43</td>\n",
       "      <td>3</td>\n",
       "      <td>...</td>\n",
       "      <td>4</td>\n",
       "      <td>3</td>\n",
       "      <td>2404</td>\n",
       "      <td>16</td>\n",
       "      <td>2</td>\n",
       "      <td>1</td>\n",
       "      <td>2</td>\n",
       "      <td>2</td>\n",
       "      <td>2398</td>\n",
       "      <td>goxzca1lx6vlbzmf9la861fhqlmtxlmn</td>\n",
       "    </tr>\n",
       "    <tr>\n",
       "      <th>4</th>\n",
       "      <td>1</td>\n",
       "      <td>1</td>\n",
       "      <td>10</td>\n",
       "      <td>6</td>\n",
       "      <td>0</td>\n",
       "      <td>2</td>\n",
       "      <td>3</td>\n",
       "      <td>24</td>\n",
       "      <td>6</td>\n",
       "      <td>6</td>\n",
       "      <td>...</td>\n",
       "      <td>1</td>\n",
       "      <td>0</td>\n",
       "      <td>2375</td>\n",
       "      <td>8</td>\n",
       "      <td>4</td>\n",
       "      <td>0</td>\n",
       "      <td>4</td>\n",
       "      <td>1</td>\n",
       "      <td>2388</td>\n",
       "      <td>j06j83a97loyc5won1rk9hg46qrwnzbs</td>\n",
       "    </tr>\n",
       "  </tbody>\n",
       "</table>\n",
       "<p>5 rows × 75 columns</p>\n",
       "</div>"
      ],
      "text/plain": [
       "   attention  consent  g0_q0_index  g0_q0_j0  g0_q0_j1  g0_q0_j2  g0_q0_j3  \\\n",
       "0          1        1           35         5         1         0         1   \n",
       "1          1        1           18         3         0         2         1   \n",
       "2          1        1            2         5         0         5         2   \n",
       "3          1        1           27         4         2         4         3   \n",
       "4          1        1           10         6         0         2         3   \n",
       "\n",
       "   g0_q0_score  g0_q1_index  g0_q1_j0                ...                 \\\n",
       "0           22           27         5                ...                  \n",
       "1           40           47         2                ...                  \n",
       "2           28           10         5                ...                  \n",
       "3           32           43         3                ...                  \n",
       "4           24            6         6                ...                  \n",
       "\n",
       "   g2_q2_j2  g2_q2_j3  g2_q2_score  g2_q3_index  g2_q3_j0  g2_q3_j1  g2_q3_j2  \\\n",
       "0         5         2         2421           36         4         0         3   \n",
       "1         3         3         2424            2         3         2         3   \n",
       "2         1         2         2414           40         1         2         4   \n",
       "3         4         3         2404           16         2         1         2   \n",
       "4         1         0         2375            8         4         0         4   \n",
       "\n",
       "   g2_q3_j3  g2_q3_score                                id  \n",
       "0         3         2395  hu18z57qr2ja4v6jh24c57fk0b5ftdqs  \n",
       "1         4         2416  xev0ec5nfz6bfwq1h4puuscnk0eg8ck8  \n",
       "2         3         2404  upfop1hxok2r4hynbr5yfwty3q5628wr  \n",
       "3         2         2398  goxzca1lx6vlbzmf9la861fhqlmtxlmn  \n",
       "4         1         2388  j06j83a97loyc5won1rk9hg46qrwnzbs  \n",
       "\n",
       "[5 rows x 75 columns]"
      ]
     },
     "execution_count": 2,
     "metadata": {},
     "output_type": "execute_result"
    }
   ],
   "source": [
    "GROUPS = 3\n",
    "QUESTIONS = 4\n",
    "JUDGMENTS = 4\n",
    "SCORE_THRESHOLD = 240.9\n",
    "\n",
    "data = pd.read_pickle('data/responses.pkl')\n",
    "data.head()"
   ]
  },
  {
   "cell_type": "markdown",
   "metadata": {},
   "source": [
    "### Analysis"
   ]
  },
  {
   "cell_type": "code",
   "execution_count": 3,
   "metadata": {
    "collapsed": true
   },
   "outputs": [],
   "source": [
    "for g_num in range(GROUPS):\n",
    "    for j_num in range(JUDGMENTS):\n",
    "        headings = []\n",
    "        for q_num in range(QUESTIONS):\n",
    "            headings.append('g{}_q{}_j{}'.format(g_num, q_num, j_num))\n",
    "        \n",
    "        rating_mean = data[headings].mean(axis=1)\n",
    "        data['g{}_j{}_mean'.format(g_num, j_num)] = rating_mean"
   ]
  },
  {
   "cell_type": "code",
   "execution_count": 4,
   "metadata": {
    "collapsed": false
   },
   "outputs": [
    {
     "data": {
      "image/png": "[encoded data removed]",
      "text/plain": [
       "<matplotlib.figure.Figure at 0x21396039ba8>"
      ]
     },
     "metadata": {
      "image/png": {
       "height": 377,
       "width": 718
      }
     },
     "output_type": "display_data"
    },
    {
     "name": "stdout",
     "output_type": "stream",
     "text": [
      "[3.4045698924731185, 1.7876344086021505, 2.5416666666666665, 2.1774193548387095]\n",
      "[3.502688172043011, 1.689516129032258, 2.635752688172043, 2.2379032258064515]\n",
      "[3.454301075268817, 1.8306451612903225, 2.6841397849462365, 2.368279569892473]\n"
     ]
    }
   ],
   "source": [
    "PLOTTING_OPTIONS = {\n",
    "    'ylabel': 'Ratings',\n",
    "    'ticks': ['Curiosity', 'Confidence', 'Usefulness','Social Utility'],\n",
    "    'legend': ['Low Scores', 'No Scores', 'High Scores'],\n",
    "    'title': 'All Questions',\n",
    "    'size': (12, 6)\n",
    "}\n",
    "\n",
    "g0_means, g0_errs = [], []\n",
    "g1_means, g1_errs = [], []\n",
    "g2_means, g2_errs = [], []\n",
    "\n",
    "for j_num in range(JUDGMENTS):\n",
    "    g0_values = data['g0_j{}_mean'.format(j_num)]\n",
    "    g1_values = data['g1_j{}_mean'.format(j_num)]\n",
    "    g2_values = data['g2_j{}_mean'.format(j_num)]\n",
    "    g0_means.append(g0_values.mean())\n",
    "    g1_means.append(g1_values.mean())\n",
    "    g2_means.append(g2_values.mean())\n",
    "    g0_errs.append(stats.sem(g0_values))\n",
    "    g1_errs.append(stats.sem(g1_values))\n",
    "    g2_errs.append(stats.sem(g2_values))\n",
    "    \n",
    "plotting.plot_triple_bar(g0_means, g0_errs, g1_means, g1_errs, \n",
    "                         g2_means, g2_errs, **PLOTTING_OPTIONS)\n",
    "\n",
    "print(g0_means)\n",
    "print(g1_means)\n",
    "print(g2_means)"
   ]
  },
  {
   "cell_type": "code",
   "execution_count": 13,
   "metadata": {
    "collapsed": false
   },
   "outputs": [
    {
     "name": "stdout",
     "output_type": "stream",
     "text": [
      "Low & High\n",
      "Curiosity: t = 0.831, p = 0.411, Δ = -0.159 (0 greater)\n",
      "Confidence: t = -1.03, p = 0.308, Δ = 0.17 (1 greater)\n",
      "Usefulness: t = 0.418, p = 0.678, Δ = -0.0852 (0 greater)\n",
      "Social Utility: t = 0.114, p = 0.91, Δ = -0.017 (0 greater)\n",
      "\n",
      "Low & None\n",
      "Curiosity: t = 0.456, p = 0.651, Δ = -0.0682 (0 greater)\n",
      "Confidence: t = 0.199, p = 0.843, Δ = -0.0341 (0 greater)\n",
      "Usefulness: t = 1.26, p = 0.214, Δ = -0.193 (0 greater)\n",
      "Social Utility: t = 1.7, p = 0.0959, Δ = -0.193 (0 greater)\n",
      "\n",
      "None & High\n",
      "Curiosity: t = 0.599, p = 0.553, Δ = -0.0909 (0 greater)\n",
      "Confidence: t = -1.27, p = 0.211, Δ = 0.205 (1 greater)\n",
      "Usefulness: t = -0.666, p = 0.509, Δ = 0.108 (1 greater)\n",
      "Social Utility: t = -1.17, p = 0.248, Δ = 0.176 (1 greater)\n"
     ]
    }
   ],
   "source": [
    "print('Low & High')\n",
    "for j_num in range(JUDGMENTS):\n",
    "    g0_values = data['g0_j{}_mean'.format(j_num)]\n",
    "    g2_values = data['g2_j{}_mean'.format(j_num)]\n",
    "    print('{}: {}'.format(PLOTTING_OPTIONS['ticks'][j_num],\n",
    "                          describe.paired_t_test(g0_values, g2_values)))\n",
    "print()\n",
    "print('Low & None')\n",
    "for j_num in range(JUDGMENTS):\n",
    "    g0_values = data['g0_j{}_mean'.format(j_num)]\n",
    "    g2_values = data['g1_j{}_mean'.format(j_num)]\n",
    "    print('{}: {}'.format(PLOTTING_OPTIONS['ticks'][j_num],\n",
    "                          describe.paired_t_test(g0_values, g2_values)))\n",
    "print()\n",
    "print('None & High')\n",
    "for j_num in range(JUDGMENTS):\n",
    "    g0_values = data['g1_j{}_mean'.format(j_num)]\n",
    "    g2_values = data['g2_j{}_mean'.format(j_num)]\n",
    "    print('{}: {}'.format(PLOTTING_OPTIONS['ticks'][j_num],\n",
    "                          describe.paired_t_test(g0_values, g2_values)))"
   ]
  },
  {
   "cell_type": "code",
   "execution_count": null,
   "metadata": {
    "collapsed": true
   },
   "outputs": [],
   "source": []
  }
 ],
 "metadata": {
  "kernel_info": {
   "name": "python3"
  },
  "kernelspec": {
   "display_name": "Python 3",
   "language": "python",
   "name": "python3"
  },
  "language_info": {
   "codemirror_mode": {
    "name": "ipython",
    "version": 3
   },
   "file_extension": ".py",
   "mimetype": "text/x-python",
   "name": "python",
   "nbconvert_exporter": "python",
   "pygments_lexer": "ipython3",
   "version": "3.5.3"
  },
  "nteract": {
   "version": "0.5.5"
  }
 },
 "nbformat": 4,
 "nbformat_minor": 2
}
