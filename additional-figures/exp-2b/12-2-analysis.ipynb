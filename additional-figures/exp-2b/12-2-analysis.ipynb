{
 "cells": [
  {
   "cell_type": "markdown",
   "metadata": {},
   "source": [
    "# 11-experiment-three-cogsci\n",
    "\n",
    "## Analysis"
   ]
  },
  {
   "cell_type": "code",
   "execution_count": 6,
   "metadata": {},
   "outputs": [],
   "source": [
    "# Analytical Tools\n",
    "import random\n",
    "import numpy as np\n",
    "import pandas as pd\n",
    "from scipy import stats\n",
    "import matplotlib.pyplot as plt\n",
    "import seaborn as sns\n",
    "\n",
    "# General Utilities\n",
    "import itertools\n",
    "import json\n",
    "import pprint\n",
    "\n",
    "# Custom Utilities\n",
    "import utilities.plotting as plotting\n",
    "import utilities.describe as describe\n",
    "\n",
    "# Some settings\n",
    "log = pprint.pprint\n",
    "%matplotlib inline\n",
    "pd.options.mode.chained_assignment = None\n"
   ]
  },
  {
   "cell_type": "markdown",
   "metadata": {},
   "source": [
    "### Import Data & Define Constants"
   ]
  },
  {
   "cell_type": "code",
   "execution_count": 8,
   "metadata": {},
   "outputs": [
    {
     "name": "stdout",
     "output_type": "stream",
     "text": [
      "243 20655\n"
     ]
    }
   ],
   "source": [
    "GROUPS = 2\n",
    "QUESTIONS = 5\n",
    "JUDGMENTS = 6\n",
    "SCORE_THRESHOLD = 240.9\n",
    "\n",
    "data = pd.read_pickle('data/responses.pkl')\n",
    "data.head()\n",
    "print(len(data), data.size)"
   ]
  },
  {
   "cell_type": "markdown",
   "metadata": {},
   "source": [
    "### Analysis"
   ]
  },
  {
   "cell_type": "code",
   "execution_count": 12,
   "metadata": {},
   "outputs": [],
   "source": [
    "for g_num in range(GROUPS):\n",
    "    for j_num in range(JUDGMENTS):\n",
    "        headings = []\n",
    "        for q_num in range(QUESTIONS):\n",
    "            headings.append('g{}_q{}_j{}'.format(g_num, q_num, j_num))\n",
    "        \n",
    "        rating_mean = data[headings].mean(axis=1)\n",
    "        data['g{}_j{}_mean'.format(g_num, j_num)] = rating_mean"
   ]
  },
  {
   "cell_type": "code",
   "execution_count": 13,
   "metadata": {},
   "outputs": [
    {
     "data": {
      "image/png": "[encoded data removed]",
      "text/plain": [
       "<Figure size 864x432 with 1 Axes>"
      ]
     },
     "metadata": {
      "needs_background": "light"
     },
     "output_type": "display_data"
    },
    {
     "name": "stdout",
     "output_type": "stream",
     "text": [
      "[3.06090534979424, 1.7168724279835395, 2.5720164609053504, 1.8008230452674885, 2.416460905349795, 2.2255144032921814]\n",
      "[3.4814814814814805, 1.7934156378600823, 2.8551440329218116, 4.471604938271604, 3.0567901234567882, 2.5465020576131705]\n"
     ]
    }
   ],
   "source": [
    "PLOTTING_OPTIONS = {\n",
    "    'ylabel': 'Ratings',\n",
    "    'ticks': ['Curiosity', 'Confidence', 'Usefulness',\n",
    "              'Popularity', 'Surprise', 'Social Utility'],\n",
    "    'legend': ['Low Scores', 'High Scores'],\n",
    "    'title': 'All Questions',\n",
    "    'size': (12, 6)\n",
    "}\n",
    "\n",
    "# for _ in range(1):\n",
    "#     sample = data.iloc[random.sample(range(len(data)), len(data))]\n",
    "    \n",
    "sample = data\n",
    "\n",
    "g0_means, g0_errs = [], []\n",
    "g1_means, g1_errs = [], []\n",
    "for j_num in range(JUDGMENTS):\n",
    "    g0_values = sample['g0_j{}_mean'.format(j_num)]\n",
    "    g1_values = sample['g1_j{}_mean'.format(j_num)]\n",
    "    g0_means.append(g0_values.mean())\n",
    "    g1_means.append(g1_values.mean())\n",
    "    g0_errs.append(stats.sem(g0_values))\n",
    "    g1_errs.append(stats.sem(g1_values))\n",
    "\n",
    "plotting.plot_double_bar(\n",
    "    g0_means, g0_errs, g1_means, g1_errs, \n",
    "    **PLOTTING_OPTIONS\n",
    ")\n",
    "\n",
    "print(g0_means)\n",
    "print(g1_means)"
   ]
  },
  {
   "cell_type": "code",
   "execution_count": 14,
   "metadata": {},
   "outputs": [
    {
     "name": "stdout",
     "output_type": "stream",
     "text": [
      "Low & High\n",
      "Curiosity: t = -5.8, p = 2.08e-08, Δ = 0.421 (1 greater)\n",
      "Confidence: t = -1.24, p = 0.215, Δ = 0.0765 (1 greater)\n",
      "Usefulness: t = -4.23, p = 3.32e-05, Δ = 0.283 (1 greater)\n",
      "Popularity: t = -20.3, p = 2.63e-54, Δ = 2.67 (1 greater)\n",
      "Surprise: t = -6.34, p = 1.1e-09, Δ = 0.64 (1 greater)\n",
      "Social Utility: t = -5.09, p = 7.13e-07, Δ = 0.321 (1 greater)\n"
     ]
    }
   ],
   "source": [
    "print('Low & High')\n",
    "for j_num in range(JUDGMENTS):\n",
    "    g0_values = data['g0_j{}_mean'.format(j_num)]\n",
    "    g2_values = data['g1_j{}_mean'.format(j_num)]\n",
    "    print('{}: {}'.format(PLOTTING_OPTIONS['ticks'][j_num],\n",
    "                          describe.paired_t_test(g0_values, g2_values)))"
   ]
  },
  {
   "cell_type": "code",
   "execution_count": 17,
   "metadata": {},
   "outputs": [
    {
     "name": "stdout",
     "output_type": "stream",
     "text": [
      "3.06090534979424\n",
      "2.983164983164984\n",
      "3.4814814814814805\n",
      "3.4383838383838388\n",
      "Curiosity: t = 0.67, p = 0.503, Δ = -0.0777 (0 greater)\n",
      "Curiosity: t = -0.366, p = 0.715, Δ = 0.0431 (1 greater)\n",
      "1.7168724279835395\n",
      "1.7299663299663297\n",
      "1.7934156378600823\n",
      "1.7804713804713799\n",
      "Confidence: t = -0.114, p = 0.909, Δ = 0.0131 (1 greater)\n",
      "Confidence: t = -0.107, p = 0.915, Δ = 0.0129 (1 greater)\n",
      "2.5720164609053504\n",
      "2.4296296296296296\n",
      "2.8551440329218116\n",
      "2.7649831649831627\n",
      "Usefulness: t = 1.28, p = 0.201, Δ = -0.142 (0 greater)\n",
      "Usefulness: t = -0.794, p = 0.428, Δ = 0.0902 (1 greater)\n",
      "1.8008230452674885\n",
      "1.827609427609427\n",
      "4.471604938271604\n",
      "4.22087542087542\n",
      "Popularity: t = -0.232, p = 0.817, Δ = 0.0268 (1 greater)\n",
      "Popularity: t = -2.35, p = 0.0192, Δ = 0.251 (1 greater)\n",
      "2.416460905349795\n",
      "2.358922558922558\n",
      "3.0567901234567882\n",
      "2.9845117845117857\n",
      "Surprise: t = 0.55, p = 0.583, Δ = -0.0575 (0 greater)\n",
      "Surprise: t = -0.662, p = 0.508, Δ = 0.0723 (1 greater)\n",
      "2.2255144032921814\n",
      "2.120538720538721\n",
      "2.5465020576131705\n",
      "2.593265993265991\n",
      "Social Utility: t = 0.942, p = 0.347, Δ = -0.105 (0 greater)\n",
      "Social Utility: t = 0.402, p = 0.688, Δ = -0.0468 (0 greater)\n"
     ]
    }
   ],
   "source": [
    "#compare exp2a with exp2b here\n",
    "import pickle\n",
    "\n",
    "with open('raw-data/exp_two_responses.pkl', 'rb') as f:\n",
    "    upvote_responses = pickle.load(f) #get exp2a data here\n",
    "    \n",
    "for j_num in range(6):\n",
    "        g0_values = data['g0_j{}_mean'.format(j_num)] #low        \n",
    "        g2_values = data['g1_j{}_mean'.format(j_num)] #high\n",
    "        if(j_num >= 4):\n",
    "            highs = upvote_responses['j{}_high'.format(j_num+1)] #exp2a\n",
    "            lows = upvote_responses['j{}_low'.format(j_num+1)] #exp2a\n",
    "        else:\n",
    "            highs = upvote_responses['j{}_high'.format(j_num)] #exp2a\n",
    "            lows = upvote_responses['j{}_low'.format(j_num)] #exp2a\n",
    "        print(g0_values.mean())\n",
    "        print(lows.mean())\n",
    "        print(g2_values.mean())\n",
    "        print(highs.mean())\n",
    "        print('{}: {}'.format(PLOTTING_OPTIONS['ticks'][j_num],\n",
    "                  describe.independent_t_test(g0_values, lows)))\n",
    "        print('{}: {}'.format(PLOTTING_OPTIONS['ticks'][j_num],\n",
    "                  describe.independent_t_test(highs, g2_values)))\n",
    "    "
   ]
  },
  {
   "cell_type": "code",
   "execution_count": 26,
   "metadata": {},
   "outputs": [
    {
     "name": "stdout",
     "output_type": "stream",
     "text": [
      "3.349152542372879\n",
      "3.484172661870501\n",
      "Curiosity: t = -1.41, p = 0.158, Δ = 0.135 (1 greater)\n",
      "1.721694915254239\n",
      "1.6143884892086335\n",
      "Confidence: t = 1.09, p = 0.276, Δ = -0.107 (0 greater)\n",
      "2.6498305084745795\n",
      "2.6496402877697847\n",
      "Usefulness: t = 0.00201, p = 0.998, Δ = -0.00019 (0 greater)\n",
      "2.4155932203389856\n",
      "2.2496402877697848\n",
      "Popularity: t = 1.78, p = 0.0747, Δ = -0.166 (0 greater)\n"
     ]
    }
   ],
   "source": [
    "#compare baseline of exp2a with exp2b\n",
    "import pickle\n",
    "\n",
    "with open('raw-data/baseline_2a.pkl', 'rb') as f:\n",
    "    baseline_data_a = pickle.load(f) #get baseline data here\n",
    "    \n",
    "with open('raw-data/baseline_2b.pkl', 'rb') as f:\n",
    "    baseline_data_b = pickle.load(f) #get baseline data here\n",
    "    \n",
    "    \n",
    "for j_num in range(4):\n",
    "    if (j_num == 3):\n",
    "        none_b = baseline_data_b['j{}_mean'.format(j_num)] #baseline 2b\n",
    "        j_num = 6\n",
    "        none_lows = baseline_data_a['j{}_low'.format(j_num)]\n",
    "        none_highs = baseline_data_a['j{}_high'.format(j_num)]\n",
    "        none2 = [none_lows,none_highs]\n",
    "        none_a = pd.concat(none2) #baseline 2a\n",
    "        j_num = 3\n",
    "    else:\n",
    "        none_lows = baseline_data_a['j{}_low'.format(j_num)]\n",
    "        none_highs = baseline_data_a['j{}_high'.format(j_num)]\n",
    "        none2 = [none_lows,none_highs]\n",
    "        none_a = pd.concat(none2) #baseline 2a\n",
    "        none_b = baseline_data_b['j{}_mean'.format(j_num)] #baseline 2b\n",
    "    print(none_a.mean())\n",
    "    print(none_b.mean())\n",
    "    print('{}: {}'.format(PLOTTING_OPTIONS['ticks'][j_num],\n",
    "              describe.independent_t_test(none_a, none_b)))\n",
    "    "
   ]
  },
  {
   "cell_type": "code",
   "execution_count": 19,
   "metadata": {},
   "outputs": [
    {
     "name": "stdout",
     "output_type": "stream",
     "text": [
      "3.06090534979424\n",
      "3.484172661870501\n",
      "3.4814814814814805\n",
      "Curiosity: t = -3.8, p = 0.000159, Δ = 0.423 (1 greater)\n",
      "Curiosity: t = 0.0246, p = 0.98, Δ = -0.00269 (0 greater)\n",
      "1.7168724279835395\n",
      "1.6143884892086335\n",
      "1.7934156378600823\n",
      "Confidence: t = 0.907, p = 0.365, Δ = -0.102 (0 greater)\n",
      "Confidence: t = -1.55, p = 0.122, Δ = 0.179 (1 greater)\n",
      "2.5720164609053504\n",
      "2.6496402877697847\n",
      "2.8551440329218116\n",
      "Usefulness: t = -0.711, p = 0.477, Δ = 0.0776 (1 greater)\n",
      "Usefulness: t = -1.86, p = 0.0632, Δ = 0.206 (1 greater)\n",
      "2.2255144032921814\n",
      "2.2496402877697848\n",
      "2.5465020576131705\n",
      "Social Utility: t = -0.221, p = 0.825, Δ = 0.0241 (1 greater)\n",
      "Social Utility: t = -2.66, p = 0.00806, Δ = 0.297 (1 greater)\n"
     ]
    }
   ],
   "source": [
    "#compare baseline with upvotes here\n",
    "import pickle\n",
    "\n",
    "with open('raw-data/baseline_2b.pkl', 'rb') as f:\n",
    "    baseline_data = pickle.load(f) #get baseline data here\n",
    "    \n",
    "for j_num in range(4):\n",
    "    \n",
    "    if(j_num == 3):\n",
    "        g1_values = baseline_data['j{}_mean'.format(j_num)] #baseline\n",
    "        j_num = 5\n",
    "        g0_values = data['g0_j{}_mean'.format(j_num)] #low        \n",
    "        g2_values = data['g1_j{}_mean'.format(j_num)] #high  \n",
    "        print(g0_values.mean())\n",
    "        print(g1_values.mean())\n",
    "        print(g2_values.mean())\n",
    "        print('{}: {}'.format(PLOTTING_OPTIONS['ticks'][j_num],\n",
    "                  describe.independent_t_test(g0_values, g1_values)))\n",
    "        print('{}: {}'.format(PLOTTING_OPTIONS['ticks'][j_num],\n",
    "                  describe.independent_t_test(g1_values, g2_values)))\n",
    "    else:\n",
    "        g0_values = data['g0_j{}_mean'.format(j_num)] #low\n",
    "        g1_values = baseline_data['j{}_mean'.format(j_num)] #baseline\n",
    "        g2_values = data['g1_j{}_mean'.format(j_num)] #high \n",
    "        print(g0_values.mean())\n",
    "        print(g1_values.mean())\n",
    "        print(g2_values.mean())\n",
    "        print('{}: {}'.format(PLOTTING_OPTIONS['ticks'][j_num],\n",
    "                  describe.independent_t_test(g0_values, g1_values)))\n",
    "        print('{}: {}'.format(PLOTTING_OPTIONS['ticks'][j_num],\n",
    "                  describe.independent_t_test(g1_values, g2_values)))\n"
   ]
  },
  {
   "cell_type": "code",
   "execution_count": 6,
   "metadata": {},
   "outputs": [],
   "source": [
    "g0_confidences = {num: [] for num in range(7)}\n",
    "g1_confidences = {num: [] for num in range(7)}\n",
    "for index, row in data.iterrows():\n",
    "    for q_num in range(QUESTIONS):\n",
    "        cur_rating = row['g0_q{}_j0'.format(q_num)] - row['g0_j0_mean']\n",
    "        conf_rating = row['g0_q{}_j1'.format(q_num)]\n",
    "        g0_confidences[conf_rating].append(cur_rating)\n",
    "        \n",
    "        cur_rating = row['g1_q{}_j0'.format(q_num)] - row['g1_j0_mean'] # i do not know what this is for - row['g1_j0_mean'], maybe normalization?\n",
    "        conf_rating = row['g1_q{}_j1'.format(q_num)]\n",
    "        g1_confidences[conf_rating].append(cur_rating)\n",
    "   \n",
    "all_confidences = {}\n",
    "for num in range(7):\n",
    "    all_confidences[num] = g0_confidences[num] + g1_confidences[num]\n",
    "   "
   ]
  },
  {
   "cell_type": "code",
   "execution_count": 7,
   "metadata": {},
   "outputs": [
    {
     "data": {
      "image/png": "[encoded data removed]",
      "text/plain": [
       "<Figure size 432x288 with 1 Axes>"
      ]
     },
     "metadata": {
      "needs_background": "light"
     },
     "output_type": "display_data"
    }
   ],
   "source": [
    "PLOTTING_OPTIONS = {\n",
    "    'ylabel': 'Average Curiosity Rating',\n",
    "    'xlabel': 'Confidence Rating',\n",
    "    'title': 'Curiosity vs Confidence',\n",
    "}\n",
    "\n",
    "\n",
    "means = [np.mean(all_confidences[num]) for num in range(7)]\n",
    "stderr = [stats.sem(all_confidences[num]) for num in range(7)]\n",
    "    \n",
    "plotting.plot_single_bar(\n",
    "    means, stderr,\n",
    "    **PLOTTING_OPTIONS\n",
    ")\n",
    "plt.show()"
   ]
  },
  {
   "cell_type": "code",
   "execution_count": 8,
   "metadata": {},
   "outputs": [],
   "source": [
    "from sklearn import preprocessing\n",
    "\n",
    "x_values = []\n",
    "y_values = []\n",
    "for num in range(7):\n",
    "    x_values += [num / 6 for _ in range(len(all_confidences[num]))]\n",
    "    y_values += all_confidences[num]\n",
    "\n",
    "x_values = np.reshape(np.array(x_values), (-1, 1))\n",
    "y_values = np.reshape(np.array(y_values), (-1, 1))\n",
    "x_values_quadratic = preprocessing.PolynomialFeatures(2).fit_transform(x_values)"
   ]
  },
  {
   "cell_type": "code",
   "execution_count": 9,
   "metadata": {},
   "outputs": [
    {
     "data": {
      "text/html": [
       "<table class=\"simpletable\">\n",
       "<caption>OLS Regression Results</caption>\n",
       "<tr>\n",
       "  <th>Dep. Variable:</th>            <td>y</td>        <th>  R-squared:         </th> <td>   0.025</td>\n",
       "</tr>\n",
       "<tr>\n",
       "  <th>Model:</th>                   <td>OLS</td>       <th>  Adj. R-squared:    </th> <td>   0.024</td>\n",
       "</tr>\n",
       "<tr>\n",
       "  <th>Method:</th>             <td>Least Squares</td>  <th>  F-statistic:       </th> <td>   30.28</td>\n",
       "</tr>\n",
       "<tr>\n",
       "  <th>Date:</th>             <td>Sun, 11 Aug 2019</td> <th>  Prob (F-statistic):</th> <td>1.03e-13</td>\n",
       "</tr>\n",
       "<tr>\n",
       "  <th>Time:</th>                 <td>17:00:11</td>     <th>  Log-Likelihood:    </th> <td> -4409.6</td>\n",
       "</tr>\n",
       "<tr>\n",
       "  <th>No. Observations:</th>      <td>  2380</td>      <th>  AIC:               </th> <td>   8825.</td>\n",
       "</tr>\n",
       "<tr>\n",
       "  <th>Df Residuals:</th>          <td>  2377</td>      <th>  BIC:               </th> <td>   8843.</td>\n",
       "</tr>\n",
       "<tr>\n",
       "  <th>Df Model:</th>              <td>     2</td>      <th>                     </th>     <td> </td>   \n",
       "</tr>\n",
       "<tr>\n",
       "  <th>Covariance Type:</th>      <td>nonrobust</td>    <th>                     </th>     <td> </td>   \n",
       "</tr>\n",
       "</table>\n",
       "<table class=\"simpletable\">\n",
       "<tr>\n",
       "    <td></td>       <th>coef</th>     <th>std err</th>      <th>t</th>      <th>P>|t|</th>  <th>[0.025</th>    <th>0.975]</th>  \n",
       "</tr>\n",
       "<tr>\n",
       "  <th>const</th> <td>    0.0321</td> <td>    0.047</td> <td>    0.682</td> <td> 0.495</td> <td>   -0.060</td> <td>    0.124</td>\n",
       "</tr>\n",
       "<tr>\n",
       "  <th>x1</th>    <td>    1.2238</td> <td>    0.320</td> <td>    3.829</td> <td> 0.000</td> <td>    0.597</td> <td>    1.851</td>\n",
       "</tr>\n",
       "<tr>\n",
       "  <th>x2</th>    <td>   -2.0748</td> <td>    0.362</td> <td>   -5.738</td> <td> 0.000</td> <td>   -2.784</td> <td>   -1.366</td>\n",
       "</tr>\n",
       "</table>\n",
       "<table class=\"simpletable\">\n",
       "<tr>\n",
       "  <th>Omnibus:</th>       <td> 4.076</td> <th>  Durbin-Watson:     </th> <td>   2.161</td>\n",
       "</tr>\n",
       "<tr>\n",
       "  <th>Prob(Omnibus):</th> <td> 0.130</td> <th>  Jarque-Bera (JB):  </th> <td>   4.046</td>\n",
       "</tr>\n",
       "<tr>\n",
       "  <th>Skew:</th>          <td>-0.101</td> <th>  Prob(JB):          </th> <td>   0.132</td>\n",
       "</tr>\n",
       "<tr>\n",
       "  <th>Kurtosis:</th>      <td> 3.014</td> <th>  Cond. No.          </th> <td>    16.1</td>\n",
       "</tr>\n",
       "</table><br/><br/>Warnings:<br/>[1] Standard Errors assume that the covariance matrix of the errors is correctly specified."
      ],
      "text/plain": [
       "<class 'statsmodels.iolib.summary.Summary'>\n",
       "\"\"\"\n",
       "                            OLS Regression Results                            \n",
       "==============================================================================\n",
       "Dep. Variable:                      y   R-squared:                       0.025\n",
       "Model:                            OLS   Adj. R-squared:                  0.024\n",
       "Method:                 Least Squares   F-statistic:                     30.28\n",
       "Date:                Sun, 11 Aug 2019   Prob (F-statistic):           1.03e-13\n",
       "Time:                        17:00:11   Log-Likelihood:                -4409.6\n",
       "No. Observations:                2380   AIC:                             8825.\n",
       "Df Residuals:                    2377   BIC:                             8843.\n",
       "Df Model:                           2                                         \n",
       "Covariance Type:            nonrobust                                         \n",
       "==============================================================================\n",
       "                 coef    std err          t      P>|t|      [0.025      0.975]\n",
       "------------------------------------------------------------------------------\n",
       "const          0.0321      0.047      0.682      0.495      -0.060       0.124\n",
       "x1             1.2238      0.320      3.829      0.000       0.597       1.851\n",
       "x2            -2.0748      0.362     -5.738      0.000      -2.784      -1.366\n",
       "==============================================================================\n",
       "Omnibus:                        4.076   Durbin-Watson:                   2.161\n",
       "Prob(Omnibus):                  0.130   Jarque-Bera (JB):                4.046\n",
       "Skew:                          -0.101   Prob(JB):                        0.132\n",
       "Kurtosis:                       3.014   Cond. No.                         16.1\n",
       "==============================================================================\n",
       "\n",
       "Warnings:\n",
       "[1] Standard Errors assume that the covariance matrix of the errors is correctly specified.\n",
       "\"\"\""
      ]
     },
     "execution_count": 9,
     "metadata": {},
     "output_type": "execute_result"
    }
   ],
   "source": [
    "import statsmodels.api as sm\n",
    "results = sm.OLS(y_values, x_values_quadratic).fit()\n",
    "results.summary()"
   ]
  },
  {
   "cell_type": "code",
   "execution_count": 10,
   "metadata": {},
   "outputs": [
    {
     "name": "stdout",
     "output_type": "stream",
     "text": [
      "Best Polynomial\n",
      "y = -2.075x^2 + 1.224x + 0.03208\n",
      "y = 2.075x(1 - x) + -0.851x \n"
     ]
    }
   ],
   "source": [
    "result = results.params\n",
    "\n",
    "print('Best Polynomial')\n",
    "print('y = {:.4}x^2 + {:.4}x + {:.4}'.format(result[2], result[1], result[0]))\n",
    "print('y = {:.4}x(1 - x) + {:.4}x '.format(-result[2], result[1] + result[2], result[0]))"
   ]
  },
  {
   "cell_type": "code",
   "execution_count": 33,
   "metadata": {},
   "outputs": [
    {
     "data": {
      "image/png": "[encoded data removed]",
      "text/plain": [
       "<Figure size 432x288 with 1 Axes>"
      ]
     },
     "metadata": {
      "needs_background": "light"
     },
     "output_type": "display_data"
    }
   ],
   "source": [
    "import matplotlib as mpl\n",
    "mpl.rcParams['axes.linewidth'] = 2 #set the value globally\n",
    "ax = plt.figure()\n",
    "poly = np.poly1d(list(reversed(result)))\n",
    "x_ticks = np.linspace(0, 1, 100)\n",
    "plt.errorbar(np.linspace(0, 1, 7), means, stderr, color='darkgreen', marker='o', linestyle=\"None\",zorder=2)\n",
    "plt.plot(x_ticks, poly(x_ticks), '-', linewidth=4.0, color='lightblue', zorder=1)\n",
    "plt.ylim([-1.2, 0.5])\n",
    "plt.xlabel('Confidence',fontsize=18)\n",
    "plt.ylabel('Curiosity',fontsize=18)\n",
    "\n",
    "\n",
    "ax.savefig('u-shape.png', bbox_inches='tight', dpi=1200)\n"
   ]
  },
  {
   "cell_type": "code",
   "execution_count": null,
   "metadata": {},
   "outputs": [],
   "source": []
  },
  {
   "cell_type": "code",
   "execution_count": null,
   "metadata": {},
   "outputs": [],
   "source": []
  }
 ],
 "metadata": {
  "kernel_info": {
   "name": "python3"
  },
  "kernelspec": {
   "display_name": "Python 3",
   "language": "python",
   "name": "python3"
  },
  "language_info": {
   "codemirror_mode": {
    "name": "ipython",
    "version": 3
   },
   "file_extension": ".py",
   "mimetype": "text/x-python",
   "name": "python",
   "nbconvert_exporter": "python",
   "pygments_lexer": "ipython3",
   "version": "3.7.3"
  },
  "nteract": {
   "version": "0.5.5"
  }
 },
 "nbformat": 4,
 "nbformat_minor": 4
}
