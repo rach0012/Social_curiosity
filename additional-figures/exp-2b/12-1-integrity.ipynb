{
 "cells": [
  {
   "cell_type": "markdown",
   "metadata": {},
   "source": [
    "# 11-experiment-three-cogsci\n",
    "\n",
    "## Integrity"
   ]
  },
  {
   "cell_type": "code",
   "execution_count": 1,
   "metadata": {},
   "outputs": [],
   "source": [
    "# Analytical Tools\n",
    "import numpy as np\n",
    "import pandas as pd\n",
    "from scipy import stats\n",
    "import matplotlib.pyplot as plt\n",
    "import seaborn as sns\n",
    "\n",
    "# General Utilities\n",
    "import itertools\n",
    "import json\n",
    "import pprint\n",
    "\n",
    "# Custom Utilities\n",
    "import utilities.plotting as plotting\n",
    "import utilities.describe as describe\n"
   ]
  },
  {
   "cell_type": "markdown",
   "metadata": {},
   "source": [
    "### Reading Data"
   ]
  },
  {
   "cell_type": "code",
   "execution_count": 2,
   "metadata": {},
   "outputs": [],
   "source": [
    "GROUPS = 2\n",
    "QUESTIONS = 5\n",
    "JUDGMENTS = 6\n",
    "SCORE_THRESHOLD = 240.9\n",
    "\n",
    "FILE_NAMES = [\n",
    "    'data/raw-3.json',\n",
    "]\n",
    "\n",
    "master_responses = []\n",
    "for name in FILE_NAMES:\n",
    "    with open(name) as file:\n",
    "        master_responses.extend(json.loads(line) for line in file if line)"
   ]
  },
  {
   "cell_type": "code",
   "execution_count": 3,
   "metadata": {},
   "outputs": [],
   "source": [
    "def _get_group(score):\n",
    "    if score < SCORE_THRESHOLD:\n",
    "        return 0\n",
    "    return 1"
   ]
  },
  {
   "cell_type": "markdown",
   "metadata": {},
   "source": [
    "### Parsing Data"
   ]
  },
  {
   "cell_type": "code",
   "execution_count": 4,
   "metadata": {},
   "outputs": [],
   "source": [
    "data = {\n",
    "    'id': [],\n",
    "    'consent': [],\n",
    "    'attention': []\n",
    "}\n",
    "\n",
    "for g_num in range(GROUPS):\n",
    "    for q_num in range(QUESTIONS):\n",
    "        data['g{}_q{}_score'.format(g_num, q_num)] = []\n",
    "        data['g{}_q{}_index'.format(g_num, q_num)] = []\n",
    "        for j_num in range(JUDGMENTS):\n",
    "            data['g{}_q{}_j{}'.format(g_num, q_num, j_num)] = []"
   ]
  },
  {
   "cell_type": "code",
   "execution_count": 5,
   "metadata": {},
   "outputs": [],
   "source": [
    "ANSWER_KEYS = ('Q0', 'Q1', 'Q2', 'Q3', 'Q4', 'Q5')\n",
    "\n",
    "for person in master_responses:\n",
    "    # Grab data & ID\n",
    "    person_data = person['data']  \n",
    "    data['id'].append(person_data[0]['participantID'])\n",
    "    \n",
    "    # Fill in question labels\n",
    "    question_scores = person_data[0]['questionScores']\n",
    "    question_indices = person_data[0]['questionIndices']\n",
    "    \n",
    "    counters = [0, 0]\n",
    "    question_labels = []\n",
    "    for score in question_scores:\n",
    "        g_num = _get_group(score)\n",
    "        question_labels.append('g{}_q{}'.format(g_num, counters[g_num]))\n",
    "        counters[g_num] += 1\n",
    "    \n",
    "    for q_label, score in zip(question_labels, question_scores):\n",
    "        data['{}_score'.format(q_label)].append(score)\n",
    "    for q_label, index in zip(question_labels, question_indices):\n",
    "        data['{}_index'.format(q_label)].append(index)\n",
    "    \n",
    "    # Get consent response\n",
    "    consent_answer = json.loads(person_data[0]['responses'])\n",
    "    consent_value = int(consent_answer['Q0'].startswith('I consent'))\n",
    "    data['consent'].append(consent_value)\n",
    "\n",
    "    # Fill in judgments\n",
    "    judgment_indices = person_data[0]['judgmentIndices']\n",
    "    \n",
    "    for q_label, likert_index in zip(question_labels, range(2, 14)):\n",
    "        answer = json.loads(person_data[likert_index]['responses'])\n",
    "        for j_label, key in zip(judgment_indices, ANSWER_KEYS):\n",
    "            rating = int(answer[key])\n",
    "            data['{}_j{}'.format(q_label, j_label)].append(rating)\n",
    "\n",
    "    # Attention check\n",
    "    attention_answer = json.loads(person_data[7]['responses'])\n",
    "    attention_value = int(attention_answer['Q6'] == '6')\n",
    "    data['attention'].append(attention_value)"
   ]
  },
  {
   "cell_type": "markdown",
   "metadata": {},
   "source": [
    "### Reading Responses into Data"
   ]
  },
  {
   "cell_type": "code",
   "execution_count": 6,
   "metadata": {},
   "outputs": [
    {
     "data": {
      "text/html": [
       "<div>\n",
       "<style scoped>\n",
       "    .dataframe tbody tr th:only-of-type {\n",
       "        vertical-align: middle;\n",
       "    }\n",
       "\n",
       "    .dataframe tbody tr th {\n",
       "        vertical-align: top;\n",
       "    }\n",
       "\n",
       "    .dataframe thead th {\n",
       "        text-align: right;\n",
       "    }\n",
       "</style>\n",
       "<table border=\"1\" class=\"dataframe\">\n",
       "  <thead>\n",
       "    <tr style=\"text-align: right;\">\n",
       "      <th></th>\n",
       "      <th>attention</th>\n",
       "      <th>consent</th>\n",
       "      <th>g0_q0_index</th>\n",
       "      <th>g0_q0_j0</th>\n",
       "      <th>g0_q0_j1</th>\n",
       "      <th>g0_q0_j2</th>\n",
       "      <th>g0_q0_j3</th>\n",
       "      <th>g0_q0_j4</th>\n",
       "      <th>g0_q0_j5</th>\n",
       "      <th>g0_q0_score</th>\n",
       "      <th>...</th>\n",
       "      <th>g1_q3_score</th>\n",
       "      <th>g1_q4_index</th>\n",
       "      <th>g1_q4_j0</th>\n",
       "      <th>g1_q4_j1</th>\n",
       "      <th>g1_q4_j2</th>\n",
       "      <th>g1_q4_j3</th>\n",
       "      <th>g1_q4_j4</th>\n",
       "      <th>g1_q4_j5</th>\n",
       "      <th>g1_q4_score</th>\n",
       "      <th>id</th>\n",
       "    </tr>\n",
       "  </thead>\n",
       "  <tbody>\n",
       "    <tr>\n",
       "      <th>0</th>\n",
       "      <td>1</td>\n",
       "      <td>1</td>\n",
       "      <td>2</td>\n",
       "      <td>4</td>\n",
       "      <td>3</td>\n",
       "      <td>5</td>\n",
       "      <td>0</td>\n",
       "      <td>5</td>\n",
       "      <td>5</td>\n",
       "      <td>36</td>\n",
       "      <td>...</td>\n",
       "      <td>24032</td>\n",
       "      <td>40</td>\n",
       "      <td>3</td>\n",
       "      <td>2</td>\n",
       "      <td>4</td>\n",
       "      <td>5</td>\n",
       "      <td>1</td>\n",
       "      <td>5</td>\n",
       "      <td>24039</td>\n",
       "      <td>sana26r21r9md90gqj3o7fm1rm4rpw2p</td>\n",
       "    </tr>\n",
       "    <tr>\n",
       "      <th>1</th>\n",
       "      <td>1</td>\n",
       "      <td>1</td>\n",
       "      <td>10</td>\n",
       "      <td>2</td>\n",
       "      <td>2</td>\n",
       "      <td>3</td>\n",
       "      <td>2</td>\n",
       "      <td>2</td>\n",
       "      <td>2</td>\n",
       "      <td>30</td>\n",
       "      <td>...</td>\n",
       "      <td>24050</td>\n",
       "      <td>0</td>\n",
       "      <td>1</td>\n",
       "      <td>3</td>\n",
       "      <td>1</td>\n",
       "      <td>1</td>\n",
       "      <td>1</td>\n",
       "      <td>1</td>\n",
       "      <td>24051</td>\n",
       "      <td>68d2brqo4tuf7kstwx0evwcuu5hqf9o2</td>\n",
       "    </tr>\n",
       "    <tr>\n",
       "      <th>2</th>\n",
       "      <td>1</td>\n",
       "      <td>1</td>\n",
       "      <td>32</td>\n",
       "      <td>6</td>\n",
       "      <td>2</td>\n",
       "      <td>5</td>\n",
       "      <td>2</td>\n",
       "      <td>3</td>\n",
       "      <td>3</td>\n",
       "      <td>14</td>\n",
       "      <td>...</td>\n",
       "      <td>24054</td>\n",
       "      <td>23</td>\n",
       "      <td>2</td>\n",
       "      <td>0</td>\n",
       "      <td>1</td>\n",
       "      <td>6</td>\n",
       "      <td>6</td>\n",
       "      <td>1</td>\n",
       "      <td>24047</td>\n",
       "      <td>rxt9ompoqypdk5v67wmwpseu29te3s08</td>\n",
       "    </tr>\n",
       "    <tr>\n",
       "      <th>3</th>\n",
       "      <td>0</td>\n",
       "      <td>1</td>\n",
       "      <td>45</td>\n",
       "      <td>6</td>\n",
       "      <td>0</td>\n",
       "      <td>4</td>\n",
       "      <td>0</td>\n",
       "      <td>6</td>\n",
       "      <td>0</td>\n",
       "      <td>15</td>\n",
       "      <td>...</td>\n",
       "      <td>24026</td>\n",
       "      <td>21</td>\n",
       "      <td>6</td>\n",
       "      <td>6</td>\n",
       "      <td>0</td>\n",
       "      <td>3</td>\n",
       "      <td>6</td>\n",
       "      <td>0</td>\n",
       "      <td>24051</td>\n",
       "      <td>e4zr4k2wtn02qngsjapkp4w911s169qu</td>\n",
       "    </tr>\n",
       "    <tr>\n",
       "      <th>4</th>\n",
       "      <td>1</td>\n",
       "      <td>1</td>\n",
       "      <td>41</td>\n",
       "      <td>5</td>\n",
       "      <td>0</td>\n",
       "      <td>3</td>\n",
       "      <td>4</td>\n",
       "      <td>6</td>\n",
       "      <td>2</td>\n",
       "      <td>24</td>\n",
       "      <td>...</td>\n",
       "      <td>24060</td>\n",
       "      <td>42</td>\n",
       "      <td>2</td>\n",
       "      <td>0</td>\n",
       "      <td>4</td>\n",
       "      <td>6</td>\n",
       "      <td>5</td>\n",
       "      <td>4</td>\n",
       "      <td>24032</td>\n",
       "      <td>wul66ydj8kvrksvrb3u57s0eap457scs</td>\n",
       "    </tr>\n",
       "  </tbody>\n",
       "</table>\n",
       "<p>5 rows × 83 columns</p>\n",
       "</div>"
      ],
      "text/plain": [
       "   attention  consent  g0_q0_index  g0_q0_j0  g0_q0_j1  g0_q0_j2  g0_q0_j3  \\\n",
       "0          1        1            2         4         3         5         0   \n",
       "1          1        1           10         2         2         3         2   \n",
       "2          1        1           32         6         2         5         2   \n",
       "3          0        1           45         6         0         4         0   \n",
       "4          1        1           41         5         0         3         4   \n",
       "\n",
       "   g0_q0_j4  g0_q0_j5  g0_q0_score                ...                 \\\n",
       "0         5         5           36                ...                  \n",
       "1         2         2           30                ...                  \n",
       "2         3         3           14                ...                  \n",
       "3         6         0           15                ...                  \n",
       "4         6         2           24                ...                  \n",
       "\n",
       "   g1_q3_score  g1_q4_index  g1_q4_j0  g1_q4_j1  g1_q4_j2  g1_q4_j3  g1_q4_j4  \\\n",
       "0        24032           40         3         2         4         5         1   \n",
       "1        24050            0         1         3         1         1         1   \n",
       "2        24054           23         2         0         1         6         6   \n",
       "3        24026           21         6         6         0         3         6   \n",
       "4        24060           42         2         0         4         6         5   \n",
       "\n",
       "   g1_q4_j5  g1_q4_score                                id  \n",
       "0         5        24039  sana26r21r9md90gqj3o7fm1rm4rpw2p  \n",
       "1         1        24051  68d2brqo4tuf7kstwx0evwcuu5hqf9o2  \n",
       "2         1        24047  rxt9ompoqypdk5v67wmwpseu29te3s08  \n",
       "3         0        24051  e4zr4k2wtn02qngsjapkp4w911s169qu  \n",
       "4         4        24032  wul66ydj8kvrksvrb3u57s0eap457scs  \n",
       "\n",
       "[5 rows x 83 columns]"
      ]
     },
     "execution_count": 6,
     "metadata": {},
     "output_type": "execute_result"
    }
   ],
   "source": [
    "data = pd.DataFrame(data)\n",
    "sample_size = len(data)\n",
    "data.head()"
   ]
  },
  {
   "cell_type": "code",
   "execution_count": 7,
   "metadata": {
    "scrolled": true
   },
   "outputs": [
    {
     "name": "stdout",
     "output_type": "stream",
     "text": [
      "264 21912\n",
      "264 21912\n",
      "243 20169\n",
      "Inclusion: 92.05% \n"
     ]
    }
   ],
   "source": [
    "print(len(data), data.size)\n",
    "data = data[data.consent == 1]\n",
    "print(len(data), data.size)\n",
    "data = data[data.attention == 1]\n",
    "print(len(data), data.size)\n",
    "\n",
    "print('Inclusion: {:.4}% '.format(len(data) / sample_size * 100))"
   ]
  },
  {
   "cell_type": "code",
   "execution_count": 8,
   "metadata": {},
   "outputs": [
    {
     "data": {
      "image/png": "[encoded data removed]",
      "text/plain": [
       "<Figure size 432x288 with 1 Axes>"
      ]
     },
     "metadata": {
      "needs_background": "light"
     },
     "output_type": "display_data"
    },
    {
     "name": "stdout",
     "output_type": "stream",
     "text": [
      "[[4 5 4 5 5 5 4 5 4 5 5 4 5 5 4 5 4 5 4 5 5 5 4 5 4 5 4 5 4 5 4 5 5 5 4 4 5\n",
      "  5 4 4 5 5 5 5 4 5 4 5 5 5 4 5 4 5 4 4 5 5 5 4]]\n"
     ]
    },
    {
     "name": "stderr",
     "output_type": "stream",
     "text": [
      "C:\\Users\\RACH0_000\\Anaconda3\\lib\\site-packages\\numpy\\core\\fromnumeric.py:1033: FutureWarning: 'argmin' is deprecated, use 'idxmin' instead. The behavior of 'argmin'\n",
      "will be corrected to return the positional minimum in the future.\n",
      "Use 'series.values.argmin' to get the position of the minimum now.\n",
      "  return argmin(axis, out)\n"
     ]
    }
   ],
   "source": [
    "judgments = []\n",
    "for g_num in range(GROUPS):\n",
    "    for q_num in range(QUESTIONS):\n",
    "        for j_num in range(JUDGMENTS):\n",
    "            judgments.append('g{}_q{}_j{}'.format(g_num, q_num, j_num))\n",
    "scores = data[judgments]\n",
    "data['j_mean'] = scores.mean(axis=1)\n",
    "data['j_std'] =scores.std(axis=1)\n",
    "\n",
    "plt.hist(data['j_std'], bins=20)\n",
    "plt.show()\n",
    "\n",
    "index = np.argmin(data['j_std'])\n",
    "print(scores.loc[[index]].values)"
   ]
  },
  {
   "cell_type": "code",
   "execution_count": 9,
   "metadata": {},
   "outputs": [],
   "source": [
    "#print(len(data), data.size)\n",
    "#data = data[data.j_std > 0.75]\n",
    "#index = np.argmin(data['j_std'])\n",
    "#print(scores.loc[[index]].values)\n",
    "#print('Inclusion: {:.4}% '.format(len(data) / sample_size * 100))"
   ]
  },
  {
   "cell_type": "markdown",
   "metadata": {},
   "source": [
    "### Saving Data"
   ]
  },
  {
   "cell_type": "code",
   "execution_count": 10,
   "metadata": {},
   "outputs": [],
   "source": [
    "data.to_pickle('data/responses.pkl')"
   ]
  },
  {
   "cell_type": "code",
   "execution_count": null,
   "metadata": {},
   "outputs": [],
   "source": []
  }
 ],
 "metadata": {
  "kernel_info": {
   "name": "python3"
  },
  "kernelspec": {
   "display_name": "Python 3",
   "language": "python",
   "name": "python3"
  },
  "language_info": {
   "codemirror_mode": {
    "name": "ipython",
    "version": 3
   },
   "file_extension": ".py",
   "mimetype": "text/x-python",
   "name": "python",
   "nbconvert_exporter": "python",
   "pygments_lexer": "ipython3",
   "version": "3.7.3"
  },
  "nteract": {
   "version": "0.5.5"
  }
 },
 "nbformat": 4,
 "nbformat_minor": 4
}
