{
 "cells": [
  {
   "cell_type": "markdown",
   "metadata": {},
   "source": [
    "# Experiment Nine\n",
    "\n",
    "## Processing"
   ]
  },
  {
   "cell_type": "code",
   "execution_count": 2,
   "metadata": {},
   "outputs": [],
   "source": [
    "# Analytical Tools\n",
    "import numpy as np\n",
    "import pandas as pd\n",
    "from scipy import stats\n",
    "import matplotlib.pyplot as plt\n",
    "import seaborn as sns\n",
    "\n",
    "# General Utilities\n",
    "import itertools\n",
    "import json\n",
    "import pprint\n",
    "\n",
    "# Custom Utilities\n",
    "import utilities.processing as processing\n",
    "import utilities.plotting as plotting\n",
    "import utilities.describe as describe\n",
    "\n",
    "# Some settings\n",
    "log = pprint.pprint\n",
    "%matplotlib inline\n",
    "pd.options.mode.chained_assignment = None"
   ]
  },
  {
   "cell_type": "markdown",
   "metadata": {},
   "source": [
    "### Reading Data and Defining Constants\n",
    "\n",
    "Notice the first three entries of the `survey-eight-entries.json` are discarded since they were collected before the experiment went live. This can be seen from the fact that these are the only three entries without a `responseType` attribute. These were written to the database before this was added to the code."
   ]
  },
  {
   "cell_type": "code",
   "execution_count": 3,
   "metadata": {},
   "outputs": [],
   "source": [
    "FILE_NAMES = [\n",
    "    'raw-data/survey-eight-entries.json',\n",
    "    'raw-data/survey-nine-entries.json'\n",
    "]\n",
    "\n",
    "NUM_QUESTIONS, NUM_JUDGEMENTS = 10, 7\n",
    "GROUP_SIZE = NUM_QUESTIONS // 2\n",
    "\n",
    "ALL_LABELS = processing.get_all_labels(NUM_QUESTIONS)\n",
    "LOW_LABELS, HIGH_LABELS = ALL_LABELS[:GROUP_SIZE], ALL_LABELS[GROUP_SIZE:]\n",
    "JUDGMENT_LABELS = processing.get_judgment_labels(NUM_JUDGEMENTS)\n",
    "\n",
    "master_responses = []\n",
    "for name in FILE_NAMES:\n",
    "    with open(name) as file:\n",
    "        master_responses.extend(json.loads(line) for line in file if line)\n",
    "master_responses = master_responses[3:]"
   ]
  },
  {
   "cell_type": "markdown",
   "metadata": {},
   "source": [
    "### Reading Responses into Data"
   ]
  },
  {
   "cell_type": "code",
   "execution_count": 4,
   "metadata": {},
   "outputs": [],
   "source": [
    "col_labels = processing.get_col_labels(NUM_QUESTIONS,\n",
    "                                       NUM_JUDGEMENTS)\n",
    "data = {label: [] for label in col_labels}"
   ]
  },
  {
   "cell_type": "code",
   "execution_count": 5,
   "metadata": {},
   "outputs": [],
   "source": [
    "processing.fill_experiment_data(data, master_responses)"
   ]
  },
  {
   "cell_type": "code",
   "execution_count": 6,
   "metadata": {},
   "outputs": [
    {
     "name": "stdout",
     "output_type": "stream",
     "text": [
      "145644 1374\n"
     ]
    },
    {
     "data": {
      "text/html": [
       "<div>\n",
       "<style scoped>\n",
       "    .dataframe tbody tr th:only-of-type {\n",
       "        vertical-align: middle;\n",
       "    }\n",
       "\n",
       "    .dataframe tbody tr th {\n",
       "        vertical-align: top;\n",
       "    }\n",
       "\n",
       "    .dataframe thead th {\n",
       "        text-align: right;\n",
       "    }\n",
       "</style>\n",
       "<table border=\"1\" class=\"dataframe\">\n",
       "  <thead>\n",
       "    <tr style=\"text-align: right;\">\n",
       "      <th></th>\n",
       "      <th>consent</th>\n",
       "      <th>group_number</th>\n",
       "      <th>high_q0_choice</th>\n",
       "      <th>high_q0_index</th>\n",
       "      <th>high_q0_j0</th>\n",
       "      <th>high_q0_j1</th>\n",
       "      <th>high_q0_j2</th>\n",
       "      <th>high_q0_j3</th>\n",
       "      <th>high_q0_j4</th>\n",
       "      <th>high_q0_j5</th>\n",
       "      <th>...</th>\n",
       "      <th>low_q4_j2</th>\n",
       "      <th>low_q4_j3</th>\n",
       "      <th>low_q4_j4</th>\n",
       "      <th>low_q4_j5</th>\n",
       "      <th>low_q4_j6</th>\n",
       "      <th>low_q4_score</th>\n",
       "      <th>participant_id</th>\n",
       "      <th>response_type</th>\n",
       "      <th>test_one</th>\n",
       "      <th>test_two</th>\n",
       "    </tr>\n",
       "  </thead>\n",
       "  <tbody>\n",
       "    <tr>\n",
       "      <th>0</th>\n",
       "      <td>NaN</td>\n",
       "      <td>1</td>\n",
       "      <td>NaN</td>\n",
       "      <td>NaN</td>\n",
       "      <td>NaN</td>\n",
       "      <td>NaN</td>\n",
       "      <td>NaN</td>\n",
       "      <td>NaN</td>\n",
       "      <td>NaN</td>\n",
       "      <td>NaN</td>\n",
       "      <td>...</td>\n",
       "      <td>NaN</td>\n",
       "      <td>NaN</td>\n",
       "      <td>NaN</td>\n",
       "      <td>NaN</td>\n",
       "      <td>NaN</td>\n",
       "      <td>NaN</td>\n",
       "      <td>99rekf2t4xdtu5odhzavjdvp9xuonxrj</td>\n",
       "      <td>1</td>\n",
       "      <td>NaN</td>\n",
       "      <td>NaN</td>\n",
       "    </tr>\n",
       "    <tr>\n",
       "      <th>1</th>\n",
       "      <td>NaN</td>\n",
       "      <td>2</td>\n",
       "      <td>NaN</td>\n",
       "      <td>NaN</td>\n",
       "      <td>NaN</td>\n",
       "      <td>NaN</td>\n",
       "      <td>NaN</td>\n",
       "      <td>NaN</td>\n",
       "      <td>NaN</td>\n",
       "      <td>NaN</td>\n",
       "      <td>...</td>\n",
       "      <td>NaN</td>\n",
       "      <td>NaN</td>\n",
       "      <td>NaN</td>\n",
       "      <td>NaN</td>\n",
       "      <td>NaN</td>\n",
       "      <td>NaN</td>\n",
       "      <td>452qucx2hfd37w8xa6lqqaot87zse4os</td>\n",
       "      <td>1</td>\n",
       "      <td>NaN</td>\n",
       "      <td>NaN</td>\n",
       "    </tr>\n",
       "    <tr>\n",
       "      <th>2</th>\n",
       "      <td>NaN</td>\n",
       "      <td>2</td>\n",
       "      <td>NaN</td>\n",
       "      <td>NaN</td>\n",
       "      <td>NaN</td>\n",
       "      <td>NaN</td>\n",
       "      <td>NaN</td>\n",
       "      <td>NaN</td>\n",
       "      <td>NaN</td>\n",
       "      <td>NaN</td>\n",
       "      <td>...</td>\n",
       "      <td>NaN</td>\n",
       "      <td>NaN</td>\n",
       "      <td>NaN</td>\n",
       "      <td>NaN</td>\n",
       "      <td>NaN</td>\n",
       "      <td>NaN</td>\n",
       "      <td>bnl1pze39sr3r5tbqymy43wet88xcjcz</td>\n",
       "      <td>1</td>\n",
       "      <td>NaN</td>\n",
       "      <td>NaN</td>\n",
       "    </tr>\n",
       "    <tr>\n",
       "      <th>3</th>\n",
       "      <td>NaN</td>\n",
       "      <td>2</td>\n",
       "      <td>NaN</td>\n",
       "      <td>NaN</td>\n",
       "      <td>NaN</td>\n",
       "      <td>NaN</td>\n",
       "      <td>NaN</td>\n",
       "      <td>NaN</td>\n",
       "      <td>NaN</td>\n",
       "      <td>NaN</td>\n",
       "      <td>...</td>\n",
       "      <td>NaN</td>\n",
       "      <td>NaN</td>\n",
       "      <td>NaN</td>\n",
       "      <td>NaN</td>\n",
       "      <td>NaN</td>\n",
       "      <td>NaN</td>\n",
       "      <td>ot522v0x3kbbo1fdkksm99rsc21gvv9g</td>\n",
       "      <td>1</td>\n",
       "      <td>NaN</td>\n",
       "      <td>NaN</td>\n",
       "    </tr>\n",
       "    <tr>\n",
       "      <th>4</th>\n",
       "      <td>NaN</td>\n",
       "      <td>2</td>\n",
       "      <td>NaN</td>\n",
       "      <td>NaN</td>\n",
       "      <td>NaN</td>\n",
       "      <td>NaN</td>\n",
       "      <td>NaN</td>\n",
       "      <td>NaN</td>\n",
       "      <td>NaN</td>\n",
       "      <td>NaN</td>\n",
       "      <td>...</td>\n",
       "      <td>NaN</td>\n",
       "      <td>NaN</td>\n",
       "      <td>NaN</td>\n",
       "      <td>NaN</td>\n",
       "      <td>NaN</td>\n",
       "      <td>NaN</td>\n",
       "      <td>y28quqev3xut7s1s765onuyy775mq59v</td>\n",
       "      <td>1</td>\n",
       "      <td>NaN</td>\n",
       "      <td>NaN</td>\n",
       "    </tr>\n",
       "  </tbody>\n",
       "</table>\n",
       "<p>5 rows × 106 columns</p>\n",
       "</div>"
      ],
      "text/plain": [
       "   consent  group_number  high_q0_choice  high_q0_index  high_q0_j0  \\\n",
       "0      NaN             1             NaN            NaN         NaN   \n",
       "1      NaN             2             NaN            NaN         NaN   \n",
       "2      NaN             2             NaN            NaN         NaN   \n",
       "3      NaN             2             NaN            NaN         NaN   \n",
       "4      NaN             2             NaN            NaN         NaN   \n",
       "\n",
       "   high_q0_j1  high_q0_j2  high_q0_j3  high_q0_j4  high_q0_j5    ...     \\\n",
       "0         NaN         NaN         NaN         NaN         NaN    ...      \n",
       "1         NaN         NaN         NaN         NaN         NaN    ...      \n",
       "2         NaN         NaN         NaN         NaN         NaN    ...      \n",
       "3         NaN         NaN         NaN         NaN         NaN    ...      \n",
       "4         NaN         NaN         NaN         NaN         NaN    ...      \n",
       "\n",
       "   low_q4_j2  low_q4_j3  low_q4_j4  low_q4_j5  low_q4_j6  low_q4_score  \\\n",
       "0        NaN        NaN        NaN        NaN        NaN           NaN   \n",
       "1        NaN        NaN        NaN        NaN        NaN           NaN   \n",
       "2        NaN        NaN        NaN        NaN        NaN           NaN   \n",
       "3        NaN        NaN        NaN        NaN        NaN           NaN   \n",
       "4        NaN        NaN        NaN        NaN        NaN           NaN   \n",
       "\n",
       "                     participant_id  response_type  test_one  test_two  \n",
       "0  99rekf2t4xdtu5odhzavjdvp9xuonxrj              1       NaN       NaN  \n",
       "1  452qucx2hfd37w8xa6lqqaot87zse4os              1       NaN       NaN  \n",
       "2  bnl1pze39sr3r5tbqymy43wet88xcjcz              1       NaN       NaN  \n",
       "3  ot522v0x3kbbo1fdkksm99rsc21gvv9g              1       NaN       NaN  \n",
       "4  y28quqev3xut7s1s765onuyy775mq59v              1       NaN       NaN  \n",
       "\n",
       "[5 rows x 106 columns]"
      ]
     },
     "execution_count": 6,
     "metadata": {},
     "output_type": "execute_result"
    }
   ],
   "source": [
    "data = pd.DataFrame(data)\n",
    "sample_size = len(data)\n",
    "print(data.size, sample_size)\n",
    "data.head()"
   ]
  },
  {
   "cell_type": "code",
   "execution_count": 7,
   "metadata": {
    "scrolled": true
   },
   "outputs": [
    {
     "name": "stdout",
     "output_type": "stream",
     "text": [
      "774 600\n",
      "77.52% completion\n"
     ]
    }
   ],
   "source": [
    "view_data = data[data.response_type == 1]\n",
    "response_data = data[data.response_type == 0]\n",
    "response_data = response_data[response_data.consent == 1]\n",
    "\n",
    "print(len(view_data), len(response_data))\n",
    "print('{:.4}% completion'.format(len(response_data) / len(view_data) * 100))"
   ]
  },
  {
   "cell_type": "markdown",
   "metadata": {},
   "source": [
    "### Seperating Groups and Checking Response Rate"
   ]
  },
  {
   "cell_type": "code",
   "execution_count": 8,
   "metadata": {},
   "outputs": [
    {
     "name": "stdout",
     "output_type": "stream",
     "text": [
      "186 197 391\n",
      "138 161 301\n"
     ]
    }
   ],
   "source": [
    "control_views = view_data[view_data.group_number == 0] \n",
    "post_views = view_data[view_data.group_number == 1]\n",
    "upvote_views = view_data[view_data.group_number == 2]\n",
    "control_responses = response_data[response_data.group_number == 0]\n",
    "post_responses = response_data[response_data.group_number == 1]\n",
    "upvote_responses = response_data[response_data.group_number == 2]\n",
    "\n",
    "print(len(control_views), len(post_views), len(upvote_views))\n",
    "print(len(control_responses), len(post_responses), len(upvote_responses))"
   ]
  },
  {
   "cell_type": "code",
   "execution_count": 9,
   "metadata": {},
   "outputs": [
    {
     "data": {
      "image/png": "[encoded data removed]",
      "text/plain": [
       "<Figure size 432x288 with 1 Axes>"
      ]
     },
     "metadata": {
      "needs_background": "light"
     },
     "output_type": "display_data"
    }
   ],
   "source": [
    "PLOTTING_OPTIONS = {\n",
    "    'ylabel': 'Proportion',\n",
    "    'ticks': ['Control', 'Post Number', 'Up-Votes'],\n",
    "    'title': 'Survey Followthrough',\n",
    "    \n",
    "}\n",
    "\n",
    "plotting.plot_single_bar(\n",
    "    [len(control_responses) / len(control_views),\n",
    "     len(post_responses) / len(post_views),\n",
    "     len(upvote_responses) / len(upvote_views)],\n",
    "    **PLOTTING_OPTIONS\n",
    ")"
   ]
  },
  {
   "cell_type": "markdown",
   "metadata": {},
   "source": [
    "### Checking Quiz Results"
   ]
  },
  {
   "cell_type": "code",
   "execution_count": 10,
   "metadata": {},
   "outputs": [
    {
     "data": {
      "image/png": "[encoded data removed]",
      "text/plain": [
       "<Figure size 720x360 with 1 Axes>"
      ]
     },
     "metadata": {
      "needs_background": "light"
     },
     "output_type": "display_data"
    }
   ],
   "source": [
    "PLOTTING_OPTIONS = {\n",
    "    'ylabel': 'Proportion',\n",
    "    'ticks': ['Control', 'Post Number', 'Up-Votes'],\n",
    "    'legend': ['Phase 1', 'Phase 2'],\n",
    "    'title': 'Instruction Quiz Pass Rate',\n",
    "    'size': (10, 5)\n",
    "}\n",
    "\n",
    "one_means, one_errs = [], []\n",
    "two_means, two_errs = [], []\n",
    "for group in (control_responses, post_responses, upvote_responses):\n",
    "    one_means.append(group.test_one.mean())\n",
    "    one_errs.append(stats.sem(group.test_one))\n",
    "    two_means.append(group.test_two.mean())\n",
    "    two_errs.append(stats.sem(group.test_two))\n",
    "    \n",
    "plotting.plot_double_bar(one_means, one_errs, two_means,\n",
    "                         two_errs, **PLOTTING_OPTIONS)\n"
   ]
  },
  {
   "cell_type": "code",
   "execution_count": 11,
   "metadata": {},
   "outputs": [
    {
     "name": "stdout",
     "output_type": "stream",
     "text": [
      "Control: 4 removed (2.9%) 134 left\n",
      "Post: 0 removed (0.0%) 161 left\n",
      "Upvote: 4 removed (1.35%) 297 left\n"
     ]
    }
   ],
   "source": [
    "new_control_responses = control_responses[\n",
    "    (control_responses.test_one == 1) | (control_responses.test_two == 1)]\n",
    "new_post_responses = post_responses[\n",
    "    (post_responses.test_one == 1) | (post_responses.test_two == 1)]\n",
    "new_upvote_responses = upvote_responses[\n",
    "    (upvote_responses.test_one == 1) | (upvote_responses.test_two == 1)]\n",
    "\n",
    "control_removed = len(control_responses) - len(new_control_responses)\n",
    "post_removed = len(post_responses) - len(new_post_responses)\n",
    "upvote_removed = len(upvote_responses) - len(new_upvote_responses)\n",
    "\n",
    "print('Control: {} removed ({:.3}%) {} left'.format(\n",
    "    control_removed,\n",
    "    control_removed / len(control_responses) * 100,\n",
    "    len(new_control_responses)\n",
    "))\n",
    "print('Post: {} removed ({:.3}%) {} left'.format(\n",
    "    post_removed,\n",
    "    post_removed / len(new_post_responses) * 100,\n",
    "    len(new_post_responses)\n",
    "))\n",
    "print('Upvote: {} removed ({:.3}%) {} left'.format(\n",
    "    upvote_removed,\n",
    "    upvote_removed / len(new_upvote_responses) * 100,\n",
    "    len(new_upvote_responses)\n",
    "))"
   ]
  },
  {
   "cell_type": "markdown",
   "metadata": {},
   "source": [
    "### Naive Variance Analaysis"
   ]
  },
  {
   "cell_type": "code",
   "execution_count": 12,
   "metadata": {},
   "outputs": [
    {
     "name": "stderr",
     "output_type": "stream",
     "text": [
      "C:\\Users\\RACH0_000\\Anaconda3\\lib\\site-packages\\ipykernel_launcher.py:11: UserWarning: Pandas doesn't allow columns to be created via a new attribute name - see https://pandas.pydata.org/pandas-docs/stable/indexing.html#attribute-access\n",
      "  # This is added back by InteractiveShellApp.init_path()\n",
      "C:\\Users\\RACH0_000\\Anaconda3\\lib\\site-packages\\matplotlib\\axes\\_axes.py:6521: MatplotlibDeprecationWarning: \n",
      "The 'normed' kwarg was deprecated in Matplotlib 2.1 and will be removed in 3.1. Use 'density' instead.\n",
      "  alternative=\"'density'\", removal=\"3.1\")\n",
      "C:\\Users\\RACH0_000\\Anaconda3\\lib\\site-packages\\ipykernel_launcher.py:11: UserWarning: Pandas doesn't allow columns to be created via a new attribute name - see https://pandas.pydata.org/pandas-docs/stable/indexing.html#attribute-access\n",
      "  # This is added back by InteractiveShellApp.init_path()\n",
      "C:\\Users\\RACH0_000\\Anaconda3\\lib\\site-packages\\matplotlib\\axes\\_axes.py:6521: MatplotlibDeprecationWarning: \n",
      "The 'normed' kwarg was deprecated in Matplotlib 2.1 and will be removed in 3.1. Use 'density' instead.\n",
      "  alternative=\"'density'\", removal=\"3.1\")\n",
      "C:\\Users\\RACH0_000\\Anaconda3\\lib\\site-packages\\ipykernel_launcher.py:11: UserWarning: Pandas doesn't allow columns to be created via a new attribute name - see https://pandas.pydata.org/pandas-docs/stable/indexing.html#attribute-access\n",
      "  # This is added back by InteractiveShellApp.init_path()\n",
      "C:\\Users\\RACH0_000\\Anaconda3\\lib\\site-packages\\matplotlib\\axes\\_axes.py:6521: MatplotlibDeprecationWarning: \n",
      "The 'normed' kwarg was deprecated in Matplotlib 2.1 and will be removed in 3.1. Use 'density' instead.\n",
      "  alternative=\"'density'\", removal=\"3.1\")\n"
     ]
    },
    {
     "data": {
      "image/png": "[encoded data removed]",
      "text/plain": [
       "<Figure size 432x288 with 1 Axes>"
      ]
     },
     "metadata": {
      "needs_background": "light"
     },
     "output_type": "display_data"
    }
   ],
   "source": [
    "PLOTTING_OPTIONS = {\n",
    "    'title': 'Naive Response Variance',\n",
    "    'ylabel': 'Frequency',\n",
    "    'legend': ['Control', 'Post', 'Upvote']\n",
    "}\n",
    "\n",
    "for data in (control_responses, post_responses, upvote_responses):\n",
    "    all_judgment_headers = ['{}_{}'.format(q_label, j_label) for \n",
    "                            q_label, j_label in itertools.product(\n",
    "                                ALL_LABELS, JUDGMENT_LABELS)]\n",
    "    data.total_var = data[all_judgment_headers].std(axis=1)\n",
    "    plt.hist(data.total_var, alpha=0.5, normed=1)\n",
    "\n",
    "plotting.label_graph(**PLOTTING_OPTIONS)\n",
    "plt.show()"
   ]
  },
  {
   "cell_type": "code",
   "execution_count": 13,
   "metadata": {},
   "outputs": [
    {
     "name": "stderr",
     "output_type": "stream",
     "text": [
      "C:\\Users\\RACH0_000\\Anaconda3\\lib\\site-packages\\ipykernel_launcher.py:11: UserWarning: Pandas doesn't allow columns to be created via a new attribute name - see https://pandas.pydata.org/pandas-docs/stable/indexing.html#attribute-access\n",
      "  # This is added back by InteractiveShellApp.init_path()\n",
      "C:\\Users\\RACH0_000\\Anaconda3\\lib\\site-packages\\matplotlib\\axes\\_axes.py:6521: MatplotlibDeprecationWarning: \n",
      "The 'normed' kwarg was deprecated in Matplotlib 2.1 and will be removed in 3.1. Use 'density' instead.\n",
      "  alternative=\"'density'\", removal=\"3.1\")\n",
      "C:\\Users\\RACH0_000\\Anaconda3\\lib\\site-packages\\ipykernel_launcher.py:11: UserWarning: Pandas doesn't allow columns to be created via a new attribute name - see https://pandas.pydata.org/pandas-docs/stable/indexing.html#attribute-access\n",
      "  # This is added back by InteractiveShellApp.init_path()\n",
      "C:\\Users\\RACH0_000\\Anaconda3\\lib\\site-packages\\matplotlib\\axes\\_axes.py:6521: MatplotlibDeprecationWarning: \n",
      "The 'normed' kwarg was deprecated in Matplotlib 2.1 and will be removed in 3.1. Use 'density' instead.\n",
      "  alternative=\"'density'\", removal=\"3.1\")\n",
      "C:\\Users\\RACH0_000\\Anaconda3\\lib\\site-packages\\ipykernel_launcher.py:11: UserWarning: Pandas doesn't allow columns to be created via a new attribute name - see https://pandas.pydata.org/pandas-docs/stable/indexing.html#attribute-access\n",
      "  # This is added back by InteractiveShellApp.init_path()\n",
      "C:\\Users\\RACH0_000\\Anaconda3\\lib\\site-packages\\matplotlib\\axes\\_axes.py:6521: MatplotlibDeprecationWarning: \n",
      "The 'normed' kwarg was deprecated in Matplotlib 2.1 and will be removed in 3.1. Use 'density' instead.\n",
      "  alternative=\"'density'\", removal=\"3.1\")\n"
     ]
    },
    {
     "data": {
      "image/png": "[encoded data removed]",
      "text/plain": [
       "<Figure size 432x288 with 1 Axes>"
      ]
     },
     "metadata": {
      "needs_background": "light"
     },
     "output_type": "display_data"
    }
   ],
   "source": [
    "PLOTTING_OPTIONS = {\n",
    "    'title': 'Cleaned Naive Response Variance',\n",
    "    'ylabel': 'Frequency',\n",
    "    'legend': ['Control', 'Post', 'Upvote']\n",
    "}\n",
    "\n",
    "for data in (new_control_responses, new_post_responses, new_upvote_responses):\n",
    "    all_judgment_headers = ['{}_{}'.format(q_label, j_label) for \n",
    "                            q_label, j_label in itertools.product(\n",
    "                                ALL_LABELS, JUDGMENT_LABELS)]\n",
    "    data.total_var = data[all_judgment_headers].std(axis=1)\n",
    "    plt.hist(data.total_var, alpha=0.5, normed=1)\n",
    "\n",
    "plotting.label_graph(**PLOTTING_OPTIONS)\n",
    "plt.show()"
   ]
  },
  {
   "cell_type": "code",
   "execution_count": null,
   "metadata": {},
   "outputs": [],
   "source": [
    "control_responses = new_control_responses\n",
    "post_responses = new_post_responses\n",
    "upvote_responses = new_upvote_responses"
   ]
  },
  {
   "cell_type": "markdown",
   "metadata": {},
   "source": [
    "### Control Question Distribution"
   ]
  },
  {
   "cell_type": "code",
   "execution_count": null,
   "metadata": {},
   "outputs": [],
   "source": [
    "COLUMN_NAMES = ['curiosity', 'confidence', 'usefulness',\n",
    "    'popularity', 'writing', 'surprise', 'social_utility',\n",
    "    'number', 'choice']\n",
    "flattened_data = {col: [] for col in COLUMN_NAMES}\n",
    "\n",
    "for index, row in control_responses.iterrows():\n",
    "    for q_label in ALL_LABELS:\n",
    "        for number, col_name in enumerate(COLUMN_NAMES[:-2]):\n",
    "            flattened_data[col_name].append(\n",
    "                row['{}_j{}'.format(q_label, number)])\n",
    "    \n",
    "        choice_info = row['{}_choice'.format(q_label)]\n",
    "        index_info = row['{}_index'.format(q_label)]\n",
    "        \n",
    "        flattened_data['choice'].append(choice_info)\n",
    "        flattened_data['number'].append(index_info)"
   ]
  },
  {
   "cell_type": "code",
   "execution_count": null,
   "metadata": {},
   "outputs": [],
   "source": [
    "question_data = pd.DataFrame(flattened_data)\n",
    "question_data.head()"
   ]
  },
  {
   "cell_type": "code",
   "execution_count": null,
   "metadata": {},
   "outputs": [],
   "source": [
    "grouped = question_data.groupby(question_data.number)\n",
    "distribution = grouped.choice.agg(np.mean)\n",
    "\n",
    "first = stats.kstest(\n",
    "((distribution\n",
    "    - distribution.mean())\n",
    "    / distribution.std()),\n",
    " 'norm'\n",
    ")\n",
    "second = stats.shapiro(\n",
    "((distribution\n",
    "    - distribution.mean())\n",
    "    / distribution.std()),\n",
    ")\n",
    "print(first, second)"
   ]
  },
  {
   "cell_type": "markdown",
   "metadata": {},
   "source": [
    "### Saving Data"
   ]
  },
  {
   "cell_type": "code",
   "execution_count": null,
   "metadata": {},
   "outputs": [],
   "source": [
    "control_responses.to_pickle('raw-data/control-responses.pkl')\n",
    "post_responses.to_pickle('raw-data/post-responses.pkl')\n",
    "upvote_responses.to_pickle('raw-data/upvote-responses.pkl')"
   ]
  },
  {
   "cell_type": "code",
   "execution_count": null,
   "metadata": {},
   "outputs": [],
   "source": []
  }
 ],
 "metadata": {
  "kernel_info": {
   "name": "python3"
  },
  "kernelspec": {
   "display_name": "Python 3",
   "language": "python",
   "name": "python3"
  },
  "language_info": {
   "codemirror_mode": {
    "name": "ipython",
    "version": 3
   },
   "file_extension": ".py",
   "mimetype": "text/x-python",
   "name": "python",
   "nbconvert_exporter": "python",
   "pygments_lexer": "ipython3",
   "version": "3.7.3"
  },
  "nteract": {
   "version": "0.5.5"
  }
 },
 "nbformat": 4,
 "nbformat_minor": 4
}
