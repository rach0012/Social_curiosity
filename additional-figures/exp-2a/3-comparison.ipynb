{
 "cells": [
  {
   "cell_type": "markdown",
   "metadata": {},
   "source": [
    "# Experiment Nine\n",
    "\n",
    "## Analysis"
   ]
  },
  {
   "cell_type": "code",
   "execution_count": 1,
   "metadata": {
    "collapsed": true,
    "jupyter": {
     "outputs_hidden": true
    }
   },
   "outputs": [],
   "source": [
    "%load_ext pycodestyle_magic"
   ]
  },
  {
   "cell_type": "code",
   "execution_count": 1,
   "metadata": {},
   "outputs": [],
   "source": [
    "# Analytical Tools\n",
    "import numpy as np\n",
    "import pandas as pd\n",
    "from scipy import stats\n",
    "import seaborn as sns\n",
    "import statsmodels.api as sm\n",
    "\n",
    "# General Utilities\n",
    "import json\n",
    "import pprint\n",
    "import random\n",
    "\n",
    "# Custom Utilities\n",
    "import utilities.processing as processing\n",
    "import utilities.plotting as plotting\n",
    "import utilities.describe as describe\n",
    "\n",
    "# Some settings\n",
    "log = pprint.pprint\n",
    "%matplotlib inline\n",
    "%config InlineBackend.figure_format = 'retina'"
   ]
  },
  {
   "cell_type": "markdown",
   "metadata": {},
   "source": [
    "### Reading Data and Defining Constants"
   ]
  },
  {
   "cell_type": "code",
   "execution_count": 2,
   "metadata": {},
   "outputs": [],
   "source": [
    "exp_one_responses = pd.read_pickle('raw-data/exp_one_responses.pkl')\n",
    "exp_two_responses = pd.read_pickle('raw-data/exp_two_responses.pkl')"
   ]
  },
  {
   "cell_type": "code",
   "execution_count": 3,
   "metadata": {},
   "outputs": [
    {
     "name": "stdout",
     "output_type": "stream",
     "text": [
      "292 297 1.2349315068493145 0.4552188552188551 0.7797126516304594\n",
      "t = 7.236, p = 1.453e-12 (0 greater)\n",
      "292 297 0.6472602739726027 0.5562289562289559 0.09103131774364681\n",
      "t = 5.484, p = 6.201e-08 (0 greater)\n"
     ]
    }
   ],
   "source": [
    "curiosity_difference_one = exp_one_responses['j0_diff']\n",
    "curiosity_difference_two = exp_two_responses['j0_diff']\n",
    "\n",
    "print(len(curiosity_difference_one),\n",
    "      len(curiosity_difference_two),\n",
    "      curiosity_difference_one.mean(),\n",
    "      curiosity_difference_two.mean(),\n",
    "      curiosity_difference_one.mean() -\n",
    "      curiosity_difference_two.mean())\n",
    "print(describe.independent_t_test(curiosity_difference_one, curiosity_difference_two))\n",
    "\n",
    "high_choice_one = exp_one_responses['high_choice']\n",
    "high_choice_two = exp_two_responses['high_choice']\n",
    "\n",
    "print(len(high_choice_one),\n",
    "      len(high_choice_two),\n",
    "      high_choice_one.mean(),\n",
    "      high_choice_two.mean(),\n",
    "      high_choice_one.mean() -\n",
    "      high_choice_two.mean())\n",
    "print(describe.independent_t_test(high_choice_one, high_choice_two))"
   ]
  },
  {
   "cell_type": "code",
   "execution_count": null,
   "metadata": {
    "collapsed": true,
    "jupyter": {
     "outputs_hidden": true
    }
   },
   "outputs": [],
   "source": []
  }
 ],
 "metadata": {
  "kernelspec": {
   "display_name": "Python 3",
   "language": "python",
   "name": "python3"
  },
  "language_info": {
   "codemirror_mode": {
    "name": "ipython",
    "version": 3
   },
   "file_extension": ".py",
   "mimetype": "text/x-python",
   "name": "python",
   "nbconvert_exporter": "python",
   "pygments_lexer": "ipython3",
   "version": "3.7.3"
  }
 },
 "nbformat": 4,
 "nbformat_minor": 4
}
