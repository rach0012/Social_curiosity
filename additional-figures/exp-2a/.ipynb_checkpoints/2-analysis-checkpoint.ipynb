{
 "cells": [
  {
   "cell_type": "markdown",
   "metadata": {},
   "source": [
    "# Experiment Nine\n",
    "\n",
    "## Analysis"
   ]
  },
  {
   "cell_type": "code",
   "execution_count": null,
   "metadata": {},
   "outputs": [],
   "source": []
  },
  {
   "cell_type": "code",
   "execution_count": 1,
   "metadata": {},
   "outputs": [],
   "source": [
    "# Analytical Tools\n",
    "import numpy as np\n",
    "import pandas as pd\n",
    "from scipy import stats\n",
    "import seaborn as sns\n",
    "import statsmodels.api as sm\n",
    "\n",
    "# General Utilities\n",
    "import json\n",
    "import pprint\n",
    "import random\n",
    "\n",
    "# Custom Utilities\n",
    "import utilities.processing as processing\n",
    "import utilities.plotting as plotting\n",
    "import utilities.describe as describe\n",
    "\n",
    "# Some settings\n",
    "log = pprint.pprint\n",
    "%matplotlib inline"
   ]
  },
  {
   "cell_type": "markdown",
   "metadata": {},
   "source": [
    "### Reading Data and Defining Constants"
   ]
  },
  {
   "cell_type": "code",
   "execution_count": 2,
   "metadata": {},
   "outputs": [],
   "source": [
    "FILE_NAMES = [\n",
    "    'raw-data/questions-and-answers-clean.json',\n",
    "    'raw-data/judgments.json',\n",
    "    'raw-data/responses-two.json'\n",
    "]\n",
    "\n",
    "NUM_QUESTIONS, NUM_JUDGEMENTS = 10, 7\n",
    "GROUP_SIZE = NUM_QUESTIONS // 2\n",
    "THRESHOLD = 240.9\n",
    "\n",
    "CONDITIONS = ['Control', 'Post Number', 'Upvotes']\n",
    "QUESTIONS = ['Curiosity', 'Confidence', 'Usefulness',\n",
    "    'Popularity', 'Writing', 'Surprise', 'Social Utility']\n",
    "\n",
    "ALL_LABELS = processing.get_all_labels(NUM_QUESTIONS)\n",
    "LOW_LABELS, HIGH_LABELS = ALL_LABELS[:GROUP_SIZE], ALL_LABELS[GROUP_SIZE:]\n",
    "JUDGMENT_LABELS = processing.get_judgment_labels(NUM_JUDGEMENTS)"
   ]
  },
  {
   "cell_type": "code",
   "execution_count": 3,
   "metadata": {},
   "outputs": [
    {
     "data": {
      "text/html": [
       "<div>\n",
       "<style scoped>\n",
       "    .dataframe tbody tr th:only-of-type {\n",
       "        vertical-align: middle;\n",
       "    }\n",
       "\n",
       "    .dataframe tbody tr th {\n",
       "        vertical-align: top;\n",
       "    }\n",
       "\n",
       "    .dataframe thead th {\n",
       "        text-align: right;\n",
       "    }\n",
       "</style>\n",
       "<table border=\"1\" class=\"dataframe\">\n",
       "  <thead>\n",
       "    <tr style=\"text-align: right;\">\n",
       "      <th></th>\n",
       "      <th>consent</th>\n",
       "      <th>group_number</th>\n",
       "      <th>high_q0_choice</th>\n",
       "      <th>high_q0_index</th>\n",
       "      <th>high_q0_j0</th>\n",
       "      <th>high_q0_j1</th>\n",
       "      <th>high_q0_j2</th>\n",
       "      <th>high_q0_j3</th>\n",
       "      <th>high_q0_j4</th>\n",
       "      <th>high_q0_j5</th>\n",
       "      <th>...</th>\n",
       "      <th>low_q4_j2</th>\n",
       "      <th>low_q4_j3</th>\n",
       "      <th>low_q4_j4</th>\n",
       "      <th>low_q4_j5</th>\n",
       "      <th>low_q4_j6</th>\n",
       "      <th>low_q4_score</th>\n",
       "      <th>participant_id</th>\n",
       "      <th>response_type</th>\n",
       "      <th>test_one</th>\n",
       "      <th>test_two</th>\n",
       "    </tr>\n",
       "  </thead>\n",
       "  <tbody>\n",
       "    <tr>\n",
       "      <th>12</th>\n",
       "      <td>1.0</td>\n",
       "      <td>2</td>\n",
       "      <td>1.0</td>\n",
       "      <td>14.0</td>\n",
       "      <td>3.0</td>\n",
       "      <td>3.0</td>\n",
       "      <td>3.0</td>\n",
       "      <td>3.0</td>\n",
       "      <td>3.0</td>\n",
       "      <td>4.0</td>\n",
       "      <td>...</td>\n",
       "      <td>0.0</td>\n",
       "      <td>0.0</td>\n",
       "      <td>0.0</td>\n",
       "      <td>0.0</td>\n",
       "      <td>0.0</td>\n",
       "      <td>50.0</td>\n",
       "      <td>r7gvngs3mjdqo4lb3nd6hm3b3uobqsrb</td>\n",
       "      <td>0</td>\n",
       "      <td>1.0</td>\n",
       "      <td>1.0</td>\n",
       "    </tr>\n",
       "    <tr>\n",
       "      <th>49</th>\n",
       "      <td>1.0</td>\n",
       "      <td>2</td>\n",
       "      <td>1.0</td>\n",
       "      <td>23.0</td>\n",
       "      <td>4.0</td>\n",
       "      <td>4.0</td>\n",
       "      <td>2.0</td>\n",
       "      <td>4.0</td>\n",
       "      <td>3.0</td>\n",
       "      <td>3.0</td>\n",
       "      <td>...</td>\n",
       "      <td>4.0</td>\n",
       "      <td>3.0</td>\n",
       "      <td>5.0</td>\n",
       "      <td>4.0</td>\n",
       "      <td>4.0</td>\n",
       "      <td>26.0</td>\n",
       "      <td>3burenqmmt71nbk9sznc0t6gadf8wrlk</td>\n",
       "      <td>0</td>\n",
       "      <td>1.0</td>\n",
       "      <td>1.0</td>\n",
       "    </tr>\n",
       "    <tr>\n",
       "      <th>54</th>\n",
       "      <td>1.0</td>\n",
       "      <td>2</td>\n",
       "      <td>1.0</td>\n",
       "      <td>31.0</td>\n",
       "      <td>2.0</td>\n",
       "      <td>1.0</td>\n",
       "      <td>1.0</td>\n",
       "      <td>2.0</td>\n",
       "      <td>3.0</td>\n",
       "      <td>4.0</td>\n",
       "      <td>...</td>\n",
       "      <td>1.0</td>\n",
       "      <td>0.0</td>\n",
       "      <td>3.0</td>\n",
       "      <td>3.0</td>\n",
       "      <td>1.0</td>\n",
       "      <td>18.0</td>\n",
       "      <td>9543ar5qbz3ectkkdqoexf9lurur57za</td>\n",
       "      <td>0</td>\n",
       "      <td>1.0</td>\n",
       "      <td>1.0</td>\n",
       "    </tr>\n",
       "    <tr>\n",
       "      <th>55</th>\n",
       "      <td>1.0</td>\n",
       "      <td>2</td>\n",
       "      <td>1.0</td>\n",
       "      <td>2.0</td>\n",
       "      <td>3.0</td>\n",
       "      <td>3.0</td>\n",
       "      <td>3.0</td>\n",
       "      <td>2.0</td>\n",
       "      <td>1.0</td>\n",
       "      <td>1.0</td>\n",
       "      <td>...</td>\n",
       "      <td>5.0</td>\n",
       "      <td>1.0</td>\n",
       "      <td>3.0</td>\n",
       "      <td>4.0</td>\n",
       "      <td>3.0</td>\n",
       "      <td>21.0</td>\n",
       "      <td>kd74sbkm5u7u0b0424a6fm5d76wagaw6</td>\n",
       "      <td>0</td>\n",
       "      <td>0.0</td>\n",
       "      <td>1.0</td>\n",
       "    </tr>\n",
       "    <tr>\n",
       "      <th>77</th>\n",
       "      <td>1.0</td>\n",
       "      <td>2</td>\n",
       "      <td>0.0</td>\n",
       "      <td>25.0</td>\n",
       "      <td>4.0</td>\n",
       "      <td>3.0</td>\n",
       "      <td>3.0</td>\n",
       "      <td>6.0</td>\n",
       "      <td>3.0</td>\n",
       "      <td>6.0</td>\n",
       "      <td>...</td>\n",
       "      <td>4.0</td>\n",
       "      <td>2.0</td>\n",
       "      <td>6.0</td>\n",
       "      <td>3.0</td>\n",
       "      <td>4.0</td>\n",
       "      <td>17.0</td>\n",
       "      <td>hczxorcd6py0pwrty95zbp2rzqdvv66e</td>\n",
       "      <td>0</td>\n",
       "      <td>1.0</td>\n",
       "      <td>1.0</td>\n",
       "    </tr>\n",
       "  </tbody>\n",
       "</table>\n",
       "<p>5 rows × 106 columns</p>\n",
       "</div>"
      ],
      "text/plain": [
       "    consent  group_number  high_q0_choice  high_q0_index  high_q0_j0  \\\n",
       "12      1.0             2             1.0           14.0         3.0   \n",
       "49      1.0             2             1.0           23.0         4.0   \n",
       "54      1.0             2             1.0           31.0         2.0   \n",
       "55      1.0             2             1.0            2.0         3.0   \n",
       "77      1.0             2             0.0           25.0         4.0   \n",
       "\n",
       "    high_q0_j1  high_q0_j2  high_q0_j3  high_q0_j4  high_q0_j5    ...     \\\n",
       "12         3.0         3.0         3.0         3.0         4.0    ...      \n",
       "49         4.0         2.0         4.0         3.0         3.0    ...      \n",
       "54         1.0         1.0         2.0         3.0         4.0    ...      \n",
       "55         3.0         3.0         2.0         1.0         1.0    ...      \n",
       "77         3.0         3.0         6.0         3.0         6.0    ...      \n",
       "\n",
       "    low_q4_j2  low_q4_j3  low_q4_j4  low_q4_j5  low_q4_j6  low_q4_score  \\\n",
       "12        0.0        0.0        0.0        0.0        0.0          50.0   \n",
       "49        4.0        3.0        5.0        4.0        4.0          26.0   \n",
       "54        1.0        0.0        3.0        3.0        1.0          18.0   \n",
       "55        5.0        1.0        3.0        4.0        3.0          21.0   \n",
       "77        4.0        2.0        6.0        3.0        4.0          17.0   \n",
       "\n",
       "                      participant_id  response_type  test_one  test_two  \n",
       "12  r7gvngs3mjdqo4lb3nd6hm3b3uobqsrb              0       1.0       1.0  \n",
       "49  3burenqmmt71nbk9sznc0t6gadf8wrlk              0       1.0       1.0  \n",
       "54  9543ar5qbz3ectkkdqoexf9lurur57za              0       1.0       1.0  \n",
       "55  kd74sbkm5u7u0b0424a6fm5d76wagaw6              0       0.0       1.0  \n",
       "77  hczxorcd6py0pwrty95zbp2rzqdvv66e              0       1.0       1.0  \n",
       "\n",
       "[5 rows x 106 columns]"
      ]
     },
     "execution_count": 3,
     "metadata": {},
     "output_type": "execute_result"
    }
   ],
   "source": [
    "control_responses = pd.read_pickle('raw-data/control-responses.pkl')\n",
    "post_responses = pd.read_pickle('raw-data/post-responses.pkl')\n",
    "upvote_responses = pd.read_pickle('raw-data/upvote-responses.pkl')\n",
    "\n",
    "upvote_responses.head()\n"
   ]
  },
  {
   "cell_type": "markdown",
   "metadata": {},
   "source": [
    "### Intragroup Low/High Rating T-Tests"
   ]
  },
  {
   "cell_type": "code",
   "execution_count": 4,
   "metadata": {},
   "outputs": [],
   "source": [
    "for data in (control_responses, post_responses, upvote_responses):\n",
    "    for j_label in JUDGMENT_LABELS:\n",
    "        low_headers = ['{}_{}'.format(q_label, j_label) for q_label in LOW_LABELS]\n",
    "        high_headers = ['{}_{}'.format(q_label, j_label) for q_label in HIGH_LABELS]\n",
    "        \n",
    "        low_data = data[low_headers].mean(axis=1)\n",
    "        high_data = data[high_headers].mean(axis=1)\n",
    "        \n",
    "        data['{}_low'.format(j_label)] = low_data\n",
    "        data['{}_high'.format(j_label)] = high_data\n",
    "        data['{}_diff'.format(j_label)] = high_data - low_data        "
   ]
  },
  {
   "cell_type": "code",
   "execution_count": 5,
   "metadata": {},
   "outputs": [
    {
     "data": {
      "image/png": "[encoded data removed]",
      "text/plain": [
       "<Figure size 864x432 with 1 Axes>"
      ]
     },
     "metadata": {
      "needs_background": "light"
     },
     "output_type": "display_data"
    },
    {
     "data": {
      "image/png": "[encoded data removed]",
      "text/plain": [
       "<Figure size 864x432 with 1 Axes>"
      ]
     },
     "metadata": {
      "needs_background": "light"
     },
     "output_type": "display_data"
    },
    {
     "data": {
      "image/png": "[encoded data removed]",
      "text/plain": [
       "<Figure size 864x432 with 1 Axes>"
      ]
     },
     "metadata": {
      "needs_background": "light"
     },
     "output_type": "display_data"
    }
   ],
   "source": [
    "PLOTTING_OPTIONS = {\n",
    "    'ylabel': 'Ratings',\n",
    "    'ticks': ['Curiosity', 'Confidence', 'Usefulness',\n",
    "              'Popularity', 'Writing', 'Surprise', 'Social Utility'],\n",
    "    'legend': ['Low Numbers', 'High Humbers'],\n",
    "    'size': (12, 6)\n",
    "}\n",
    "\n",
    "for name, data in zip(CONDITIONS, (control_responses, post_responses, upvote_responses)):\n",
    "    low_means, low_errs = [], []\n",
    "    high_means, high_errs = [], []\n",
    "    # print(name)\n",
    "    for j_label in JUDGMENT_LABELS:\n",
    "        low_data = data['{}_low'.format(j_label)]\n",
    "        high_data = data['{}_high'.format(j_label)]\n",
    "        low_means.append(low_data.mean())\n",
    "        high_means.append(high_data.mean())\n",
    "        low_errs.append(stats.sem(low_data))\n",
    "        high_errs.append(stats.sem(high_data))\n",
    "        # print(low_means); print(high_means)\n",
    "        # print(low_errs); print(high_errs)\n",
    "        \n",
    "    plotting.plot_double_bar(low_means, low_errs, high_means, high_errs,\n",
    "        **PLOTTING_OPTIONS, title='{} All Question Averages'.format(name))"
   ]
  },
  {
   "cell_type": "code",
   "execution_count": 6,
   "metadata": {},
   "outputs": [
    {
     "name": "stdout",
     "output_type": "stream",
     "text": [
      "Control (n = 134)\n",
      "Curiosity: t = -0.752, p = 0.4534 (1 greater), Δ = 0.064\n",
      "Confidence: t = -0.05913, p = 0.9529 (1 greater), Δ = 0.004\n",
      "Usefulness: t = -0.408, p = 0.684 (1 greater), Δ = 0.033\n",
      "Popularity: t = -0.9099, p = 0.3645 (1 greater), Δ = 0.067\n",
      "Writing: t = -0.7901, p = 0.4309 (1 greater), Δ = 0.052\n",
      "Surprise: t = nan, p = nan (1 greater), Δ = nan\n",
      "Social Utility: t = -0.7959, p = 0.4275 (1 greater), Δ = 0.051\n",
      "\n",
      "Post Number (n = 161)\n",
      "Curiosity: t = 0.3717, p = 0.7106 (0 greater), Δ = -0.029\n",
      "Confidence: t = 0.8653, p = 0.3881 (0 greater), Δ = -0.060\n",
      "Usefulness: t = -0.3145, p = 0.7536 (1 greater), Δ = 0.026\n",
      "Popularity: t = -0.1595, p = 0.8735 (1 greater), Δ = 0.012\n",
      "Writing: t = -0.5619, p = 0.575 (1 greater), Δ = 0.032\n",
      "Surprise: t = nan, p = nan (1 greater), Δ = nan\n",
      "Social Utility: t = 0.2051, p = 0.8377 (0 greater), Δ = -0.015\n",
      "\n",
      "Upvotes (n = 297)\n",
      "Curiosity: t = -7.135, p = 7.465e-12 (1 greater), Δ = 0.455\n",
      "Confidence: t = -0.8941, p = 0.372 (1 greater), Δ = 0.051\n",
      "Usefulness: t = -5.588, p = 5.206e-08 (1 greater), Δ = 0.335\n",
      "Popularity: t = -21.5, p = 2.027e-62 (1 greater), Δ = 2.393\n",
      "Writing: t = -6.039, p = 4.647e-09 (1 greater), Δ = 0.306\n",
      "Surprise: t = -7.273, p = 3.163e-12 (1 greater), Δ = 0.626\n",
      "Social Utility: t = -8.711, p = 2.174e-16 (1 greater), Δ = 0.473\n",
      "\n"
     ]
    },
    {
     "name": "stderr",
     "output_type": "stream",
     "text": [
      "C:\\Users\\RACH0_000\\Anaconda3\\lib\\site-packages\\scipy\\stats\\_distn_infrastructure.py:879: RuntimeWarning: invalid value encountered in greater\n",
      "  return (self.a < x) & (x < self.b)\n",
      "C:\\Users\\RACH0_000\\Anaconda3\\lib\\site-packages\\scipy\\stats\\_distn_infrastructure.py:879: RuntimeWarning: invalid value encountered in less\n",
      "  return (self.a < x) & (x < self.b)\n",
      "C:\\Users\\RACH0_000\\Anaconda3\\lib\\site-packages\\scipy\\stats\\_distn_infrastructure.py:1818: RuntimeWarning: invalid value encountered in less_equal\n",
      "  cond2 = cond0 & (x <= self.a)\n"
     ]
    }
   ],
   "source": [
    "for name, data in zip(CONDITIONS, (control_responses, post_responses, upvote_responses)):\n",
    "    print('{} (n = {})'.format(name, len(data)))\n",
    "    for question, j_label in zip(QUESTIONS, JUDGMENT_LABELS):        \n",
    "        highs = data['{}_high'.format(j_label)]\n",
    "        lows = data['{}_low'.format(j_label)]\n",
    "        print('{}: {}, Δ = {:.3f}'.format(\n",
    "            question,\n",
    "            describe.paired_t_test(lows, highs),\n",
    "            highs.mean() - lows.mean()\n",
    "        ))\n",
    "    print()"
   ]
  },
  {
   "cell_type": "code",
   "execution_count": 7,
   "metadata": {},
   "outputs": [
    {
     "name": "stdout",
     "output_type": "stream",
     "text": [
      "2.983164983164984\n",
      "3.349152542372879\n",
      "3.4383838383838388\n",
      "Curiosity: t = -7.135, p = 7.465e-12 (1 greater), Δ = 0.455\n",
      "Curiosity: t = -3.792, p = 0.0001594 (1 greater), Δ = 0.366\n",
      "Curiosity: t = -0.9089, p = 0.3637 (1 greater), Δ = -0.089\n",
      "\n",
      "1.7299663299663297\n",
      "1.721694915254239\n",
      "1.7804713804713799\n",
      "Confidence: t = -0.8941, p = 0.372 (1 greater), Δ = 0.051\n",
      "Confidence: t = 0.08435, p = 0.9328 (0 greater), Δ = -0.008\n",
      "Confidence: t = -0.588, p = 0.5567 (1 greater), Δ = -0.059\n",
      "\n",
      "2.4296296296296296\n",
      "2.6498305084745795\n",
      "2.7649831649831627\n",
      "Usefulness: t = -5.588, p = 5.206e-08 (1 greater), Δ = 0.335\n",
      "Usefulness: t = -2.336, p = 0.01969 (1 greater), Δ = 0.220\n",
      "Usefulness: t = -1.215, p = 0.2248 (1 greater), Δ = -0.115\n",
      "\n",
      "1.827609427609427\n",
      "2.88915254237288\n",
      "4.22087542087542\n",
      "Popularity: t = -21.5, p = 2.027e-62 (1 greater), Δ = 2.393\n",
      "Popularity: t = -11.95, p = 1.241e-30 (1 greater), Δ = 1.062\n",
      "Popularity: t = -15.48, p = 5.118e-48 (1 greater), Δ = -1.332\n",
      "\n",
      "3.6289562289562274\n",
      "3.92237288135593\n",
      "3.935353535353536\n",
      "Writing: t = -6.039, p = 4.647e-09 (1 greater), Δ = 0.306\n",
      "Writing: t = -3.983, p = 7.371e-05 (1 greater), Δ = 0.293\n",
      "Writing: t = -0.1762, p = 0.8602 (1 greater), Δ = -0.013\n",
      "\n",
      "2.358922558922558\n",
      "nan\n",
      "2.9845117845117857\n",
      "Surprise: t = -7.273, p = 3.163e-12 (1 greater), Δ = 0.626\n",
      "Surprise: t = nan, p = nan (1 greater), Δ = nan\n",
      "Surprise: t = nan, p = nan (1 greater), Δ = nan\n",
      "\n",
      "2.120538720538721\n",
      "2.4155932203389856\n",
      "2.593265993265991\n",
      "Social Utility: t = -8.711, p = 2.174e-16 (1 greater), Δ = 0.473\n",
      "Social Utility: t = -3.181, p = 0.001518 (1 greater), Δ = 0.295\n",
      "Social Utility: t = -1.886, p = 0.05963 (1 greater), Δ = -0.178\n",
      "\n"
     ]
    },
    {
     "name": "stderr",
     "output_type": "stream",
     "text": [
      "C:\\Users\\RACH0_000\\Anaconda3\\lib\\site-packages\\scipy\\stats\\_distn_infrastructure.py:879: RuntimeWarning: invalid value encountered in greater\n",
      "  return (self.a < x) & (x < self.b)\n",
      "C:\\Users\\RACH0_000\\Anaconda3\\lib\\site-packages\\scipy\\stats\\_distn_infrastructure.py:879: RuntimeWarning: invalid value encountered in less\n",
      "  return (self.a < x) & (x < self.b)\n",
      "C:\\Users\\RACH0_000\\Anaconda3\\lib\\site-packages\\scipy\\stats\\_distn_infrastructure.py:1818: RuntimeWarning: invalid value encountered in less_equal\n",
      "  cond2 = cond0 & (x <= self.a)\n"
     ]
    }
   ],
   "source": [
    "#analyze the upvote response i.e. low and high with respect to combined control data\n",
    "\n",
    "frames = [control_responses, post_responses]\n",
    "control_data = pd.concat(frames)\n",
    "\n",
    "for question, j_label in zip(QUESTIONS, JUDGMENT_LABELS):\n",
    "    highs = upvote_responses['{}_high'.format(j_label)]\n",
    "    lows = upvote_responses['{}_low'.format(j_label)]\n",
    "    \n",
    "    none_lows = control_data['{}_low'.format(j_label)]\n",
    "    none_highs = control_data['{}_high'.format(j_label)]\n",
    "    none2 = [none_lows,none_highs]\n",
    "    none = pd.concat(none2)\n",
    "    print(lows.mean())\n",
    "    print(none.mean())\n",
    "    print(highs.mean())\n",
    "    print('{}: {}, Δ = {:.3f}'.format(\n",
    "         question,\n",
    "         describe.paired_t_test(lows, highs),\n",
    "         highs.mean() - lows.mean()\n",
    "    ))\n",
    "    print('{}: {}, Δ = {:.3f}'.format(\n",
    "         question,\n",
    "         describe.independent_t_test(lows, none),\n",
    "         none.mean() - lows.mean()\n",
    "    ))\n",
    "    print('{}: {}, Δ = {:.3f}'.format(\n",
    "         question,\n",
    "         describe.independent_t_test(none, highs),\n",
    "         none.mean() - highs.mean()\n",
    "    ))\n",
    "    print()\n"
   ]
  },
  {
   "cell_type": "markdown",
   "metadata": {},
   "source": [
    "### Intergroup Difference T-Tests"
   ]
  },
  {
   "cell_type": "code",
   "execution_count": 8,
   "metadata": {},
   "outputs": [
    {
     "name": "stdout",
     "output_type": "stream",
     "text": [
      "Control & Post Number\n",
      "Curiosity: t = 0.8084, p = 0.4195 (0 greater)\n",
      "Confidence: t = 0.6263, p = 0.5316 (0 greater)\n",
      "Usefulness: t = 0.05774, p = 0.954 (0 greater)\n",
      "Popularity: t = 0.5035, p = 0.615 (0 greater)\n",
      "Writing: t = 0.2286, p = 0.8193 (0 greater)\n",
      "Surprise: t = nan, p = nan (1 greater)\n",
      "Social Utility: t = 0.6656, p = 0.5062 (0 greater)\n",
      "\n",
      "Control & Upvotes\n",
      "Curiosity: t = -3.525, p = 0.0004699 (1 greater)\n",
      "Confidence: t = -0.4683, p = 0.6398 (1 greater)\n",
      "Usefulness: t = -2.897, p = 0.003964 (1 greater)\n",
      "Popularity: t = -13.44, p = 1.275e-34 (1 greater)\n",
      "Writing: t = -2.9, p = 0.003921 (1 greater)\n",
      "Surprise: t = nan, p = nan (1 greater)\n",
      "Social Utility: t = -4.614, p = 5.228e-06 (1 greater)\n"
     ]
    },
    {
     "name": "stderr",
     "output_type": "stream",
     "text": [
      "C:\\Users\\RACH0_000\\Anaconda3\\lib\\site-packages\\scipy\\stats\\_distn_infrastructure.py:879: RuntimeWarning: invalid value encountered in greater\n",
      "  return (self.a < x) & (x < self.b)\n",
      "C:\\Users\\RACH0_000\\Anaconda3\\lib\\site-packages\\scipy\\stats\\_distn_infrastructure.py:879: RuntimeWarning: invalid value encountered in less\n",
      "  return (self.a < x) & (x < self.b)\n",
      "C:\\Users\\RACH0_000\\Anaconda3\\lib\\site-packages\\scipy\\stats\\_distn_infrastructure.py:1818: RuntimeWarning: invalid value encountered in less_equal\n",
      "  cond2 = cond0 & (x <= self.a)\n"
     ]
    }
   ],
   "source": [
    "print('Control & Post Number')\n",
    "for question, j_label in zip(QUESTIONS, JUDGMENT_LABELS):\n",
    "    print('{}: {}'.format(question, describe.independent_t_test(\n",
    "        control_responses['{}_diff'.format(j_label)],\n",
    "        post_responses['{}_diff'.format(j_label)])))\n",
    "print()\n",
    "\n",
    "print('Control & Upvotes')\n",
    "for question, j_label in zip(QUESTIONS, JUDGMENT_LABELS):\n",
    "    print('{}: {}'.format(question, describe.independent_t_test(\n",
    "        control_responses['{}_diff'.format(j_label)],\n",
    "        upvote_responses['{}_diff'.format(j_label)])))\n",
    "    \n"
   ]
  },
  {
   "cell_type": "markdown",
   "metadata": {},
   "source": [
    "### Intragroup Question Selection"
   ]
  },
  {
   "cell_type": "code",
   "execution_count": 8,
   "metadata": {
    "scrolled": true
   },
   "outputs": [],
   "source": [
    "for data in (control_responses, post_responses, upvote_responses):\n",
    "    low_choice_labels = ['{}_choice'.format(q_label) for q_label in LOW_LABELS]\n",
    "    high_choice_labels = ['{}_choice'.format(q_label) for q_label in HIGH_LABELS]\n",
    "    low_choice_means = data[low_choice_labels].mean(axis=1)\n",
    "    high_choice_means = data[high_choice_labels].mean(axis=1)\n",
    "    data['low_choice'] = low_choice_means\n",
    "    data['high_choice'] = high_choice_means"
   ]
  },
  {
   "cell_type": "code",
   "execution_count": 9,
   "metadata": {},
   "outputs": [
    {
     "data": {
      "image/png": "[encoded data removed]",
      "text/plain": [
       "<Figure size 864x432 with 1 Axes>"
      ]
     },
     "metadata": {
      "needs_background": "light"
     },
     "output_type": "display_data"
    }
   ],
   "source": [
    "PLOTTING_OPTIONS = {\n",
    "    'ylabel': 'Proportion Chosen',\n",
    "    'ticks': ['Control', 'Post Number', 'Upvotes'],\n",
    "    'legend': ['Low Numbers', 'High Humbers'],\n",
    "    'size': (12, 6),\n",
    "    'title': 'Question Selection Across Groups'\n",
    "}\n",
    "\n",
    "\n",
    "low_means, low_errs = [], []\n",
    "high_means, high_errs = [], []\n",
    "for data in (control_responses, post_responses, upvote_responses):\n",
    "    low_means.append(data.low_choice.mean())\n",
    "    high_means.append(data.high_choice.mean())\n",
    "    low_errs.append(stats.sem(data.low_choice))\n",
    "    high_errs.append(stats.sem(data.high_choice))\n",
    "\n",
    "plotting.plot_double_bar(low_means, low_errs, high_means, high_errs,\n",
    "        **PLOTTING_OPTIONS)"
   ]
  },
  {
   "cell_type": "code",
   "execution_count": 10,
   "metadata": {},
   "outputs": [
    {
     "name": "stdout",
     "output_type": "stream",
     "text": [
      "Control: t = -0.9731, p = 0.3323 (smaller), Δ = -0.0134\n",
      "Post Number: t = -1.138, p = 0.2567 (smaller), Δ = -0.0143\n",
      "Upvotes: t = 5.56, p = 6.026e-08 (greater), Δ = 0.0562\n"
     ]
    }
   ],
   "source": [
    "for name, data in zip(CONDITIONS, (control_responses, post_responses, upvote_responses)):\n",
    "    print('{}: {}, Δ = {:.3}'.format(\n",
    "        name,\n",
    "        describe.one_sample_t_test(data.high_choice, 0.5),\n",
    "        data.high_choice.mean() - 0.5\n",
    "    ))"
   ]
  },
  {
   "cell_type": "markdown",
   "metadata": {},
   "source": [
    "### Per Question Analysis"
   ]
  },
  {
   "cell_type": "code",
   "execution_count": 11,
   "metadata": {},
   "outputs": [],
   "source": [
    "COLUMN_NAMES = [\n",
    "    'curiosity', 'confidence', 'usefulness',\n",
    "    'popularity', 'writing', 'surprise', 'social_utility',\n",
    "    'group', 'number', 'choice']\n",
    "flattened_data = {col: [] for col in COLUMN_NAMES}\n",
    "\n",
    "for index, row in control_responses.iterrows():\n",
    "    for q_label in ALL_LABELS:\n",
    "        for number, col_name in enumerate(COLUMN_NAMES[:-3]):\n",
    "            flattened_data[col_name].append(\n",
    "                row['{}_j{}'.format(q_label, number)])\n",
    "    \n",
    "        choice_info = row['{}_choice'.format(q_label)]\n",
    "        index_info = row['{}_index'.format(q_label)]\n",
    "        \n",
    "        flattened_data['choice'].append(choice_info)\n",
    "        flattened_data['number'].append(index_info)\n",
    "        flattened_data['group'].append('base')\n",
    "        \n",
    "for index, row in upvote_responses.iterrows():\n",
    "    for q_num, q_label in enumerate(ALL_LABELS):\n",
    "        for number, col_name in enumerate(COLUMN_NAMES[:-3]):\n",
    "            flattened_data[col_name].append(\n",
    "                row['{}_j{}'.format(q_label, number)])\n",
    "            \n",
    "        choice_info = row['{}_choice'.format(q_label)]\n",
    "        index_info = row['{}_index'.format(q_label)]\n",
    "        group_info = 'high' if q_num >= GROUP_SIZE else 'low'\n",
    "        \n",
    "        flattened_data['choice'].append(choice_info)\n",
    "        flattened_data['number'].append(index_info)\n",
    "        flattened_data['group'].append('upvote_{}'.format(group_info))\n",
    "        \n",
    "for index, row in post_responses.iterrows():\n",
    "    for q_num, q_label in enumerate(ALL_LABELS):\n",
    "        for number, col_name in enumerate(COLUMN_NAMES[:-3]):\n",
    "            flattened_data[col_name].append(\n",
    "                row['{}_j{}'.format(q_label, number)])\n",
    "            \n",
    "        choice_info = row['{}_choice'.format(q_label)]\n",
    "        index_info = row['{}_index'.format(q_label)]\n",
    "        group_info = 'high' if q_num >= GROUP_SIZE else 'low'\n",
    "        \n",
    "        flattened_data['choice'].append(choice_info)\n",
    "        flattened_data['number'].append(index_info)\n",
    "        flattened_data['group'].append('post_{}'.format(group_info))"
   ]
  },
  {
   "cell_type": "code",
   "execution_count": 12,
   "metadata": {},
   "outputs": [
    {
     "name": "stdout",
     "output_type": "stream",
     "text": [
      "5920 59200\n"
     ]
    },
    {
     "data": {
      "text/html": [
       "<div>\n",
       "<style scoped>\n",
       "    .dataframe tbody tr th:only-of-type {\n",
       "        vertical-align: middle;\n",
       "    }\n",
       "\n",
       "    .dataframe tbody tr th {\n",
       "        vertical-align: top;\n",
       "    }\n",
       "\n",
       "    .dataframe thead th {\n",
       "        text-align: right;\n",
       "    }\n",
       "</style>\n",
       "<table border=\"1\" class=\"dataframe\">\n",
       "  <thead>\n",
       "    <tr style=\"text-align: right;\">\n",
       "      <th></th>\n",
       "      <th>choice</th>\n",
       "      <th>confidence</th>\n",
       "      <th>curiosity</th>\n",
       "      <th>group</th>\n",
       "      <th>number</th>\n",
       "      <th>popularity</th>\n",
       "      <th>social_utility</th>\n",
       "      <th>surprise</th>\n",
       "      <th>usefulness</th>\n",
       "      <th>writing</th>\n",
       "    </tr>\n",
       "  </thead>\n",
       "  <tbody>\n",
       "    <tr>\n",
       "      <th>0</th>\n",
       "      <td>0.0</td>\n",
       "      <td>0.0</td>\n",
       "      <td>0.0</td>\n",
       "      <td>base</td>\n",
       "      <td>9.0</td>\n",
       "      <td>0.0</td>\n",
       "      <td>0.0</td>\n",
       "      <td>NaN</td>\n",
       "      <td>0.0</td>\n",
       "      <td>0.0</td>\n",
       "    </tr>\n",
       "    <tr>\n",
       "      <th>1</th>\n",
       "      <td>1.0</td>\n",
       "      <td>0.0</td>\n",
       "      <td>0.0</td>\n",
       "      <td>base</td>\n",
       "      <td>31.0</td>\n",
       "      <td>0.0</td>\n",
       "      <td>0.0</td>\n",
       "      <td>NaN</td>\n",
       "      <td>0.0</td>\n",
       "      <td>0.0</td>\n",
       "    </tr>\n",
       "    <tr>\n",
       "      <th>2</th>\n",
       "      <td>0.0</td>\n",
       "      <td>0.0</td>\n",
       "      <td>0.0</td>\n",
       "      <td>base</td>\n",
       "      <td>37.0</td>\n",
       "      <td>0.0</td>\n",
       "      <td>0.0</td>\n",
       "      <td>NaN</td>\n",
       "      <td>0.0</td>\n",
       "      <td>0.0</td>\n",
       "    </tr>\n",
       "    <tr>\n",
       "      <th>3</th>\n",
       "      <td>0.0</td>\n",
       "      <td>0.0</td>\n",
       "      <td>0.0</td>\n",
       "      <td>base</td>\n",
       "      <td>7.0</td>\n",
       "      <td>0.0</td>\n",
       "      <td>0.0</td>\n",
       "      <td>NaN</td>\n",
       "      <td>0.0</td>\n",
       "      <td>0.0</td>\n",
       "    </tr>\n",
       "    <tr>\n",
       "      <th>4</th>\n",
       "      <td>1.0</td>\n",
       "      <td>0.0</td>\n",
       "      <td>0.0</td>\n",
       "      <td>base</td>\n",
       "      <td>40.0</td>\n",
       "      <td>0.0</td>\n",
       "      <td>0.0</td>\n",
       "      <td>NaN</td>\n",
       "      <td>0.0</td>\n",
       "      <td>0.0</td>\n",
       "    </tr>\n",
       "  </tbody>\n",
       "</table>\n",
       "</div>"
      ],
      "text/plain": [
       "   choice  confidence  curiosity group  number  popularity  social_utility  \\\n",
       "0     0.0         0.0        0.0  base     9.0         0.0             0.0   \n",
       "1     1.0         0.0        0.0  base    31.0         0.0             0.0   \n",
       "2     0.0         0.0        0.0  base    37.0         0.0             0.0   \n",
       "3     0.0         0.0        0.0  base     7.0         0.0             0.0   \n",
       "4     1.0         0.0        0.0  base    40.0         0.0             0.0   \n",
       "\n",
       "   surprise  usefulness  writing  \n",
       "0       NaN         0.0      0.0  \n",
       "1       NaN         0.0      0.0  \n",
       "2       NaN         0.0      0.0  \n",
       "3       NaN         0.0      0.0  \n",
       "4       NaN         0.0      0.0  "
      ]
     },
     "execution_count": 12,
     "metadata": {},
     "output_type": "execute_result"
    }
   ],
   "source": [
    "question_data = pd.DataFrame(flattened_data)\n",
    "print(len(question_data), question_data.size)\n",
    "question_data.head()"
   ]
  },
  {
   "cell_type": "code",
   "execution_count": 13,
   "metadata": {},
   "outputs": [
    {
     "name": "stdout",
     "output_type": "stream",
     "text": [
      "1485 1485\n"
     ]
    }
   ],
   "source": [
    "low_questions = question_data[question_data.group == 'upvote_low']\n",
    "high_questions = question_data[question_data.group == 'upvote_high']\n",
    "none_questions = question_data[question_data.group == 'base']\n",
    "\n",
    "print(len(low_questions), len(high_questions))"
   ]
  },
  {
   "cell_type": "code",
   "execution_count": 14,
   "metadata": {},
   "outputs": [
    {
     "data": {
      "image/png": "[encoded data removed]",
      "text/plain": [
       "<Figure size 1080x576 with 1 Axes>"
      ]
     },
     "metadata": {
      "needs_background": "light"
     },
     "output_type": "display_data"
    }
   ],
   "source": [
    "PLOTTING_OPTIONS = {\n",
    "    'ylabel': 'Ratings',\n",
    "    'ticks': ['Curiosity', 'Confidence', 'Usefulness',\n",
    "              'Popularity', 'Writing', 'Surprise', 'Social Utility'],\n",
    "    'legend': ['Low', 'None', 'High'],\n",
    "    'size': (15, 8)\n",
    "}\n",
    "\n",
    "low_means, low_errs = [], []\n",
    "none_means, none_errs = [], []\n",
    "high_means, high_errs = [], []\n",
    "\n",
    "for judgment in COLUMN_NAMES[:7]:\n",
    "    low_means.append(low_questions[judgment].mean())\n",
    "    none_means.append(none_questions[judgment].mean())\n",
    "    high_means.append(high_questions[judgment].mean())\n",
    "    \n",
    "    low_errs.append(stats.sem(low_questions[judgment]))\n",
    "    none_errs.append(stats.sem(none_questions[judgment]))\n",
    "    high_errs.append(stats.sem(high_questions[judgment]))\n",
    "\n",
    "plotting.plot_triple_bar(low_means, low_errs, none_means, none_errs, \n",
    "                         high_means, high_errs, **PLOTTING_OPTIONS)"
   ]
  },
  {
   "cell_type": "code",
   "execution_count": 15,
   "metadata": {
    "scrolled": true
   },
   "outputs": [
    {
     "name": "stdout",
     "output_type": "stream",
     "text": [
      "{'curiosity': 36}\n",
      "{'curiosity': 27}\n",
      "1485, 1340\n",
      "-0.36086486758128533\n",
      "curiosity: t = -4.8, p = 1.669e-06 (1 greater)\n",
      "1340, 1485\n",
      "-0.09435398763756986\n",
      "curiosity: t = -1.264, p = 0.2063 (1 greater)\n"
     ]
    }
   ],
   "source": [
    "INTERESTING = ['curiosity']\n",
    "\n",
    "low_lower = {label: 0 for label in INTERESTING}\n",
    "high_higher = {label: 0 for label in INTERESTING}\n",
    "low_averages = {label: [] for label in INTERESTING}\n",
    "none_averages = {label: [] for label in INTERESTING}\n",
    "high_averages = {label: [] for label in INTERESTING}\n",
    "\n",
    "NUM_DISTINCT_QUESTIONS = 50\n",
    "for q_number in range(NUM_DISTINCT_QUESTIONS):\n",
    "    low_related = low_questions[low_questions.number == q_number]\n",
    "    none_related = none_questions[none_questions.number == q_number]\n",
    "    high_related = high_questions[high_questions.number == q_number]\n",
    "    \n",
    "    for judgment in INTERESTING:\n",
    "        low_averages[judgment].append(low_related[judgment].mean())\n",
    "        none_averages[judgment].append(none_related[judgment].mean())\n",
    "        high_averages[judgment].append(high_related[judgment].mean())\n",
    "        baseline_judgment = none_related[judgment].mean()\n",
    "        if baseline_judgment > low_related[judgment].mean():\n",
    "            low_lower[judgment] += 1\n",
    "        if baseline_judgment < high_related[judgment].mean():\n",
    "            high_higher[judgment] += 1\n",
    "\n",
    "pprint.pprint(low_lower)\n",
    "pprint.pprint(high_higher)\n",
    "\n",
    "for judgment in INTERESTING:\n",
    "    # Low vs None\n",
    "    print('{}, {}'.format(low_questions[judgment].size,\n",
    "        none_questions[judgment].size))\n",
    "    print(low_questions[judgment].mean() - none_questions[judgment].mean())\n",
    "    print('{}: {}'.format(judgment, describe.independent_t_test(\n",
    "        low_questions[judgment], none_questions[judgment])))\n",
    "    # None vs High\n",
    "    print('{}, {}'.format(none_questions[judgment].size,\n",
    "        high_questions[judgment].size))\n",
    "    print(none_questions[judgment].mean() - high_questions[judgment].mean())\n",
    "    print('{}: {}'.format(judgment, describe.independent_t_test(\n",
    "        none_questions[judgment], high_questions[judgment])))"
   ]
  },
  {
   "cell_type": "code",
   "execution_count": 16,
   "metadata": {
    "inputHidden": false,
    "outputHidden": false
   },
   "outputs": [
    {
     "name": "stdout",
     "output_type": "stream",
     "text": [
      "0.00130108572836\n",
      "0.335905516883\n"
     ]
    }
   ],
   "source": [
    "print(stats.binom_test(36, 50, alternative='greater'))\n",
    "print(stats.binom_test(27, 50, alternative='greater'))"
   ]
  },
  {
   "cell_type": "markdown",
   "metadata": {},
   "source": [
    "### Question Choice Prediction"
   ]
  },
  {
   "cell_type": "code",
   "execution_count": 31,
   "metadata": {},
   "outputs": [
    {
     "name": "stderr",
     "output_type": "stream",
     "text": [
      "C:\\Users\\RACH0_000\\Anaconda3\\lib\\site-packages\\ipykernel_launcher.py:5: SettingWithCopyWarning: \n",
      "A value is trying to be set on a copy of a slice from a DataFrame.\n",
      "Try using .loc[row_indexer,col_indexer] = value instead\n",
      "\n",
      "See the caveats in the documentation: http://pandas.pydata.org/pandas-docs/stable/indexing.html#indexing-view-versus-copy\n",
      "  \"\"\"\n"
     ]
    },
    {
     "data": {
      "text/html": [
       "<div>\n",
       "<style scoped>\n",
       "    .dataframe tbody tr th:only-of-type {\n",
       "        vertical-align: middle;\n",
       "    }\n",
       "\n",
       "    .dataframe tbody tr th {\n",
       "        vertical-align: top;\n",
       "    }\n",
       "\n",
       "    .dataframe thead th {\n",
       "        text-align: right;\n",
       "    }\n",
       "</style>\n",
       "<table border=\"1\" class=\"dataframe\">\n",
       "  <thead>\n",
       "    <tr style=\"text-align: right;\">\n",
       "      <th></th>\n",
       "      <th>choice</th>\n",
       "      <th>confidence</th>\n",
       "      <th>curiosity</th>\n",
       "      <th>group</th>\n",
       "      <th>number</th>\n",
       "      <th>popularity</th>\n",
       "      <th>social_utility</th>\n",
       "      <th>surprise</th>\n",
       "      <th>usefulness</th>\n",
       "      <th>writing</th>\n",
       "      <th>votes</th>\n",
       "    </tr>\n",
       "  </thead>\n",
       "  <tbody>\n",
       "    <tr>\n",
       "      <th>1340</th>\n",
       "      <td>1.0</td>\n",
       "      <td>3.0</td>\n",
       "      <td>3.0</td>\n",
       "      <td>upvote_low</td>\n",
       "      <td>26.0</td>\n",
       "      <td>3.0</td>\n",
       "      <td>3.0</td>\n",
       "      <td>3.0</td>\n",
       "      <td>3.0</td>\n",
       "      <td>3.0</td>\n",
       "      <td>0</td>\n",
       "    </tr>\n",
       "    <tr>\n",
       "      <th>1341</th>\n",
       "      <td>1.0</td>\n",
       "      <td>3.0</td>\n",
       "      <td>3.0</td>\n",
       "      <td>upvote_low</td>\n",
       "      <td>20.0</td>\n",
       "      <td>3.0</td>\n",
       "      <td>3.0</td>\n",
       "      <td>3.0</td>\n",
       "      <td>3.0</td>\n",
       "      <td>3.0</td>\n",
       "      <td>0</td>\n",
       "    </tr>\n",
       "    <tr>\n",
       "      <th>1342</th>\n",
       "      <td>0.0</td>\n",
       "      <td>0.0</td>\n",
       "      <td>0.0</td>\n",
       "      <td>upvote_low</td>\n",
       "      <td>7.0</td>\n",
       "      <td>0.0</td>\n",
       "      <td>0.0</td>\n",
       "      <td>0.0</td>\n",
       "      <td>0.0</td>\n",
       "      <td>0.0</td>\n",
       "      <td>0</td>\n",
       "    </tr>\n",
       "    <tr>\n",
       "      <th>1343</th>\n",
       "      <td>1.0</td>\n",
       "      <td>0.0</td>\n",
       "      <td>0.0</td>\n",
       "      <td>upvote_low</td>\n",
       "      <td>3.0</td>\n",
       "      <td>0.0</td>\n",
       "      <td>0.0</td>\n",
       "      <td>0.0</td>\n",
       "      <td>0.0</td>\n",
       "      <td>0.0</td>\n",
       "      <td>0</td>\n",
       "    </tr>\n",
       "    <tr>\n",
       "      <th>1344</th>\n",
       "      <td>0.0</td>\n",
       "      <td>0.0</td>\n",
       "      <td>0.0</td>\n",
       "      <td>upvote_low</td>\n",
       "      <td>2.0</td>\n",
       "      <td>0.0</td>\n",
       "      <td>0.0</td>\n",
       "      <td>0.0</td>\n",
       "      <td>0.0</td>\n",
       "      <td>0.0</td>\n",
       "      <td>0</td>\n",
       "    </tr>\n",
       "  </tbody>\n",
       "</table>\n",
       "</div>"
      ],
      "text/plain": [
       "      choice  confidence  curiosity       group  number  popularity  \\\n",
       "1340     1.0         3.0        3.0  upvote_low    26.0         3.0   \n",
       "1341     1.0         3.0        3.0  upvote_low    20.0         3.0   \n",
       "1342     0.0         0.0        0.0  upvote_low     7.0         0.0   \n",
       "1343     1.0         0.0        0.0  upvote_low     3.0         0.0   \n",
       "1344     0.0         0.0        0.0  upvote_low     2.0         0.0   \n",
       "\n",
       "      social_utility  surprise  usefulness  writing  votes  \n",
       "1340             3.0       3.0         3.0      3.0      0  \n",
       "1341             3.0       3.0         3.0      3.0      0  \n",
       "1342             0.0       0.0         0.0      0.0      0  \n",
       "1343             0.0       0.0         0.0      0.0      0  \n",
       "1344             0.0       0.0         0.0      0.0      0  "
      ]
     },
     "execution_count": 31,
     "metadata": {},
     "output_type": "execute_result"
    }
   ],
   "source": [
    "upvote_question_data = question_data[\n",
    "    (question_data.group == 'upvote_high') |\n",
    "    (question_data.group == 'upvote_low')]\n",
    "upvote_question_data['votes'] = upvote_question_data.apply(\n",
    "    lambda row: int(row['group'] == 'upvote_high'), axis=1)\n",
    "upvote_question_data.head()"
   ]
  },
  {
   "cell_type": "code",
   "execution_count": 30,
   "metadata": {},
   "outputs": [
    {
     "name": "stdout",
     "output_type": "stream",
     "text": [
      "Optimization terminated successfully.\n",
      "         Current function value: 0.616393\n",
      "         Iterations 5\n"
     ]
    },
    {
     "data": {
      "text/html": [
       "<table class=\"simpletable\">\n",
       "<caption>Logit Regression Results</caption>\n",
       "<tr>\n",
       "  <th>Dep. Variable:</th>      <td>choice</td>      <th>  No. Observations:  </th>  <td>  2970</td>  \n",
       "</tr>\n",
       "<tr>\n",
       "  <th>Model:</th>               <td>Logit</td>      <th>  Df Residuals:      </th>  <td>  2963</td>  \n",
       "</tr>\n",
       "<tr>\n",
       "  <th>Method:</th>               <td>MLE</td>       <th>  Df Model:          </th>  <td>     6</td>  \n",
       "</tr>\n",
       "<tr>\n",
       "  <th>Date:</th>          <td>Mon, 09 Sep 2019</td> <th>  Pseudo R-squ.:     </th>  <td>0.1107</td>  \n",
       "</tr>\n",
       "<tr>\n",
       "  <th>Time:</th>              <td>17:11:43</td>     <th>  Log-Likelihood:    </th> <td> -1830.7</td> \n",
       "</tr>\n",
       "<tr>\n",
       "  <th>converged:</th>           <td>True</td>       <th>  LL-Null:           </th> <td> -2058.6</td> \n",
       "</tr>\n",
       "<tr>\n",
       "  <th> </th>                      <td> </td>        <th>  LLR p-value:       </th> <td>2.610e-95</td>\n",
       "</tr>\n",
       "</table>\n",
       "<table class=\"simpletable\">\n",
       "<tr>\n",
       "         <td></td>           <th>coef</th>     <th>std err</th>      <th>z</th>      <th>P>|z|</th>  <th>[0.025</th>    <th>0.975]</th>  \n",
       "</tr>\n",
       "<tr>\n",
       "  <th>const</th>          <td>   -1.1363</td> <td>    0.100</td> <td>  -11.318</td> <td> 0.000</td> <td>   -1.333</td> <td>   -0.940</td>\n",
       "</tr>\n",
       "<tr>\n",
       "  <th>curiosity</th>      <td>    0.3205</td> <td>    0.026</td> <td>   12.100</td> <td> 0.000</td> <td>    0.269</td> <td>    0.372</td>\n",
       "</tr>\n",
       "<tr>\n",
       "  <th>confidence</th>     <td>   -0.0908</td> <td>    0.023</td> <td>   -3.901</td> <td> 0.000</td> <td>   -0.136</td> <td>   -0.045</td>\n",
       "</tr>\n",
       "<tr>\n",
       "  <th>usefulness</th>     <td>    0.1082</td> <td>    0.034</td> <td>    3.224</td> <td> 0.001</td> <td>    0.042</td> <td>    0.174</td>\n",
       "</tr>\n",
       "<tr>\n",
       "  <th>popularity</th>     <td>    0.0771</td> <td>    0.022</td> <td>    3.509</td> <td> 0.000</td> <td>    0.034</td> <td>    0.120</td>\n",
       "</tr>\n",
       "<tr>\n",
       "  <th>surprise</th>       <td>   -0.0945</td> <td>    0.022</td> <td>   -4.320</td> <td> 0.000</td> <td>   -0.137</td> <td>   -0.052</td>\n",
       "</tr>\n",
       "<tr>\n",
       "  <th>social_utility</th> <td>    0.0009</td> <td>    0.034</td> <td>    0.027</td> <td> 0.979</td> <td>   -0.067</td> <td>    0.068</td>\n",
       "</tr>\n",
       "</table>"
      ],
      "text/plain": [
       "<class 'statsmodels.iolib.summary.Summary'>\n",
       "\"\"\"\n",
       "                           Logit Regression Results                           \n",
       "==============================================================================\n",
       "Dep. Variable:                 choice   No. Observations:                 2970\n",
       "Model:                          Logit   Df Residuals:                     2963\n",
       "Method:                           MLE   Df Model:                            6\n",
       "Date:                Mon, 09 Sep 2019   Pseudo R-squ.:                  0.1107\n",
       "Time:                        17:11:43   Log-Likelihood:                -1830.7\n",
       "converged:                       True   LL-Null:                       -2058.6\n",
       "                                        LLR p-value:                 2.610e-95\n",
       "==================================================================================\n",
       "                     coef    std err          z      P>|z|      [0.025      0.975]\n",
       "----------------------------------------------------------------------------------\n",
       "const             -1.1363      0.100    -11.318      0.000      -1.333      -0.940\n",
       "curiosity          0.3205      0.026     12.100      0.000       0.269       0.372\n",
       "confidence        -0.0908      0.023     -3.901      0.000      -0.136      -0.045\n",
       "usefulness         0.1082      0.034      3.224      0.001       0.042       0.174\n",
       "popularity         0.0771      0.022      3.509      0.000       0.034       0.120\n",
       "surprise          -0.0945      0.022     -4.320      0.000      -0.137      -0.052\n",
       "social_utility     0.0009      0.034      0.027      0.979      -0.067       0.068\n",
       "==================================================================================\n",
       "\"\"\""
      ]
     },
     "execution_count": 30,
     "metadata": {},
     "output_type": "execute_result"
    }
   ],
   "source": [
    "all_predictors = [\n",
    "    'curiosity', 'confidence', 'usefulness', 'popularity',\n",
    "    'surprise', 'social_utility'\n",
    "]\n",
    "X = upvote_question_data[all_predictors]\n",
    "y = upvote_question_data['choice']\n",
    "X = sm.add_constant(X)\n",
    "\n",
    "logit_model = sm.Logit(y, X)\n",
    "results = logit_model.fit()\n",
    "results.summary()"
   ]
  },
  {
   "cell_type": "markdown",
   "metadata": {},
   "source": [
    "### Mediation of Popularity by Curiousity in Question Choice"
   ]
  },
  {
   "cell_type": "code",
   "execution_count": 28,
   "metadata": {},
   "outputs": [
    {
     "name": "stdout",
     "output_type": "stream",
     "text": [
      "Optimization terminated successfully.\n",
      "         Current function value: 0.686810\n",
      "         Iterations 4\n",
      "                           Logit Regression Results                           \n",
      "==============================================================================\n",
      "Dep. Variable:                 choice   No. Observations:                 2970\n",
      "Model:                          Logit   Df Residuals:                     2968\n",
      "Method:                           MLE   Df Model:                            1\n",
      "Date:                Mon, 09 Sep 2019   Pseudo R-squ.:                0.009142\n",
      "Time:                        17:08:53   Log-Likelihood:                -2039.8\n",
      "converged:                       True   LL-Null:                       -2058.6\n",
      "                                        LLR p-value:                 8.506e-10\n",
      "==============================================================================\n",
      "                 coef    std err          z      P>|z|      [0.025      0.975]\n",
      "------------------------------------------------------------------------------\n",
      "const         -0.2259      0.052     -4.324      0.000      -0.328      -0.123\n",
      "votes          0.4517      0.074      6.116      0.000       0.307       0.597\n",
      "==============================================================================\n",
      "Optimization terminated successfully.\n",
      "         Current function value: 0.625531\n",
      "         Iterations 5\n",
      "                           Logit Regression Results                           \n",
      "==============================================================================\n",
      "Dep. Variable:                 choice   No. Observations:                 2970\n",
      "Model:                          Logit   Df Residuals:                     2968\n",
      "Method:                           MLE   Df Model:                            1\n",
      "Date:                Mon, 09 Sep 2019   Pseudo R-squ.:                 0.09755\n",
      "Time:                        17:08:53   Log-Likelihood:                -1857.8\n",
      "converged:                       True   LL-Null:                       -2058.6\n",
      "                                        LLR p-value:                 2.419e-89\n",
      "==============================================================================\n",
      "                 coef    std err          z      P>|z|      [0.025      0.975]\n",
      "------------------------------------------------------------------------------\n",
      "const         -1.2549      0.078    -16.035      0.000      -1.408      -1.102\n",
      "curiosity      0.3881      0.021     18.793      0.000       0.348       0.429\n",
      "==============================================================================\n",
      "Optimization terminated successfully.\n",
      "         Current function value: 0.622549\n",
      "         Iterations 5\n",
      "                           Logit Regression Results                           \n",
      "==============================================================================\n",
      "Dep. Variable:                 choice   No. Observations:                 2970\n",
      "Model:                          Logit   Df Residuals:                     2967\n",
      "Method:                           MLE   Df Model:                            2\n",
      "Date:                Mon, 09 Sep 2019   Pseudo R-squ.:                  0.1019\n",
      "Time:                        17:08:53   Log-Likelihood:                -1849.0\n",
      "converged:                       True   LL-Null:                       -2058.6\n",
      "                                        LLR p-value:                 8.680e-92\n",
      "==============================================================================\n",
      "                 coef    std err          z      P>|z|      [0.025      0.975]\n",
      "------------------------------------------------------------------------------\n",
      "const         -1.3983      0.086    -16.212      0.000      -1.567      -1.229\n",
      "votes          0.3325      0.079      4.207      0.000       0.178       0.487\n",
      "curiosity      0.3811      0.021     18.386      0.000       0.340       0.422\n",
      "==============================================================================\n"
     ]
    }
   ],
   "source": [
    "# Popularity\n",
    "X = upvote_question_data['votes']\n",
    "y = upvote_question_data['choice']\n",
    "X = sm.add_constant(X)\n",
    "\n",
    "logit_model = sm.Logit(y, X)\n",
    "results = logit_model.fit()\n",
    "print(results.summary())\n",
    "\n",
    "# Curiosity\n",
    "X = upvote_question_data['curiosity']\n",
    "y = upvote_question_data['choice']\n",
    "X = sm.add_constant(X)\n",
    "\n",
    "logit_model = sm.Logit(y, X)\n",
    "results = logit_model.fit()\n",
    "print(results.summary())\n",
    "\n",
    "# Both\n",
    "X = upvote_question_data[['votes', 'curiosity']]\n",
    "y = upvote_question_data['choice']\n",
    "X = sm.add_constant(X)\n",
    "\n",
    "logit_model = sm.Logit(y, X)\n",
    "results = logit_model.fit()\n",
    "print(results.summary())"
   ]
  },
  {
   "cell_type": "markdown",
   "metadata": {},
   "source": [
    "### Correlations"
   ]
  },
  {
   "cell_type": "code",
   "execution_count": 25,
   "metadata": {},
   "outputs": [
    {
     "name": "stdout",
     "output_type": "stream",
     "text": [
      "(0.13050424014217601, 9.3506961009442868e-13)\n",
      "(0.55900151055663128, 8.8482219890515626e-244)\n",
      "(0.61338334946559836, 1.5296579934846479e-306)\n"
     ]
    }
   ],
   "source": [
    "print(\n",
    "    stats.pearsonr(\n",
    "        upvote_question_data.curiosity,\n",
    "        upvote_question_data.surprise),\n",
    "    stats.pearsonr(\n",
    "        upvote_question_data.curiosity,\n",
    "        upvote_question_data.social_utility),\n",
    "    stats.pearsonr(\n",
    "        upvote_question_data.curiosity,\n",
    "        upvote_question_data.usefulness),\n",
    "    sep='\\n'\n"
   ]
  },
  {
   "cell_type": "code",
   "execution_count": 45,
   "metadata": {},
   "outputs": [
    {
     "name": "stdout",
     "output_type": "stream",
     "text": [
      "                            OLS Regression Results                            \n",
      "==============================================================================\n",
      "Dep. Variable:              curiosity   R-squared:                       0.013\n",
      "Model:                            OLS   Adj. R-squared:                  0.012\n",
      "Method:                 Least Squares   F-statistic:                     38.13\n",
      "Date:                Mon, 09 Sep 2019   Prob (F-statistic):           7.52e-10\n",
      "Time:                        20:51:20   Log-Likelihood:                -6284.9\n",
      "No. Observations:                2970   AIC:                         1.257e+04\n",
      "Df Residuals:                    2968   BIC:                         1.259e+04\n",
      "Df Model:                           1                                         \n",
      "Covariance Type:            nonrobust                                         \n",
      "==============================================================================\n",
      "                 coef    std err          t      P>|t|      [0.025      0.975]\n",
      "------------------------------------------------------------------------------\n",
      "const          2.9832      0.052     57.229      0.000       2.881       3.085\n",
      "votes          0.4552      0.074      6.175      0.000       0.311       0.600\n",
      "==============================================================================\n",
      "Omnibus:                     2097.050   Durbin-Watson:                   1.436\n",
      "Prob(Omnibus):                  0.000   Jarque-Bera (JB):              198.931\n",
      "Skew:                          -0.233   Prob(JB):                     6.35e-44\n",
      "Kurtosis:                       1.821   Cond. No.                         2.62\n",
      "==============================================================================\n",
      "\n",
      "Warnings:\n",
      "[1] Standard Errors assume that the covariance matrix of the errors is correctly specified.\n",
      "                            OLS Regression Results                            \n",
      "==============================================================================\n",
      "Dep. Variable:              curiosity   R-squared:                       0.376\n",
      "Model:                            OLS   Adj. R-squared:                  0.376\n",
      "Method:                 Least Squares   F-statistic:                     1790.\n",
      "Date:                Mon, 09 Sep 2019   Prob (F-statistic):          1.53e-306\n",
      "Time:                        20:51:20   Log-Likelihood:                -5602.9\n",
      "No. Observations:                2970   AIC:                         1.121e+04\n",
      "Df Residuals:                    2968   BIC:                         1.122e+04\n",
      "Df Model:                           1                                         \n",
      "Covariance Type:            nonrobust                                         \n",
      "==============================================================================\n",
      "                 coef    std err          t      P>|t|      [0.025      0.975]\n",
      "------------------------------------------------------------------------------\n",
      "const          1.5011      0.050     30.074      0.000       1.403       1.599\n",
      "usefulness     0.6583      0.016     42.311      0.000       0.628       0.689\n",
      "==============================================================================\n",
      "Omnibus:                       12.339   Durbin-Watson:                   1.591\n",
      "Prob(Omnibus):                  0.002   Jarque-Bera (JB):               14.109\n",
      "Skew:                           0.094   Prob(JB):                     0.000863\n",
      "Kurtosis:                       3.281   Cond. No.                         5.82\n",
      "==============================================================================\n",
      "\n",
      "Warnings:\n",
      "[1] Standard Errors assume that the covariance matrix of the errors is correctly specified.\n",
      "                            OLS Regression Results                            \n",
      "==============================================================================\n",
      "Dep. Variable:              curiosity   R-squared:                       0.445\n",
      "Model:                            OLS   Adj. R-squared:                  0.444\n",
      "Method:                 Least Squares   F-statistic:                     476.1\n",
      "Date:                Mon, 09 Sep 2019   Prob (F-statistic):               0.00\n",
      "Time:                        20:51:20   Log-Likelihood:                -5428.4\n",
      "No. Observations:                2970   AIC:                         1.087e+04\n",
      "Df Residuals:                    2964   BIC:                         1.090e+04\n",
      "Df Model:                           5                                         \n",
      "Covariance Type:            nonrobust                                         \n",
      "==================================================================================\n",
      "                     coef    std err          t      P>|t|      [0.025      0.975]\n",
      "----------------------------------------------------------------------------------\n",
      "const              1.2030      0.065     18.573      0.000       1.076       1.330\n",
      "popularity         0.1263      0.015      8.396      0.000       0.097       0.156\n",
      "confidence        -0.1869      0.015    -12.138      0.000      -0.217      -0.157\n",
      "surprise           0.0455      0.015      3.078      0.002       0.017       0.074\n",
      "social_utility     0.2481      0.023     10.606      0.000       0.202       0.294\n",
      "usefulness         0.4803      0.022     22.099      0.000       0.438       0.523\n",
      "==============================================================================\n",
      "Omnibus:                       14.643   Durbin-Watson:                   1.538\n",
      "Prob(Omnibus):                  0.001   Jarque-Bera (JB):               17.828\n",
      "Skew:                           0.086   Prob(JB):                     0.000134\n",
      "Kurtosis:                       3.338   Cond. No.                         15.0\n",
      "==============================================================================\n",
      "\n",
      "Warnings:\n",
      "[1] Standard Errors assume that the covariance matrix of the errors is correctly specified.\n"
     ]
    }
   ],
   "source": [
    "#mediation of popularity on curiosity by other factors\n",
    "\n",
    "# Popularity\n",
    "X = upvote_question_data['votes']\n",
    "y = upvote_question_data['curiosity']\n",
    "X = sm.add_constant(X)\n",
    "\n",
    "linear_model = sm.OLS(y, X)\n",
    "results = linear_model.fit()\n",
    "print(results.summary())\n",
    "\n",
    "# other factors, confidence, 'usefulness', 'surprise', 'social_utility'\n",
    "X = upvote_question_data['usefulness']\n",
    "y = upvote_question_data['curiosity']\n",
    "X = sm.add_constant(X)\n",
    "\n",
    "linear_model = sm.OLS(y, X)\n",
    "results = linear_model.fit()\n",
    "print(results.summary())\n",
    "\n",
    "\n",
    "# Both\n",
    "X = upvote_question_data[['popularity', 'confidence', 'surprise', 'social_utility', 'usefulness']]\n",
    "y = upvote_question_data['curiosity']\n",
    "X = sm.add_constant(X)\n",
    "\n",
    "linear_model = sm.OLS(y, X)\n",
    "results = linear_model.fit()\n",
    "print(results.summary())\n"
   ]
  },
  {
   "cell_type": "markdown",
   "metadata": {},
   "source": [
    "### Saving Data"
   ]
  },
  {
   "cell_type": "code",
   "execution_count": 48,
   "metadata": {},
   "outputs": [],
   "source": [
    "upvote_responses.to_pickle('raw-data/exp_two_responses.pkl')"
   ]
  },
  {
   "cell_type": "markdown",
   "metadata": {},
   "source": [
    "# U-shape analysis"
   ]
  },
  {
   "cell_type": "code",
   "execution_count": 32,
   "metadata": {},
   "outputs": [],
   "source": [
    "# control_responses, post_responses, upvote_responses\n",
    "control_all = [control_responses, post_responses]\n",
    "control = pd.concat(control_all)\n",
    "data1 = control\n",
    "    \n",
    "g0_confidences = {num: [] for num in range(7)}\n",
    "g1_confidences = {num: [] for num in range(7)}\n",
    "    \n",
    "for index, row in data1.iterrows():\n",
    "    low = [] #compute mean of low questions\n",
    "    high = [] #compute mean of high questions\n",
    "    for q_num in range(5):\n",
    "        low.append(row['low_q{}_j0'.format(q_num)]) #for each subject compute their mean rating for low q's\n",
    "        high.append(row['high_q{}_j0'.format(q_num)]) #same for high 1's\n",
    "            \n",
    "    for q_num in range(5):            \n",
    "        cur_rating = row['low_q{}_j0'.format(q_num)] - np.mean(low)#subtract mean to normalize\n",
    "        conf_rating = row['low_q{}_j1'.format(q_num)]\n",
    "        g0_confidences[conf_rating].append(cur_rating)\n",
    "        \n",
    "        cur_rating = row['high_q{}_j0'.format(q_num)] - np.mean(high)\n",
    "        conf_rating = row['high_q{}_j1'.format(q_num)]\n",
    "        g1_confidences[conf_rating].append(cur_rating)\n",
    "all_confidences = {}\n",
    "for num in range(7):\n",
    "    all_confidences[num] = g0_confidences[num] + g1_confidences[num]\n"
   ]
  },
  {
   "cell_type": "code",
   "execution_count": 33,
   "metadata": {},
   "outputs": [
    {
     "data": {
      "image/png": "[encoded data removed]",
      "text/plain": [
       "<Figure size 432x288 with 1 Axes>"
      ]
     },
     "metadata": {
      "needs_background": "light"
     },
     "output_type": "display_data"
    }
   ],
   "source": [
    "import matplotlib.pyplot as plt\n",
    "\n",
    "PLOTTING_OPTIONS = {\n",
    "    'ylabel': 'Average Curiosity Rating',\n",
    "    'xlabel': 'Confidence Rating',\n",
    "    'title': 'Curiosity vs Confidence',\n",
    "}\n",
    "\n",
    "\n",
    "means = [np.mean(all_confidences[num]) for num in range(7)]\n",
    "stderr = [stats.sem(all_confidences[num]) for num in range(7)]\n",
    "    \n",
    "plotting.plot_single_bar(\n",
    "    means, stderr,\n",
    "    **PLOTTING_OPTIONS\n",
    ")\n",
    "plt.show()"
   ]
  },
  {
   "cell_type": "code",
   "execution_count": 34,
   "metadata": {},
   "outputs": [],
   "source": [
    "from sklearn import preprocessing\n",
    "\n",
    "x_values = []\n",
    "y_values = []\n",
    "for num in range(7):\n",
    "    x_values += [num / 6 for _ in range(len(all_confidences[num]))]\n",
    "    y_values += all_confidences[num]\n",
    "\n",
    "x_values = np.reshape(np.array(x_values), (-1, 1))\n",
    "y_values = np.reshape(np.array(y_values), (-1, 1))\n",
    "x_values_quadratic = preprocessing.PolynomialFeatures(2).fit_transform(x_values)"
   ]
  },
  {
   "cell_type": "code",
   "execution_count": 35,
   "metadata": {},
   "outputs": [
    {
     "data": {
      "text/html": [
       "<table class=\"simpletable\">\n",
       "<caption>OLS Regression Results</caption>\n",
       "<tr>\n",
       "  <th>Dep. Variable:</th>            <td>y</td>        <th>  R-squared:         </th> <td>   0.009</td> \n",
       "</tr>\n",
       "<tr>\n",
       "  <th>Model:</th>                   <td>OLS</td>       <th>  Adj. R-squared:    </th> <td>   0.009</td> \n",
       "</tr>\n",
       "<tr>\n",
       "  <th>Method:</th>             <td>Least Squares</td>  <th>  F-statistic:       </th> <td>   13.81</td> \n",
       "</tr>\n",
       "<tr>\n",
       "  <th>Date:</th>             <td>Tue, 03 Sep 2019</td> <th>  Prob (F-statistic):</th> <td>1.07e-06</td> \n",
       "</tr>\n",
       "<tr>\n",
       "  <th>Time:</th>                 <td>16:30:10</td>     <th>  Log-Likelihood:    </th> <td> -5184.0</td> \n",
       "</tr>\n",
       "<tr>\n",
       "  <th>No. Observations:</th>      <td>  2950</td>      <th>  AIC:               </th> <td>1.037e+04</td>\n",
       "</tr>\n",
       "<tr>\n",
       "  <th>Df Residuals:</th>          <td>  2947</td>      <th>  BIC:               </th> <td>1.039e+04</td>\n",
       "</tr>\n",
       "<tr>\n",
       "  <th>Df Model:</th>              <td>     2</td>      <th>                     </th>     <td> </td>    \n",
       "</tr>\n",
       "<tr>\n",
       "  <th>Covariance Type:</th>      <td>nonrobust</td>    <th>                     </th>     <td> </td>    \n",
       "</tr>\n",
       "</table>\n",
       "<table class=\"simpletable\">\n",
       "<tr>\n",
       "    <td></td>       <th>coef</th>     <th>std err</th>      <th>t</th>      <th>P>|t|</th>  <th>[0.025</th>    <th>0.975]</th>  \n",
       "</tr>\n",
       "<tr>\n",
       "  <th>const</th> <td>   -0.0509</td> <td>    0.039</td> <td>   -1.312</td> <td> 0.190</td> <td>   -0.127</td> <td>    0.025</td>\n",
       "</tr>\n",
       "<tr>\n",
       "  <th>x1</th>    <td>    1.1395</td> <td>    0.262</td> <td>    4.346</td> <td> 0.000</td> <td>    0.625</td> <td>    1.654</td>\n",
       "</tr>\n",
       "<tr>\n",
       "  <th>x2</th>    <td>   -1.5257</td> <td>    0.302</td> <td>   -5.054</td> <td> 0.000</td> <td>   -2.118</td> <td>   -0.934</td>\n",
       "</tr>\n",
       "</table>\n",
       "<table class=\"simpletable\">\n",
       "<tr>\n",
       "  <th>Omnibus:</th>       <td>31.599</td> <th>  Durbin-Watson:     </th> <td>   2.181</td>\n",
       "</tr>\n",
       "<tr>\n",
       "  <th>Prob(Omnibus):</th> <td> 0.000</td> <th>  Jarque-Bera (JB):  </th> <td>  34.082</td>\n",
       "</tr>\n",
       "<tr>\n",
       "  <th>Skew:</th>          <td>-0.218</td> <th>  Prob(JB):          </th> <td>3.97e-08</td>\n",
       "</tr>\n",
       "<tr>\n",
       "  <th>Kurtosis:</th>      <td> 3.295</td> <th>  Cond. No.          </th> <td>    16.3</td>\n",
       "</tr>\n",
       "</table><br/><br/>Warnings:<br/>[1] Standard Errors assume that the covariance matrix of the errors is correctly specified."
      ],
      "text/plain": [
       "<class 'statsmodels.iolib.summary.Summary'>\n",
       "\"\"\"\n",
       "                            OLS Regression Results                            \n",
       "==============================================================================\n",
       "Dep. Variable:                      y   R-squared:                       0.009\n",
       "Model:                            OLS   Adj. R-squared:                  0.009\n",
       "Method:                 Least Squares   F-statistic:                     13.81\n",
       "Date:                Tue, 03 Sep 2019   Prob (F-statistic):           1.07e-06\n",
       "Time:                        16:30:10   Log-Likelihood:                -5184.0\n",
       "No. Observations:                2950   AIC:                         1.037e+04\n",
       "Df Residuals:                    2947   BIC:                         1.039e+04\n",
       "Df Model:                           2                                         \n",
       "Covariance Type:            nonrobust                                         \n",
       "==============================================================================\n",
       "                 coef    std err          t      P>|t|      [0.025      0.975]\n",
       "------------------------------------------------------------------------------\n",
       "const         -0.0509      0.039     -1.312      0.190      -0.127       0.025\n",
       "x1             1.1395      0.262      4.346      0.000       0.625       1.654\n",
       "x2            -1.5257      0.302     -5.054      0.000      -2.118      -0.934\n",
       "==============================================================================\n",
       "Omnibus:                       31.599   Durbin-Watson:                   2.181\n",
       "Prob(Omnibus):                  0.000   Jarque-Bera (JB):               34.082\n",
       "Skew:                          -0.218   Prob(JB):                     3.97e-08\n",
       "Kurtosis:                       3.295   Cond. No.                         16.3\n",
       "==============================================================================\n",
       "\n",
       "Warnings:\n",
       "[1] Standard Errors assume that the covariance matrix of the errors is correctly specified.\n",
       "\"\"\""
      ]
     },
     "execution_count": 35,
     "metadata": {},
     "output_type": "execute_result"
    }
   ],
   "source": [
    "import statsmodels.api as sm\n",
    "results = sm.OLS(y_values, x_values_quadratic).fit()\n",
    "results.summary()"
   ]
  },
  {
   "cell_type": "code",
   "execution_count": 36,
   "metadata": {},
   "outputs": [
    {
     "name": "stdout",
     "output_type": "stream",
     "text": [
      "Best Polynomial\n",
      "y = -1.526x^2 + 1.139x + -0.05095\n",
      "y = 1.526x(1 - x) + -0.3862x \n"
     ]
    }
   ],
   "source": [
    "result = results.params\n",
    "\n",
    "print('Best Polynomial')\n",
    "print('y = {:.4}x^2 + {:.4}x + {:.4}'.format(result[2], result[1], result[0]))\n",
    "print('y = {:.4}x(1 - x) + {:.4}x '.format(-result[2], result[1] + result[2], result[0]))"
   ]
  },
  {
   "cell_type": "code",
   "execution_count": 31,
   "metadata": {},
   "outputs": [
    {
     "data": {
      "text/plain": [
       "Text(0, 0.5, 'Curiosity')"
      ]
     },
     "execution_count": 31,
     "metadata": {},
     "output_type": "execute_result"
    },
    {
     "data": {
      "image/png": "[encoded data removed]",
      "text/plain": [
       "<Figure size 432x288 with 1 Axes>"
      ]
     },
     "metadata": {
      "needs_background": "light"
     },
     "output_type": "display_data"
    }
   ],
   "source": [
    "import matplotlib as mpl\n",
    "mpl.rcParams['axes.linewidth'] = 2 #set the value globally\n",
    "ax = plt.figure()\n",
    "poly = np.poly1d(list(reversed(result)))\n",
    "x_ticks = np.linspace(0, 1, 100)\n",
    "plt.errorbar(np.linspace(0, 1, 7), means, stderr, color='darkgreen', marker='o', linestyle=\"None\",zorder=2)\n",
    "plt.plot(x_ticks, poly(x_ticks), '-', linewidth=4.0, color='lightblue', zorder=1)\n",
    "plt.ylim([-1.2, 0.5])\n",
    "plt.xlabel('Confidence',fontsize=18)\n",
    "plt.ylabel('Curiosity',fontsize=18)\n",
    "\n",
    "\n",
    "#ax.savefig('u-shape_control_all.png', bbox_inches='tight', dpi=1200)"
   ]
  },
  {
   "cell_type": "code",
   "execution_count": 9,
   "metadata": {},
   "outputs": [],
   "source": [
    "control_data.to_pickle('raw-data/baseline_2a.pkl')"
   ]
  },
  {
   "cell_type": "code",
   "execution_count": null,
   "metadata": {},
   "outputs": [],
   "source": []
  }
 ],
 "metadata": {
  "kernel_info": {
   "name": "python3"
  },
  "kernelspec": {
   "display_name": "Python 3",
   "language": "python",
   "name": "python3"
  },
  "language_info": {
   "codemirror_mode": {
    "name": "ipython",
    "version": 3
   },
   "file_extension": ".py",
   "mimetype": "text/x-python",
   "name": "python",
   "nbconvert_exporter": "python",
   "pygments_lexer": "ipython3",
   "version": "3.5.3"
  },
  "nteract": {
   "version": "0.8.4"
  }
 },
 "nbformat": 4,
 "nbformat_minor": 4
}
