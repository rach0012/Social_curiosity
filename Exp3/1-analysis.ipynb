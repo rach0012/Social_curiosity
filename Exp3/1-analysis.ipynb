{
 "cells": [
  {
   "cell_type": "markdown",
   "metadata": {},
   "source": [
    "# 11-experiment-three-cogsci\n",
    "\n",
    "## Integrity"
   ]
  },
  {
   "cell_type": "code",
   "execution_count": 1,
   "metadata": {},
   "outputs": [],
   "source": [
    "# Analytical Tools\n",
    "import numpy as np\n",
    "import pandas as pd\n",
    "from scipy import stats\n",
    "import matplotlib.pyplot as plt\n",
    "import seaborn as sns\n",
    "\n",
    "# General Utilities\n",
    "import itertools\n",
    "import json\n",
    "import pprint\n",
    "\n",
    "# Custom Utilities\n",
    "import utilities.plotting as plotting\n",
    "import utilities.describe as describe\n",
    "\n",
    "# Some settings\n",
    "log = pprint.pprint\n",
    "%matplotlib inline\n",
    "pd.options.mode.chained_assignment = None"
   ]
  },
  {
   "cell_type": "markdown",
   "metadata": {},
   "source": [
    "### Reading Data"
   ]
  },
  {
   "cell_type": "code",
   "execution_count": 2,
   "metadata": {},
   "outputs": [],
   "source": [
    "QUESTIONS = 10\n",
    "JUDGMENTS = 4\n",
    "\n",
    "FILE_NAMES = [\n",
    "    'data/baseline_final.json', #raw is initial one that may have duplicates, we take the non-duplicates from it\n",
    "     'data/raw.json',\n",
    "]\n",
    "\n",
    "master_responses = []\n",
    "for name in FILE_NAMES:\n",
    "    with open(name) as file:\n",
    "        master_responses.extend(json.loads(line) for line in file if line)"
   ]
  },
  {
   "cell_type": "markdown",
   "metadata": {},
   "source": [
    "### Parsing Data"
   ]
  },
  {
   "cell_type": "code",
   "execution_count": 3,
   "metadata": {
    "scrolled": false
   },
   "outputs": [],
   "source": [
    "data = {\n",
    "    'id': [],\n",
    "    'consent': [],\n",
    "    'attention': []\n",
    "}\n",
    "\n",
    "for q_num in range(QUESTIONS):\n",
    "    data['q{}_score'.format(q_num)] = []\n",
    "    data['q{}_index'.format(q_num)] = []\n",
    "    for j_num in range(JUDGMENTS):\n",
    "        data['q{}_j{}'.format(q_num, j_num)] = []"
   ]
  },
  {
   "cell_type": "code",
   "execution_count": 4,
   "metadata": {},
   "outputs": [],
   "source": [
    "ANSWER_KEYS = ('Q0', 'Q1', 'Q2', 'Q3')\n",
    "\n",
    "for person in master_responses:\n",
    "    # Grab data & ID\n",
    "    person_data = person['data']  \n",
    "    data['id'].append(person_data[0]['participantID'])\n",
    "    \n",
    "    # Fill in question labels\n",
    "    question_scores = person_data[0]['questionScores']\n",
    "    question_indices = person_data[0]['questionIndices']\n",
    "    \n",
    "    for q_num, score in zip(range(QUESTIONS), question_scores):\n",
    "        data['q{}_score'.format(q_num)].append(score)\n",
    "    for q_num, score in zip(range(QUESTIONS), question_indices):\n",
    "        data['q{}_index'.format(q_num)].append(score)  \n",
    "    \n",
    "    # Get consent response\n",
    "    consent_answer = json.loads(person_data[0]['responses'])\n",
    "    consent_value = int(consent_answer['Q0'].startswith('I consent'))\n",
    "    data['consent'].append(consent_value)\n",
    "\n",
    "    # Fill in judgments\n",
    "    judgment_indices = person_data[0]['judgmentIndices']\n",
    "    \n",
    "    for q_num, likert_index in zip(range(QUESTIONS), range(2, 12)):\n",
    "        answer = json.loads(person_data[likert_index]['responses'])\n",
    "        for j_label, key in zip(judgment_indices, ANSWER_KEYS):\n",
    "            rating = int(answer[key])\n",
    "            data['q{}_j{}'.format(q_num, j_label)].append(rating)\n",
    "\n",
    "    # Attention check\n",
    "    attention_answer = json.loads(person_data[7]['responses'])\n",
    "    attention_value = int(attention_answer['Q4'] == '6')\n",
    "    data['attention'].append(attention_value)"
   ]
  },
  {
   "cell_type": "markdown",
   "metadata": {},
   "source": [
    "### Reading Responses into Data"
   ]
  },
  {
   "cell_type": "code",
   "execution_count": 5,
   "metadata": {},
   "outputs": [
    {
     "data": {
      "text/html": [
       "<div>\n",
       "<style scoped>\n",
       "    .dataframe tbody tr th:only-of-type {\n",
       "        vertical-align: middle;\n",
       "    }\n",
       "\n",
       "    .dataframe tbody tr th {\n",
       "        vertical-align: top;\n",
       "    }\n",
       "\n",
       "    .dataframe thead th {\n",
       "        text-align: right;\n",
       "    }\n",
       "</style>\n",
       "<table border=\"1\" class=\"dataframe\">\n",
       "  <thead>\n",
       "    <tr style=\"text-align: right;\">\n",
       "      <th></th>\n",
       "      <th>attention</th>\n",
       "      <th>consent</th>\n",
       "      <th>id</th>\n",
       "      <th>q0_index</th>\n",
       "      <th>q0_j0</th>\n",
       "      <th>q0_j1</th>\n",
       "      <th>q0_j2</th>\n",
       "      <th>q0_j3</th>\n",
       "      <th>q0_score</th>\n",
       "      <th>q1_index</th>\n",
       "      <th>...</th>\n",
       "      <th>q8_j1</th>\n",
       "      <th>q8_j2</th>\n",
       "      <th>q8_j3</th>\n",
       "      <th>q8_score</th>\n",
       "      <th>q9_index</th>\n",
       "      <th>q9_j0</th>\n",
       "      <th>q9_j1</th>\n",
       "      <th>q9_j2</th>\n",
       "      <th>q9_j3</th>\n",
       "      <th>q9_score</th>\n",
       "    </tr>\n",
       "  </thead>\n",
       "  <tbody>\n",
       "    <tr>\n",
       "      <th>0</th>\n",
       "      <td>1</td>\n",
       "      <td>1</td>\n",
       "      <td>sfmcx2twvmsm0d9qpnq19vpmrd27oqtr</td>\n",
       "      <td>18</td>\n",
       "      <td>4</td>\n",
       "      <td>0</td>\n",
       "      <td>0</td>\n",
       "      <td>0</td>\n",
       "      <td>None</td>\n",
       "      <td>24</td>\n",
       "      <td>...</td>\n",
       "      <td>2</td>\n",
       "      <td>3</td>\n",
       "      <td>3</td>\n",
       "      <td>None</td>\n",
       "      <td>37</td>\n",
       "      <td>0</td>\n",
       "      <td>6</td>\n",
       "      <td>6</td>\n",
       "      <td>3</td>\n",
       "      <td>None</td>\n",
       "    </tr>\n",
       "    <tr>\n",
       "      <th>1</th>\n",
       "      <td>1</td>\n",
       "      <td>1</td>\n",
       "      <td>qrw87p430tabkol0mxj9q3dkm1p4o423</td>\n",
       "      <td>5</td>\n",
       "      <td>5</td>\n",
       "      <td>1</td>\n",
       "      <td>4</td>\n",
       "      <td>2</td>\n",
       "      <td>None</td>\n",
       "      <td>29</td>\n",
       "      <td>...</td>\n",
       "      <td>4</td>\n",
       "      <td>5</td>\n",
       "      <td>1</td>\n",
       "      <td>None</td>\n",
       "      <td>23</td>\n",
       "      <td>4</td>\n",
       "      <td>1</td>\n",
       "      <td>3</td>\n",
       "      <td>1</td>\n",
       "      <td>None</td>\n",
       "    </tr>\n",
       "    <tr>\n",
       "      <th>2</th>\n",
       "      <td>0</td>\n",
       "      <td>1</td>\n",
       "      <td>2yfjc32hqne6avf0a6kaxbhftw6ydo47</td>\n",
       "      <td>26</td>\n",
       "      <td>0</td>\n",
       "      <td>1</td>\n",
       "      <td>0</td>\n",
       "      <td>1</td>\n",
       "      <td>None</td>\n",
       "      <td>30</td>\n",
       "      <td>...</td>\n",
       "      <td>3</td>\n",
       "      <td>4</td>\n",
       "      <td>4</td>\n",
       "      <td>None</td>\n",
       "      <td>41</td>\n",
       "      <td>0</td>\n",
       "      <td>0</td>\n",
       "      <td>0</td>\n",
       "      <td>0</td>\n",
       "      <td>None</td>\n",
       "    </tr>\n",
       "    <tr>\n",
       "      <th>3</th>\n",
       "      <td>1</td>\n",
       "      <td>1</td>\n",
       "      <td>076dogp6qxwgm1aqfmdryebkh30e4w9m</td>\n",
       "      <td>20</td>\n",
       "      <td>3</td>\n",
       "      <td>0</td>\n",
       "      <td>1</td>\n",
       "      <td>1</td>\n",
       "      <td>None</td>\n",
       "      <td>25</td>\n",
       "      <td>...</td>\n",
       "      <td>0</td>\n",
       "      <td>3</td>\n",
       "      <td>1</td>\n",
       "      <td>None</td>\n",
       "      <td>40</td>\n",
       "      <td>0</td>\n",
       "      <td>0</td>\n",
       "      <td>0</td>\n",
       "      <td>0</td>\n",
       "      <td>None</td>\n",
       "    </tr>\n",
       "    <tr>\n",
       "      <th>4</th>\n",
       "      <td>1</td>\n",
       "      <td>1</td>\n",
       "      <td>um8loq05sq31yj9f54c4rhxfhjsx7uac</td>\n",
       "      <td>38</td>\n",
       "      <td>1</td>\n",
       "      <td>0</td>\n",
       "      <td>0</td>\n",
       "      <td>0</td>\n",
       "      <td>None</td>\n",
       "      <td>3</td>\n",
       "      <td>...</td>\n",
       "      <td>4</td>\n",
       "      <td>1</td>\n",
       "      <td>2</td>\n",
       "      <td>None</td>\n",
       "      <td>27</td>\n",
       "      <td>3</td>\n",
       "      <td>3</td>\n",
       "      <td>2</td>\n",
       "      <td>2</td>\n",
       "      <td>None</td>\n",
       "    </tr>\n",
       "  </tbody>\n",
       "</table>\n",
       "<p>5 rows × 63 columns</p>\n",
       "</div>"
      ],
      "text/plain": [
       "   attention  consent                                id  q0_index  q0_j0  \\\n",
       "0          1        1  sfmcx2twvmsm0d9qpnq19vpmrd27oqtr        18      4   \n",
       "1          1        1  qrw87p430tabkol0mxj9q3dkm1p4o423         5      5   \n",
       "2          0        1  2yfjc32hqne6avf0a6kaxbhftw6ydo47        26      0   \n",
       "3          1        1  076dogp6qxwgm1aqfmdryebkh30e4w9m        20      3   \n",
       "4          1        1  um8loq05sq31yj9f54c4rhxfhjsx7uac        38      1   \n",
       "\n",
       "   q0_j1  q0_j2  q0_j3 q0_score  q1_index    ...     q8_j1  q8_j2  q8_j3  \\\n",
       "0      0      0      0     None        24    ...         2      3      3   \n",
       "1      1      4      2     None        29    ...         4      5      1   \n",
       "2      1      0      1     None        30    ...         3      4      4   \n",
       "3      0      1      1     None        25    ...         0      3      1   \n",
       "4      0      0      0     None         3    ...         4      1      2   \n",
       "\n",
       "   q8_score q9_index  q9_j0  q9_j1  q9_j2  q9_j3  q9_score  \n",
       "0      None       37      0      6      6      3      None  \n",
       "1      None       23      4      1      3      1      None  \n",
       "2      None       41      0      0      0      0      None  \n",
       "3      None       40      0      0      0      0      None  \n",
       "4      None       27      3      3      2      2      None  \n",
       "\n",
       "[5 rows x 63 columns]"
      ]
     },
     "execution_count": 5,
     "metadata": {},
     "output_type": "execute_result"
    }
   ],
   "source": [
    "data = pd.DataFrame(data)\n",
    "sample_size = len(data)\n",
    "data.head()\n"
   ]
  },
  {
   "cell_type": "code",
   "execution_count": 6,
   "metadata": {
    "scrolled": true
   },
   "outputs": [
    {
     "name": "stdout",
     "output_type": "stream",
     "text": [
      "298 18774\n",
      "298 18774\n",
      "278 17514\n",
      "Inclusion: 93.29% \n"
     ]
    }
   ],
   "source": [
    "print(len(data), data.size)\n",
    "data = data[data.consent == 1]\n",
    "print(len(data), data.size)\n",
    "data = data[data.attention == 1]\n",
    "print(len(data), data.size)\n",
    "\n",
    "print('Inclusion: {:.4}% '.format(len(data) / sample_size * 100))"
   ]
  },
  {
   "cell_type": "code",
   "execution_count": 7,
   "metadata": {},
   "outputs": [],
   "source": [
    "judgments = []\n",
    "for q_num in range(QUESTIONS):\n",
    "    for j_num in range(JUDGMENTS):\n",
    "        judgments.append('q{}_j{}'.format(q_num, j_num))\n",
    "scores = data[judgments]\n",
    "data['j_mean'] = scores.mean(axis=1)\n",
    "data['j_std'] =scores.std(axis=1)\n",
    "\n"
   ]
  },
  {
   "cell_type": "code",
   "execution_count": 36,
   "metadata": {},
   "outputs": [
    {
     "name": "stdout",
     "output_type": "stream",
     "text": [
      "278 19182\n",
      "[[3 2 2 2 3 3 2 2 4 3 3 3 4 2 4 4 4 2 3 3 3 2 3 3 4 2 4 4 3 3 3 3 2 2 2 2 4\n",
      "  2 3 3]]\n",
      "Inclusion: 91.61% \n"
     ]
    },
    {
     "name": "stderr",
     "output_type": "stream",
     "text": [
      "C:\\Users\\RACH0_000\\Anaconda3\\lib\\site-packages\\numpy\\core\\fromnumeric.py:1033: FutureWarning: 'argmin' is deprecated, use 'idxmin' instead. The behavior of 'argmin'\n",
      "will be corrected to return the positional minimum in the future.\n",
      "Use 'series.values.argmin' to get the position of the minimum now.\n",
      "  return argmin(axis, out)\n"
     ]
    }
   ],
   "source": [
    "#Based on reviewer's comments, we are commenting this out i.e. we keep all subjects, and only remove people who failed the attention check\n",
    "print(len(data), data.size)\n",
    "data = data[data.j_std > 0.75]\n",
    "index = np.argmin(data['j_std'])\n",
    "print(scores.loc[[index]].values)\n",
    "print('Inclusion: {:.4}% '.format(len(data) / sample_size * 100))"
   ]
  },
  {
   "cell_type": "markdown",
   "metadata": {},
   "source": [
    "## Analysis"
   ]
  },
  {
   "cell_type": "code",
   "execution_count": 8,
   "metadata": {},
   "outputs": [],
   "source": [
    "for j_num in range(JUDGMENTS):\n",
    "    headings = []\n",
    "    for q_num in range(QUESTIONS):\n",
    "        headings.append('q{}_j{}'.format(q_num, j_num))\n",
    "\n",
    "    rating_mean = data[headings].mean(axis=1)\n",
    "    data['j{}_mean'.format(j_num)] = rating_mean"
   ]
  },
  {
   "cell_type": "code",
   "execution_count": 9,
   "metadata": {},
   "outputs": [
    {
     "name": "stdout",
     "output_type": "stream",
     "text": [
      "[3.484172661870501, 1.6143884892086335, 2.6496402877697847, 2.2496402877697848]\n",
      "[0.07087030628635274, 0.07352797928986694, 0.07247601012825244, 0.0717032227640521]\n"
     ]
    }
   ],
   "source": [
    "means, errs = [], []\n",
    "for j_num in range(JUDGMENTS):\n",
    "    values = data['j{}_mean'.format(j_num)]\n",
    "    means.append(values.mean())\n",
    "    errs.append(stats.sem(values))\n",
    "\n",
    "print(means)\n",
    "print(errs)"
   ]
  },
  {
   "cell_type": "code",
   "execution_count": 10,
   "metadata": {},
   "outputs": [
    {
     "data": {
      "image/png": "[encoded data removed]",
      "text/plain": [
       "<Figure size 432x288 with 1 Axes>"
      ]
     },
     "metadata": {
      "needs_background": "light"
     },
     "output_type": "display_data"
    }
   ],
   "source": [
    "PLOTTING_OPTIONS = {\n",
    "    'ylabel': 'Ratings',\n",
    "    'ticks': ['Curiosity', 'Confidence', 'Usefulness', 'Social Utility'],\n",
    "    'title': 'All Questions'\n",
    "}\n",
    "plotting.plot_single_bar(means, errs, **PLOTTING_OPTIONS)"
   ]
  },
  {
   "cell_type": "markdown",
   "metadata": {},
   "source": [
    "# U-shape analysis"
   ]
  },
  {
   "cell_type": "code",
   "execution_count": 11,
   "metadata": {},
   "outputs": [],
   "source": [
    "all_confidences = {num: [] for num in range(7)}\n",
    "for index, row in data.iterrows():\n",
    "    num = [] #compute mean of questions\n",
    "    for q_num in range(QUESTIONS):\n",
    "        num.append(row['q{}_j0'.format(q_num)]) #for each subject compute their mean rating for q's        \n",
    "    for q_num in range(QUESTIONS):\n",
    "        cur_rating = row['q{}_j0'.format(q_num)] - np.mean(num)\n",
    "        conf_rating = row['q{}_j1'.format(q_num)]\n",
    "        all_confidences[conf_rating].append(cur_rating)        \n"
   ]
  },
  {
   "cell_type": "code",
   "execution_count": 12,
   "metadata": {},
   "outputs": [
    {
     "data": {
      "image/png": "[encoded data removed]",
      "text/plain": [
       "<Figure size 432x288 with 1 Axes>"
      ]
     },
     "metadata": {
      "needs_background": "light"
     },
     "output_type": "display_data"
    }
   ],
   "source": [
    "import matplotlib.pyplot as plt\n",
    "\n",
    "PLOTTING_OPTIONS = {\n",
    "    'ylabel': 'Average Curiosity Rating',\n",
    "    'xlabel': 'Confidence Rating',\n",
    "    'title': 'Curiosity vs Confidence',\n",
    "}\n",
    "\n",
    "\n",
    "means = [np.mean(all_confidences[num]) for num in range(7)]\n",
    "stderr = [stats.sem(all_confidences[num]) for num in range(7)]\n",
    "    \n",
    "plotting.plot_single_bar(\n",
    "    means, stderr,\n",
    "    **PLOTTING_OPTIONS\n",
    ")\n",
    "plt.show()"
   ]
  },
  {
   "cell_type": "code",
   "execution_count": 13,
   "metadata": {},
   "outputs": [
    {
     "name": "stdout",
     "output_type": "stream",
     "text": [
      "[[0.]\n",
      " [0.]\n",
      " [0.]\n",
      " ...\n",
      " [1.]\n",
      " [1.]\n",
      " [1.]]\n",
      "[[1. 0. 0.]\n",
      " [1. 0. 0.]\n",
      " [1. 0. 0.]\n",
      " ...\n",
      " [1. 1. 1.]\n",
      " [1. 1. 1.]\n",
      " [1. 1. 1.]]\n"
     ]
    }
   ],
   "source": [
    "from sklearn import preprocessing\n",
    "\n",
    "x_values = []\n",
    "y_values = []\n",
    "for num in range(7):\n",
    "    x_values += [num / 6 for _ in range(len(all_confidences[num]))]\n",
    "    y_values += all_confidences[num]\n",
    "\n",
    "x_values = np.reshape(np.array(x_values), (-1, 1))\n",
    "y_values = np.reshape(np.array(y_values), (-1, 1))\n",
    "x_values_quadratic = preprocessing.PolynomialFeatures(2).fit_transform(x_values)\n",
    "\n",
    "print(x_values)\n",
    "print(x_values_quadratic)"
   ]
  },
  {
   "cell_type": "code",
   "execution_count": 14,
   "metadata": {},
   "outputs": [
    {
     "data": {
      "text/html": [
       "<table class=\"simpletable\">\n",
       "<caption>OLS Regression Results</caption>\n",
       "<tr>\n",
       "  <th>Dep. Variable:</th>            <td>y</td>        <th>  R-squared:         </th> <td>   0.018</td> \n",
       "</tr>\n",
       "<tr>\n",
       "  <th>Model:</th>                   <td>OLS</td>       <th>  Adj. R-squared:    </th> <td>   0.018</td> \n",
       "</tr>\n",
       "<tr>\n",
       "  <th>Method:</th>             <td>Least Squares</td>  <th>  F-statistic:       </th> <td>   25.98</td> \n",
       "</tr>\n",
       "<tr>\n",
       "  <th>Date:</th>             <td>Sun, 15 Dec 2019</td> <th>  Prob (F-statistic):</th> <td>6.61e-12</td> \n",
       "</tr>\n",
       "<tr>\n",
       "  <th>Time:</th>                 <td>04:04:50</td>     <th>  Log-Likelihood:    </th> <td> -5159.9</td> \n",
       "</tr>\n",
       "<tr>\n",
       "  <th>No. Observations:</th>      <td>  2780</td>      <th>  AIC:               </th> <td>1.033e+04</td>\n",
       "</tr>\n",
       "<tr>\n",
       "  <th>Df Residuals:</th>          <td>  2777</td>      <th>  BIC:               </th> <td>1.034e+04</td>\n",
       "</tr>\n",
       "<tr>\n",
       "  <th>Df Model:</th>              <td>     2</td>      <th>                     </th>     <td> </td>    \n",
       "</tr>\n",
       "<tr>\n",
       "  <th>Covariance Type:</th>      <td>nonrobust</td>    <th>                     </th>     <td> </td>    \n",
       "</tr>\n",
       "</table>\n",
       "<table class=\"simpletable\">\n",
       "<tr>\n",
       "    <td></td>       <th>coef</th>     <th>std err</th>      <th>t</th>      <th>P>|t|</th>  <th>[0.025</th>    <th>0.975]</th>  \n",
       "</tr>\n",
       "<tr>\n",
       "  <th>const</th> <td>   -0.0605</td> <td>    0.043</td> <td>   -1.408</td> <td> 0.159</td> <td>   -0.145</td> <td>    0.024</td>\n",
       "</tr>\n",
       "<tr>\n",
       "  <th>x1</th>    <td>    1.7153</td> <td>    0.304</td> <td>    5.634</td> <td> 0.000</td> <td>    1.118</td> <td>    2.312</td>\n",
       "</tr>\n",
       "<tr>\n",
       "  <th>x2</th>    <td>   -2.3572</td> <td>    0.349</td> <td>   -6.747</td> <td> 0.000</td> <td>   -3.042</td> <td>   -1.672</td>\n",
       "</tr>\n",
       "</table>\n",
       "<table class=\"simpletable\">\n",
       "<tr>\n",
       "  <th>Omnibus:</th>       <td>12.853</td> <th>  Durbin-Watson:     </th> <td>   2.010</td>\n",
       "</tr>\n",
       "<tr>\n",
       "  <th>Prob(Omnibus):</th> <td> 0.002</td> <th>  Jarque-Bera (JB):  </th> <td>  12.921</td>\n",
       "</tr>\n",
       "<tr>\n",
       "  <th>Skew:</th>          <td>-0.167</td> <th>  Prob(JB):          </th> <td> 0.00156</td>\n",
       "</tr>\n",
       "<tr>\n",
       "  <th>Kurtosis:</th>      <td> 3.023</td> <th>  Cond. No.          </th> <td>    16.5</td>\n",
       "</tr>\n",
       "</table><br/><br/>Warnings:<br/>[1] Standard Errors assume that the covariance matrix of the errors is correctly specified."
      ],
      "text/plain": [
       "<class 'statsmodels.iolib.summary.Summary'>\n",
       "\"\"\"\n",
       "                            OLS Regression Results                            \n",
       "==============================================================================\n",
       "Dep. Variable:                      y   R-squared:                       0.018\n",
       "Model:                            OLS   Adj. R-squared:                  0.018\n",
       "Method:                 Least Squares   F-statistic:                     25.98\n",
       "Date:                Sun, 15 Dec 2019   Prob (F-statistic):           6.61e-12\n",
       "Time:                        04:04:50   Log-Likelihood:                -5159.9\n",
       "No. Observations:                2780   AIC:                         1.033e+04\n",
       "Df Residuals:                    2777   BIC:                         1.034e+04\n",
       "Df Model:                           2                                         \n",
       "Covariance Type:            nonrobust                                         \n",
       "==============================================================================\n",
       "                 coef    std err          t      P>|t|      [0.025      0.975]\n",
       "------------------------------------------------------------------------------\n",
       "const         -0.0605      0.043     -1.408      0.159      -0.145       0.024\n",
       "x1             1.7153      0.304      5.634      0.000       1.118       2.312\n",
       "x2            -2.3572      0.349     -6.747      0.000      -3.042      -1.672\n",
       "==============================================================================\n",
       "Omnibus:                       12.853   Durbin-Watson:                   2.010\n",
       "Prob(Omnibus):                  0.002   Jarque-Bera (JB):               12.921\n",
       "Skew:                          -0.167   Prob(JB):                      0.00156\n",
       "Kurtosis:                       3.023   Cond. No.                         16.5\n",
       "==============================================================================\n",
       "\n",
       "Warnings:\n",
       "[1] Standard Errors assume that the covariance matrix of the errors is correctly specified.\n",
       "\"\"\""
      ]
     },
     "execution_count": 14,
     "metadata": {},
     "output_type": "execute_result"
    }
   ],
   "source": [
    "import statsmodels.api as sm\n",
    "results = sm.OLS(y_values, x_values_quadratic).fit()\n",
    "results.summary()"
   ]
  },
  {
   "cell_type": "code",
   "execution_count": 15,
   "metadata": {},
   "outputs": [
    {
     "name": "stdout",
     "output_type": "stream",
     "text": [
      "Best Polynomial\n",
      "y = -2.357x^2 + 1.715x + -0.06047\n",
      "y = 2.357x(1 - x) + -0.6419x \n"
     ]
    }
   ],
   "source": [
    "result = results.params\n",
    "\n",
    "print('Best Polynomial')\n",
    "print('y = {:.4}x^2 + {:.4}x + {:.4}'.format(result[2], result[1], result[0]))\n",
    "print('y = {:.4}x(1 - x) + {:.4}x '.format(-result[2], result[1] + result[2], result[0]))"
   ]
  },
  {
   "cell_type": "code",
   "execution_count": 16,
   "metadata": {},
   "outputs": [
    {
     "data": {
      "image/png": "[encoded data removed]",
      "text/plain": [
       "<Figure size 432x288 with 1 Axes>"
      ]
     },
     "metadata": {
      "needs_background": "light"
     },
     "output_type": "display_data"
    }
   ],
   "source": [
    "import matplotlib as mpl\n",
    "mpl.rcParams['axes.linewidth'] = 2 #set the value globally\n",
    "ax = plt.figure()\n",
    "poly = np.poly1d(list(reversed(result)))\n",
    "x_ticks = np.linspace(0, 1, 100)\n",
    "plt.errorbar(np.linspace(0, 1, 7), means, stderr, color='darkgreen', marker='o', linestyle=\"None\",zorder=2)\n",
    "plt.plot(x_ticks, poly(x_ticks), '-', linewidth=4.0, color='lightblue', zorder=1)\n",
    "plt.ylim([-1.2, 0.5])\n",
    "plt.xlabel('Confidence',fontsize=18)\n",
    "plt.ylabel('Curiosity',fontsize=18)\n",
    "\n",
    "\n",
    "ax.savefig('u-shape2b_control.png', bbox_inches='tight', dpi=1200)"
   ]
  },
  {
   "cell_type": "code",
   "execution_count": 37,
   "metadata": {},
   "outputs": [],
   "source": [
    "data.to_pickle('raw-data/baseline_2b1.pkl')"
   ]
  },
  {
   "cell_type": "code",
   "execution_count": null,
   "metadata": {},
   "outputs": [],
   "source": []
  }
 ],
 "metadata": {
  "kernel_info": {
   "name": "python3"
  },
  "kernelspec": {
   "display_name": "Python 3",
   "language": "python",
   "name": "python3"
  },
  "language_info": {
   "codemirror_mode": {
    "name": "ipython",
    "version": 3
   },
   "file_extension": ".py",
   "mimetype": "text/x-python",
   "name": "python",
   "nbconvert_exporter": "python",
   "pygments_lexer": "ipython3",
   "version": "3.5.3"
  },
  "nteract": {
   "version": "0.5.5"
  }
 },
 "nbformat": 4,
 "nbformat_minor": 2
}
