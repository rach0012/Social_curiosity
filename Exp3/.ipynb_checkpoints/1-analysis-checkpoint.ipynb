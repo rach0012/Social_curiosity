{
 "cells": [
  {
   "cell_type": "markdown",
   "metadata": {},
   "source": [
    "# 11-experiment-three-cogsci\n",
    "\n",
    "## Integrity"
   ]
  },
  {
   "cell_type": "code",
   "execution_count": 1,
   "metadata": {
    "collapsed": true
   },
   "outputs": [],
   "source": [
    "# Analytical Tools\n",
    "import numpy as np\n",
    "import pandas as pd\n",
    "from scipy import stats\n",
    "import matplotlib.pyplot as plt\n",
    "import seaborn as sns\n",
    "\n",
    "# General Utilities\n",
    "import itertools\n",
    "import json\n",
    "import pprint\n",
    "\n",
    "# Custom Utilities\n",
    "import utilities.plotting as plotting\n",
    "import utilities.describe as describe\n",
    "\n",
    "# Some settings\n",
    "log = pprint.pprint\n",
    "%matplotlib inline\n",
    "%config InlineBackend.figure_format = 'retina'\n",
    "pd.options.mode.chained_assignment = None"
   ]
  },
  {
   "cell_type": "markdown",
   "metadata": {},
   "source": [
    "### Reading Data"
   ]
  },
  {
   "cell_type": "code",
   "execution_count": 10,
   "metadata": {
    "collapsed": true
   },
   "outputs": [],
   "source": [
    "QUESTIONS = 10\n",
    "JUDGMENTS = 4\n",
    "\n",
    "FILE_NAMES = [\n",
    "    'data/raw2.json',\n",
    "]\n",
    "\n",
    "master_responses = []\n",
    "for name in FILE_NAMES:\n",
    "    with open(name) as file:\n",
    "        master_responses.extend(json.loads(line) for line in file if line)"
   ]
  },
  {
   "cell_type": "markdown",
   "metadata": {},
   "source": [
    "### Parsing Data"
   ]
  },
  {
   "cell_type": "code",
   "execution_count": 11,
   "metadata": {
    "collapsed": true,
    "scrolled": false
   },
   "outputs": [],
   "source": [
    "data = {\n",
    "    'id': [],\n",
    "    'consent': [],\n",
    "    'attention': []\n",
    "}\n",
    "\n",
    "for q_num in range(QUESTIONS):\n",
    "    data['q{}_score'.format(q_num)] = []\n",
    "    data['q{}_index'.format(q_num)] = []\n",
    "    for j_num in range(JUDGMENTS):\n",
    "        data['q{}_j{}'.format(q_num, j_num)] = []"
   ]
  },
  {
   "cell_type": "code",
   "execution_count": 12,
   "metadata": {
    "collapsed": true
   },
   "outputs": [],
   "source": [
    "ANSWER_KEYS = ('Q0', 'Q1', 'Q2', 'Q3')\n",
    "\n",
    "for person in master_responses:\n",
    "    # Grab data & ID\n",
    "    person_data = person['data']  \n",
    "    data['id'].append(person_data[0]['participantID'])\n",
    "    \n",
    "    # Fill in question labels\n",
    "    question_scores = person_data[0]['questionScores']\n",
    "    question_indices = person_data[0]['questionIndices']\n",
    "    \n",
    "    for q_num, score in zip(range(QUESTIONS), question_scores):\n",
    "        data['q{}_score'.format(q_num)].append(score)\n",
    "    for q_num, score in zip(range(QUESTIONS), question_indices):\n",
    "        data['q{}_index'.format(q_num)].append(score)  \n",
    "    \n",
    "    # Get consent response\n",
    "    consent_answer = json.loads(person_data[0]['responses'])\n",
    "    consent_value = int(consent_answer['Q0'].startswith('I consent'))\n",
    "    data['consent'].append(consent_value)\n",
    "\n",
    "    # Fill in judgments\n",
    "    judgment_indices = person_data[0]['judgmentIndices']\n",
    "    \n",
    "    for q_num, likert_index in zip(range(QUESTIONS), range(2, 12)):\n",
    "        answer = json.loads(person_data[likert_index]['responses'])\n",
    "        for j_label, key in zip(judgment_indices, ANSWER_KEYS):\n",
    "            rating = int(answer[key])\n",
    "            data['q{}_j{}'.format(q_num, j_label)].append(rating)\n",
    "\n",
    "    # Attention check\n",
    "    attention_answer = json.loads(person_data[7]['responses'])\n",
    "    attention_value = int(attention_answer['Q4'] == '6')\n",
    "    data['attention'].append(attention_value)"
   ]
  },
  {
   "cell_type": "markdown",
   "metadata": {},
   "source": [
    "### Reading Responses into Data"
   ]
  },
  {
   "cell_type": "code",
   "execution_count": 13,
   "metadata": {
    "collapsed": false
   },
   "outputs": [
    {
     "data": {
      "text/html": [
       "<div>\n",
       "<style scoped>\n",
       "    .dataframe tbody tr th:only-of-type {\n",
       "        vertical-align: middle;\n",
       "    }\n",
       "\n",
       "    .dataframe tbody tr th {\n",
       "        vertical-align: top;\n",
       "    }\n",
       "\n",
       "    .dataframe thead th {\n",
       "        text-align: right;\n",
       "    }\n",
       "</style>\n",
       "<table border=\"1\" class=\"dataframe\">\n",
       "  <thead>\n",
       "    <tr style=\"text-align: right;\">\n",
       "      <th></th>\n",
       "      <th>id</th>\n",
       "      <th>consent</th>\n",
       "      <th>attention</th>\n",
       "      <th>q0_score</th>\n",
       "      <th>q0_index</th>\n",
       "      <th>q0_j0</th>\n",
       "      <th>q0_j1</th>\n",
       "      <th>q0_j2</th>\n",
       "      <th>q0_j3</th>\n",
       "      <th>q1_score</th>\n",
       "      <th>...</th>\n",
       "      <th>q8_j0</th>\n",
       "      <th>q8_j1</th>\n",
       "      <th>q8_j2</th>\n",
       "      <th>q8_j3</th>\n",
       "      <th>q9_score</th>\n",
       "      <th>q9_index</th>\n",
       "      <th>q9_j0</th>\n",
       "      <th>q9_j1</th>\n",
       "      <th>q9_j2</th>\n",
       "      <th>q9_j3</th>\n",
       "    </tr>\n",
       "  </thead>\n",
       "  <tbody>\n",
       "    <tr>\n",
       "      <th>0</th>\n",
       "      <td>wqmklle9knovdz6pvearx318fagmsecg</td>\n",
       "      <td>1</td>\n",
       "      <td>0</td>\n",
       "      <td>None</td>\n",
       "      <td>23</td>\n",
       "      <td>2</td>\n",
       "      <td>4</td>\n",
       "      <td>4</td>\n",
       "      <td>3</td>\n",
       "      <td>None</td>\n",
       "      <td>...</td>\n",
       "      <td>5</td>\n",
       "      <td>4</td>\n",
       "      <td>4</td>\n",
       "      <td>4</td>\n",
       "      <td>None</td>\n",
       "      <td>33</td>\n",
       "      <td>4</td>\n",
       "      <td>4</td>\n",
       "      <td>3</td>\n",
       "      <td>2</td>\n",
       "    </tr>\n",
       "    <tr>\n",
       "      <th>1</th>\n",
       "      <td>betq5c7rrf8uww44hwctrcukvud4gl1j</td>\n",
       "      <td>1</td>\n",
       "      <td>1</td>\n",
       "      <td>None</td>\n",
       "      <td>20</td>\n",
       "      <td>6</td>\n",
       "      <td>0</td>\n",
       "      <td>6</td>\n",
       "      <td>5</td>\n",
       "      <td>None</td>\n",
       "      <td>...</td>\n",
       "      <td>0</td>\n",
       "      <td>0</td>\n",
       "      <td>0</td>\n",
       "      <td>0</td>\n",
       "      <td>None</td>\n",
       "      <td>46</td>\n",
       "      <td>0</td>\n",
       "      <td>0</td>\n",
       "      <td>0</td>\n",
       "      <td>0</td>\n",
       "    </tr>\n",
       "    <tr>\n",
       "      <th>2</th>\n",
       "      <td>3wkua54j6jfqfp0cs1z3g099wpxl2hg7</td>\n",
       "      <td>1</td>\n",
       "      <td>1</td>\n",
       "      <td>None</td>\n",
       "      <td>6</td>\n",
       "      <td>6</td>\n",
       "      <td>1</td>\n",
       "      <td>6</td>\n",
       "      <td>3</td>\n",
       "      <td>None</td>\n",
       "      <td>...</td>\n",
       "      <td>4</td>\n",
       "      <td>1</td>\n",
       "      <td>0</td>\n",
       "      <td>0</td>\n",
       "      <td>None</td>\n",
       "      <td>29</td>\n",
       "      <td>4</td>\n",
       "      <td>4</td>\n",
       "      <td>6</td>\n",
       "      <td>1</td>\n",
       "    </tr>\n",
       "    <tr>\n",
       "      <th>3</th>\n",
       "      <td>m0gk2vs0tow310b630bhy41ke11kfa6h</td>\n",
       "      <td>1</td>\n",
       "      <td>1</td>\n",
       "      <td>None</td>\n",
       "      <td>43</td>\n",
       "      <td>4</td>\n",
       "      <td>1</td>\n",
       "      <td>4</td>\n",
       "      <td>3</td>\n",
       "      <td>None</td>\n",
       "      <td>...</td>\n",
       "      <td>0</td>\n",
       "      <td>5</td>\n",
       "      <td>0</td>\n",
       "      <td>0</td>\n",
       "      <td>None</td>\n",
       "      <td>20</td>\n",
       "      <td>4</td>\n",
       "      <td>0</td>\n",
       "      <td>3</td>\n",
       "      <td>3</td>\n",
       "    </tr>\n",
       "    <tr>\n",
       "      <th>4</th>\n",
       "      <td>16mroxzd2kkdvgpvykfhz3wq339gb32f</td>\n",
       "      <td>1</td>\n",
       "      <td>1</td>\n",
       "      <td>None</td>\n",
       "      <td>34</td>\n",
       "      <td>1</td>\n",
       "      <td>1</td>\n",
       "      <td>1</td>\n",
       "      <td>1</td>\n",
       "      <td>None</td>\n",
       "      <td>...</td>\n",
       "      <td>0</td>\n",
       "      <td>0</td>\n",
       "      <td>0</td>\n",
       "      <td>0</td>\n",
       "      <td>None</td>\n",
       "      <td>23</td>\n",
       "      <td>4</td>\n",
       "      <td>1</td>\n",
       "      <td>2</td>\n",
       "      <td>2</td>\n",
       "    </tr>\n",
       "  </tbody>\n",
       "</table>\n",
       "<p>5 rows × 63 columns</p>\n",
       "</div>"
      ],
      "text/plain": [
       "                                 id  consent  attention q0_score  q0_index  \\\n",
       "0  wqmklle9knovdz6pvearx318fagmsecg        1          0     None        23   \n",
       "1  betq5c7rrf8uww44hwctrcukvud4gl1j        1          1     None        20   \n",
       "2  3wkua54j6jfqfp0cs1z3g099wpxl2hg7        1          1     None         6   \n",
       "3  m0gk2vs0tow310b630bhy41ke11kfa6h        1          1     None        43   \n",
       "4  16mroxzd2kkdvgpvykfhz3wq339gb32f        1          1     None        34   \n",
       "\n",
       "   q0_j0  q0_j1  q0_j2  q0_j3 q1_score  ...    q8_j0  q8_j1  q8_j2  q8_j3  \\\n",
       "0      2      4      4      3     None  ...        5      4      4      4   \n",
       "1      6      0      6      5     None  ...        0      0      0      0   \n",
       "2      6      1      6      3     None  ...        4      1      0      0   \n",
       "3      4      1      4      3     None  ...        0      5      0      0   \n",
       "4      1      1      1      1     None  ...        0      0      0      0   \n",
       "\n",
       "   q9_score q9_index  q9_j0  q9_j1  q9_j2  q9_j3  \n",
       "0      None       33      4      4      3      2  \n",
       "1      None       46      0      0      0      0  \n",
       "2      None       29      4      4      6      1  \n",
       "3      None       20      4      0      3      3  \n",
       "4      None       23      4      1      2      2  \n",
       "\n",
       "[5 rows x 63 columns]"
      ]
     },
     "execution_count": 13,
     "metadata": {},
     "output_type": "execute_result"
    }
   ],
   "source": [
    "data = pd.DataFrame(data)\n",
    "sample_size = len(data)\n",
    "data.head()"
   ]
  },
  {
   "cell_type": "code",
   "execution_count": 14,
   "metadata": {
    "collapsed": false,
    "scrolled": true
   },
   "outputs": [
    {
     "name": "stdout",
     "output_type": "stream",
     "text": [
      "58 3654\n",
      "58 3654\n",
      "56 3528\n",
      "Inclusion: 96.55% \n"
     ]
    }
   ],
   "source": [
    "print(len(data), data.size)\n",
    "data = data[data.consent == 1]\n",
    "print(len(data), data.size)\n",
    "data = data[data.attention == 1]\n",
    "print(len(data), data.size)\n",
    "\n",
    "print('Inclusion: {:.4}% '.format(len(data) / sample_size * 100))"
   ]
  },
  {
   "cell_type": "code",
   "execution_count": 17,
   "metadata": {
    "collapsed": false
   },
   "outputs": [
    {
     "data": {
      "image/png": "[encoded data removed]",
      "text/plain": [
       "<Figure size 432x288 with 1 Axes>"
      ]
     },
     "metadata": {
      "image/png": {
       "height": 250,
       "width": 364
      },
      "needs_background": "light"
     },
     "output_type": "display_data"
    },
    {
     "name": "stdout",
     "output_type": "stream",
     "text": [
      "[[6 6 5 5 6 6 5 6 6 6 6 6 5 5 6 6 5 6 6 5 5 6 5 5 5 6 5 5 6 6 6 6 6 5 6 6\n",
      "  6 6 5 6]]\n"
     ]
    },
    {
     "name": "stderr",
     "output_type": "stream",
     "text": [
      "/Users/hermish/anaconda/lib/python3.6/site-packages/numpy/core/fromnumeric.py:51: FutureWarning: 'argmin' is deprecated, use 'idxmin' instead. The behavior of 'argmin'\n",
      "will be corrected to return the positional minimum in the future.\n",
      "Use 'series.values.argmin' to get the position of the minimum now.\n",
      "  return getattr(obj, method)(*args, **kwds)\n"
     ]
    }
   ],
   "source": [
    "judgments = []\n",
    "for q_num in range(QUESTIONS):\n",
    "    for j_num in range(JUDGMENTS):\n",
    "        judgments.append('q{}_j{}'.format(q_num, j_num))\n",
    "scores = data[judgments]\n",
    "data['j_mean'] = scores.mean(axis=1)\n",
    "data['j_std'] =scores.std(axis=1)\n",
    "\n",
    "plt.hist(data['j_std'], bins=20)\n",
    "plt.show()\n",
    "\n",
    "index = np.argmin(data['j_std'])\n",
    "print(scores.loc[[index]].values)"
   ]
  },
  {
   "cell_type": "code",
   "execution_count": 18,
   "metadata": {
    "collapsed": false
   },
   "outputs": [
    {
     "name": "stdout",
     "output_type": "stream",
     "text": [
      "56 3640\n",
      "[[5 5 4 6 5 5 5 5 5 3 4 3 3 3 4 2 3 3 3 3 4 5 4 3 4 4 4 4 4 4 4 4 3 3 3 3\n",
      "  4 4 4 4]]\n",
      "Inclusion: 94.83% \n"
     ]
    }
   ],
   "source": [
    "print(len(data), data.size)\n",
    "data = data[data.j_std > 0.75]\n",
    "index = np.argmin(data['j_std'])\n",
    "print(scores.loc[[index]].values)\n",
    "print('Inclusion: {:.4}% '.format(len(data) / sample_size * 100))"
   ]
  },
  {
   "cell_type": "markdown",
   "metadata": {},
   "source": [
    "## Analysis"
   ]
  },
  {
   "cell_type": "code",
   "execution_count": 22,
   "metadata": {
    "collapsed": true
   },
   "outputs": [],
   "source": [
    "for j_num in range(JUDGMENTS):\n",
    "    headings = []\n",
    "    for q_num in range(QUESTIONS):\n",
    "        headings.append('q{}_j{}'.format(q_num, j_num))\n",
    "\n",
    "    rating_mean = data[headings].mean(axis=1)\n",
    "    data['j{}_mean'.format(j_num)] = rating_mean"
   ]
  },
  {
   "cell_type": "code",
   "execution_count": 24,
   "metadata": {
    "collapsed": false
   },
   "outputs": [
    {
     "name": "stdout",
     "output_type": "stream",
     "text": [
      "[3.354545454545454, 1.7018181818181817, 2.590909090909091, 2.1236363636363644]\n",
      "[0.15345226353482316, 0.17669793718088275, 0.16361391540748563, 0.16516421042855844]\n"
     ]
    }
   ],
   "source": [
    "means, errs = [], []\n",
    "for j_num in range(JUDGMENTS):\n",
    "    values = data['j{}_mean'.format(j_num)]\n",
    "    means.append(values.mean())\n",
    "    errs.append(stats.sem(values))\n",
    "\n",
    "print(means)\n",
    "print(errs)"
   ]
  },
  {
   "cell_type": "code",
   "execution_count": 29,
   "metadata": {
    "collapsed": false
   },
   "outputs": [
    {
     "data": {
      "image/png": "[encoded data removed]",
      "text/plain": [
       "<Figure size 432x288 with 1 Axes>"
      ]
     },
     "metadata": {
      "image/png": {
       "height": 263,
       "width": 387
      },
      "needs_background": "light"
     },
     "output_type": "display_data"
    }
   ],
   "source": [
    "PLOTTING_OPTIONS = {\n",
    "    'ylabel': 'Ratings',\n",
    "    'ticks': ['Curiosity', 'Confidence', 'Usefulness', 'Social Utility'],\n",
    "    'title': 'All Questions'\n",
    "}\n",
    "plotting.plot_single_bar(means, errs, **PLOTTING_OPTIONS)"
   ]
  },
  {
   "cell_type": "code",
   "execution_count": null,
   "metadata": {
    "collapsed": true
   },
   "outputs": [],
   "source": []
  }
 ],
 "metadata": {
  "kernel_info": {
   "name": "python3"
  },
  "kernelspec": {
   "display_name": "Python 3",
   "language": "python",
   "name": "python3"
  },
  "language_info": {
   "codemirror_mode": {
    "name": "ipython",
    "version": 3
   },
   "file_extension": ".py",
   "mimetype": "text/x-python",
   "name": "python",
   "nbconvert_exporter": "python",
   "pygments_lexer": "ipython3",
   "version": "3.5.3"
  },
  "nteract": {
   "version": "0.5.5"
  }
 },
 "nbformat": 4,
 "nbformat_minor": 2
}
